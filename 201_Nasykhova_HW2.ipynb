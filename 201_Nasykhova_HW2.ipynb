{
  "cells": [
    {
      "cell_type": "markdown",
      "metadata": {
        "id": "5Otfj8hsnJNy"
      },
      "source": [
        "# HSE 2022: Mathematical Methods for Data Analysis\n",
        "\n",
        "## Homework 2"
      ]
    },
    {
      "cell_type": "code",
      "execution_count": 60,
      "metadata": {
        "ExecuteTime": {
          "end_time": "2020-09-26T16:48:20.566549Z",
          "start_time": "2020-09-26T16:48:19.893995Z"
        },
        "id": "h2Dqv_5InJN0"
      },
      "outputs": [],
      "source": [
        "import pandas as pd\n",
        "import numpy as np\n",
        "import matplotlib.pyplot as plt\n",
        "import seaborn as sns\n",
        "import sklearn\n",
        "from sklearn import datasets\n",
        "from sklearn.model_selection import GridSearchCV\n",
        "from sklearn.model_selection import train_test_split\n",
        "from sklearn.linear_model import Lasso\n",
        "from sklearn.preprocessing import StandardScaler, LabelEncoder\n",
        "from sklearn.linear_model import LinearRegression, Ridge, Lasso, ElasticNet\n",
        "from sklearn.metrics import mean_squared_error, r2_score\n",
        "import statsmodels.api as sm\n",
        "from statsmodels.regression.linear_model import OLSResults\n",
        "import math\n",
        "from math import sqrt\n",
        "import random\n",
        "import sys\n",
        "\n",
        "import warnings\n",
        "warnings.filterwarnings(\"ignore\")\n",
        "\n",
        "%matplotlib inline\n",
        "\n",
        "sns.set(style=\"darkgrid\")"
      ]
    },
    {
      "cell_type": "markdown",
      "metadata": {
        "id": "qLzfoSp2nJN1"
      },
      "source": [
        "### Data\n",
        "\n",
        "For this homework we use Dataset from seaborn on diamonds prices."
      ]
    },
    {
      "cell_type": "code",
      "execution_count": 3,
      "metadata": {
        "id": "OcrKycsJnJN1"
      },
      "outputs": [],
      "source": [
        "data = sns.load_dataset('diamonds')\n",
        "\n",
        "y = data.price\n",
        "X = data.drop(['price'], axis=1)\n",
        "columns = data.drop(['price'], axis=1).columns"
      ]
    },
    {
      "cell_type": "markdown",
      "metadata": {
        "id": "MxT6HlAonJN2"
      },
      "source": [
        "## Linear regression"
      ]
    },
    {
      "cell_type": "markdown",
      "metadata": {
        "id": "i2ZIp3-CnJN2"
      },
      "source": [
        "#### 0. [0.25 points] Encode categorical variables."
      ]
    },
    {
      "cell_type": "code",
      "execution_count": 4,
      "metadata": {
        "id": "e8pyIlCqnJN2",
        "colab": {
          "base_uri": "https://localhost:8080/",
          "height": 206
        },
        "outputId": "4a759b1d-9d3b-444d-a14c-2019367677ff"
      },
      "outputs": [
        {
          "output_type": "execute_result",
          "data": {
            "text/plain": [
              "   carat      cut color clarity  depth  table     x     y     z\n",
              "0   0.23    Ideal     E     SI2   61.5   55.0  3.95  3.98  2.43\n",
              "1   0.21  Premium     E     SI1   59.8   61.0  3.89  3.84  2.31\n",
              "2   0.23     Good     E     VS1   56.9   65.0  4.05  4.07  2.31\n",
              "3   0.29  Premium     I     VS2   62.4   58.0  4.20  4.23  2.63\n",
              "4   0.31     Good     J     SI2   63.3   58.0  4.34  4.35  2.75"
            ],
            "text/html": [
              "\n",
              "  <div id=\"df-fed693cc-40d7-494b-bd78-bcea1ff83be1\">\n",
              "    <div class=\"colab-df-container\">\n",
              "      <div>\n",
              "<style scoped>\n",
              "    .dataframe tbody tr th:only-of-type {\n",
              "        vertical-align: middle;\n",
              "    }\n",
              "\n",
              "    .dataframe tbody tr th {\n",
              "        vertical-align: top;\n",
              "    }\n",
              "\n",
              "    .dataframe thead th {\n",
              "        text-align: right;\n",
              "    }\n",
              "</style>\n",
              "<table border=\"1\" class=\"dataframe\">\n",
              "  <thead>\n",
              "    <tr style=\"text-align: right;\">\n",
              "      <th></th>\n",
              "      <th>carat</th>\n",
              "      <th>cut</th>\n",
              "      <th>color</th>\n",
              "      <th>clarity</th>\n",
              "      <th>depth</th>\n",
              "      <th>table</th>\n",
              "      <th>x</th>\n",
              "      <th>y</th>\n",
              "      <th>z</th>\n",
              "    </tr>\n",
              "  </thead>\n",
              "  <tbody>\n",
              "    <tr>\n",
              "      <th>0</th>\n",
              "      <td>0.23</td>\n",
              "      <td>Ideal</td>\n",
              "      <td>E</td>\n",
              "      <td>SI2</td>\n",
              "      <td>61.5</td>\n",
              "      <td>55.0</td>\n",
              "      <td>3.95</td>\n",
              "      <td>3.98</td>\n",
              "      <td>2.43</td>\n",
              "    </tr>\n",
              "    <tr>\n",
              "      <th>1</th>\n",
              "      <td>0.21</td>\n",
              "      <td>Premium</td>\n",
              "      <td>E</td>\n",
              "      <td>SI1</td>\n",
              "      <td>59.8</td>\n",
              "      <td>61.0</td>\n",
              "      <td>3.89</td>\n",
              "      <td>3.84</td>\n",
              "      <td>2.31</td>\n",
              "    </tr>\n",
              "    <tr>\n",
              "      <th>2</th>\n",
              "      <td>0.23</td>\n",
              "      <td>Good</td>\n",
              "      <td>E</td>\n",
              "      <td>VS1</td>\n",
              "      <td>56.9</td>\n",
              "      <td>65.0</td>\n",
              "      <td>4.05</td>\n",
              "      <td>4.07</td>\n",
              "      <td>2.31</td>\n",
              "    </tr>\n",
              "    <tr>\n",
              "      <th>3</th>\n",
              "      <td>0.29</td>\n",
              "      <td>Premium</td>\n",
              "      <td>I</td>\n",
              "      <td>VS2</td>\n",
              "      <td>62.4</td>\n",
              "      <td>58.0</td>\n",
              "      <td>4.20</td>\n",
              "      <td>4.23</td>\n",
              "      <td>2.63</td>\n",
              "    </tr>\n",
              "    <tr>\n",
              "      <th>4</th>\n",
              "      <td>0.31</td>\n",
              "      <td>Good</td>\n",
              "      <td>J</td>\n",
              "      <td>SI2</td>\n",
              "      <td>63.3</td>\n",
              "      <td>58.0</td>\n",
              "      <td>4.34</td>\n",
              "      <td>4.35</td>\n",
              "      <td>2.75</td>\n",
              "    </tr>\n",
              "  </tbody>\n",
              "</table>\n",
              "</div>\n",
              "      <button class=\"colab-df-convert\" onclick=\"convertToInteractive('df-fed693cc-40d7-494b-bd78-bcea1ff83be1')\"\n",
              "              title=\"Convert this dataframe to an interactive table.\"\n",
              "              style=\"display:none;\">\n",
              "        \n",
              "  <svg xmlns=\"http://www.w3.org/2000/svg\" height=\"24px\"viewBox=\"0 0 24 24\"\n",
              "       width=\"24px\">\n",
              "    <path d=\"M0 0h24v24H0V0z\" fill=\"none\"/>\n",
              "    <path d=\"M18.56 5.44l.94 2.06.94-2.06 2.06-.94-2.06-.94-.94-2.06-.94 2.06-2.06.94zm-11 1L8.5 8.5l.94-2.06 2.06-.94-2.06-.94L8.5 2.5l-.94 2.06-2.06.94zm10 10l.94 2.06.94-2.06 2.06-.94-2.06-.94-.94-2.06-.94 2.06-2.06.94z\"/><path d=\"M17.41 7.96l-1.37-1.37c-.4-.4-.92-.59-1.43-.59-.52 0-1.04.2-1.43.59L10.3 9.45l-7.72 7.72c-.78.78-.78 2.05 0 2.83L4 21.41c.39.39.9.59 1.41.59.51 0 1.02-.2 1.41-.59l7.78-7.78 2.81-2.81c.8-.78.8-2.07 0-2.86zM5.41 20L4 18.59l7.72-7.72 1.47 1.35L5.41 20z\"/>\n",
              "  </svg>\n",
              "      </button>\n",
              "      \n",
              "  <style>\n",
              "    .colab-df-container {\n",
              "      display:flex;\n",
              "      flex-wrap:wrap;\n",
              "      gap: 12px;\n",
              "    }\n",
              "\n",
              "    .colab-df-convert {\n",
              "      background-color: #E8F0FE;\n",
              "      border: none;\n",
              "      border-radius: 50%;\n",
              "      cursor: pointer;\n",
              "      display: none;\n",
              "      fill: #1967D2;\n",
              "      height: 32px;\n",
              "      padding: 0 0 0 0;\n",
              "      width: 32px;\n",
              "    }\n",
              "\n",
              "    .colab-df-convert:hover {\n",
              "      background-color: #E2EBFA;\n",
              "      box-shadow: 0px 1px 2px rgba(60, 64, 67, 0.3), 0px 1px 3px 1px rgba(60, 64, 67, 0.15);\n",
              "      fill: #174EA6;\n",
              "    }\n",
              "\n",
              "    [theme=dark] .colab-df-convert {\n",
              "      background-color: #3B4455;\n",
              "      fill: #D2E3FC;\n",
              "    }\n",
              "\n",
              "    [theme=dark] .colab-df-convert:hover {\n",
              "      background-color: #434B5C;\n",
              "      box-shadow: 0px 1px 3px 1px rgba(0, 0, 0, 0.15);\n",
              "      filter: drop-shadow(0px 1px 2px rgba(0, 0, 0, 0.3));\n",
              "      fill: #FFFFFF;\n",
              "    }\n",
              "  </style>\n",
              "\n",
              "      <script>\n",
              "        const buttonEl =\n",
              "          document.querySelector('#df-fed693cc-40d7-494b-bd78-bcea1ff83be1 button.colab-df-convert');\n",
              "        buttonEl.style.display =\n",
              "          google.colab.kernel.accessAllowed ? 'block' : 'none';\n",
              "\n",
              "        async function convertToInteractive(key) {\n",
              "          const element = document.querySelector('#df-fed693cc-40d7-494b-bd78-bcea1ff83be1');\n",
              "          const dataTable =\n",
              "            await google.colab.kernel.invokeFunction('convertToInteractive',\n",
              "                                                     [key], {});\n",
              "          if (!dataTable) return;\n",
              "\n",
              "          const docLinkHtml = 'Like what you see? Visit the ' +\n",
              "            '<a target=\"_blank\" href=https://colab.research.google.com/notebooks/data_table.ipynb>data table notebook</a>'\n",
              "            + ' to learn more about interactive tables.';\n",
              "          element.innerHTML = '';\n",
              "          dataTable['output_type'] = 'display_data';\n",
              "          await google.colab.output.renderOutput(dataTable, element);\n",
              "          const docLink = document.createElement('div');\n",
              "          docLink.innerHTML = docLinkHtml;\n",
              "          element.appendChild(docLink);\n",
              "        }\n",
              "      </script>\n",
              "    </div>\n",
              "  </div>\n",
              "  "
            ]
          },
          "metadata": {},
          "execution_count": 4
        }
      ],
      "source": [
        "X.head()"
      ]
    },
    {
      "cell_type": "code",
      "source": [
        "print(X.cut.unique())\n",
        "print(X.color.unique())\n",
        "print(X.clarity.unique())"
      ],
      "metadata": {
        "colab": {
          "base_uri": "https://localhost:8080/"
        },
        "id": "8KOtmxiMd3nv",
        "outputId": "177b9d79-5d5d-452c-c308-c5d1eb2df850"
      },
      "execution_count": 5,
      "outputs": [
        {
          "output_type": "stream",
          "name": "stdout",
          "text": [
            "['Ideal', 'Premium', 'Good', 'Very Good', 'Fair']\n",
            "Categories (5, object): ['Ideal', 'Premium', 'Very Good', 'Good', 'Fair']\n",
            "['E', 'I', 'J', 'H', 'F', 'G', 'D']\n",
            "Categories (7, object): ['D', 'E', 'F', 'G', 'H', 'I', 'J']\n",
            "['SI2', 'SI1', 'VS1', 'VS2', 'VVS2', 'VVS1', 'I1', 'IF']\n",
            "Categories (8, object): ['IF', 'VVS1', 'VVS2', 'VS1', 'VS2', 'SI1', 'SI2', 'I1']\n"
          ]
        }
      ]
    },
    {
      "cell_type": "markdown",
      "source": [
        "1) Cut\n",
        "\n",
        "Значения категориальной переменной являются порядковыми: Very good лучше, чем Good => используем Label Encoding\n",
        "\n",
        "2) Color\n",
        "\n",
        "Значения категориальной переменной являются порядковыми: J - худший, D - лучший => Label Encoding\n",
        "\n",
        "3) Clarity\n",
        "\n",
        "=> One Hot Encoding\n"
      ],
      "metadata": {
        "id": "9ZX36NHYigNJ"
      }
    },
    {
      "cell_type": "code",
      "source": [
        "from sklearn import preprocessing\n",
        "encoder = preprocessing.LabelEncoder()\n",
        "X.color = encoder.fit_transform(X.color)\n",
        "X.color.unique()"
      ],
      "metadata": {
        "colab": {
          "base_uri": "https://localhost:8080/"
        },
        "id": "DXZsEsi6d9ds",
        "outputId": "cee59b1e-c245-48f4-d36f-beca2e42b385"
      },
      "execution_count": 6,
      "outputs": [
        {
          "output_type": "execute_result",
          "data": {
            "text/plain": [
              "array([1, 5, 6, 4, 2, 3, 0])"
            ]
          },
          "metadata": {},
          "execution_count": 6
        }
      ]
    },
    {
      "cell_type": "code",
      "source": [
        "X.cut = encoder.fit_transform(X.cut)\n",
        "X.cut.unique()"
      ],
      "metadata": {
        "colab": {
          "base_uri": "https://localhost:8080/"
        },
        "id": "d2Go-mjCni-D",
        "outputId": "45b9d19b-baf8-4aca-82ec-268a5acbd33f"
      },
      "execution_count": 7,
      "outputs": [
        {
          "output_type": "execute_result",
          "data": {
            "text/plain": [
              "array([2, 3, 1, 4, 0])"
            ]
          },
          "metadata": {},
          "execution_count": 7
        }
      ]
    },
    {
      "cell_type": "code",
      "source": [
        "X = pd.get_dummies(data=X, columns=['clarity'], drop_first = True)\n",
        "X.head()"
      ],
      "metadata": {
        "colab": {
          "base_uri": "https://localhost:8080/",
          "height": 206
        },
        "id": "58suBg3pnqt-",
        "outputId": "3b777a96-6931-49ff-95ec-0cc017cb361a"
      },
      "execution_count": 8,
      "outputs": [
        {
          "output_type": "execute_result",
          "data": {
            "text/plain": [
              "   carat  cut  color  depth  table     x     y     z  clarity_VVS1  \\\n",
              "0   0.23    2      1   61.5   55.0  3.95  3.98  2.43             0   \n",
              "1   0.21    3      1   59.8   61.0  3.89  3.84  2.31             0   \n",
              "2   0.23    1      1   56.9   65.0  4.05  4.07  2.31             0   \n",
              "3   0.29    3      5   62.4   58.0  4.20  4.23  2.63             0   \n",
              "4   0.31    1      6   63.3   58.0  4.34  4.35  2.75             0   \n",
              "\n",
              "   clarity_VVS2  clarity_VS1  clarity_VS2  clarity_SI1  clarity_SI2  \\\n",
              "0             0            0            0            0            1   \n",
              "1             0            0            0            1            0   \n",
              "2             0            1            0            0            0   \n",
              "3             0            0            1            0            0   \n",
              "4             0            0            0            0            1   \n",
              "\n",
              "   clarity_I1  \n",
              "0           0  \n",
              "1           0  \n",
              "2           0  \n",
              "3           0  \n",
              "4           0  "
            ],
            "text/html": [
              "\n",
              "  <div id=\"df-e4ff8ca1-dcaf-4be5-b0c9-55272320d3e1\">\n",
              "    <div class=\"colab-df-container\">\n",
              "      <div>\n",
              "<style scoped>\n",
              "    .dataframe tbody tr th:only-of-type {\n",
              "        vertical-align: middle;\n",
              "    }\n",
              "\n",
              "    .dataframe tbody tr th {\n",
              "        vertical-align: top;\n",
              "    }\n",
              "\n",
              "    .dataframe thead th {\n",
              "        text-align: right;\n",
              "    }\n",
              "</style>\n",
              "<table border=\"1\" class=\"dataframe\">\n",
              "  <thead>\n",
              "    <tr style=\"text-align: right;\">\n",
              "      <th></th>\n",
              "      <th>carat</th>\n",
              "      <th>cut</th>\n",
              "      <th>color</th>\n",
              "      <th>depth</th>\n",
              "      <th>table</th>\n",
              "      <th>x</th>\n",
              "      <th>y</th>\n",
              "      <th>z</th>\n",
              "      <th>clarity_VVS1</th>\n",
              "      <th>clarity_VVS2</th>\n",
              "      <th>clarity_VS1</th>\n",
              "      <th>clarity_VS2</th>\n",
              "      <th>clarity_SI1</th>\n",
              "      <th>clarity_SI2</th>\n",
              "      <th>clarity_I1</th>\n",
              "    </tr>\n",
              "  </thead>\n",
              "  <tbody>\n",
              "    <tr>\n",
              "      <th>0</th>\n",
              "      <td>0.23</td>\n",
              "      <td>2</td>\n",
              "      <td>1</td>\n",
              "      <td>61.5</td>\n",
              "      <td>55.0</td>\n",
              "      <td>3.95</td>\n",
              "      <td>3.98</td>\n",
              "      <td>2.43</td>\n",
              "      <td>0</td>\n",
              "      <td>0</td>\n",
              "      <td>0</td>\n",
              "      <td>0</td>\n",
              "      <td>0</td>\n",
              "      <td>1</td>\n",
              "      <td>0</td>\n",
              "    </tr>\n",
              "    <tr>\n",
              "      <th>1</th>\n",
              "      <td>0.21</td>\n",
              "      <td>3</td>\n",
              "      <td>1</td>\n",
              "      <td>59.8</td>\n",
              "      <td>61.0</td>\n",
              "      <td>3.89</td>\n",
              "      <td>3.84</td>\n",
              "      <td>2.31</td>\n",
              "      <td>0</td>\n",
              "      <td>0</td>\n",
              "      <td>0</td>\n",
              "      <td>0</td>\n",
              "      <td>1</td>\n",
              "      <td>0</td>\n",
              "      <td>0</td>\n",
              "    </tr>\n",
              "    <tr>\n",
              "      <th>2</th>\n",
              "      <td>0.23</td>\n",
              "      <td>1</td>\n",
              "      <td>1</td>\n",
              "      <td>56.9</td>\n",
              "      <td>65.0</td>\n",
              "      <td>4.05</td>\n",
              "      <td>4.07</td>\n",
              "      <td>2.31</td>\n",
              "      <td>0</td>\n",
              "      <td>0</td>\n",
              "      <td>1</td>\n",
              "      <td>0</td>\n",
              "      <td>0</td>\n",
              "      <td>0</td>\n",
              "      <td>0</td>\n",
              "    </tr>\n",
              "    <tr>\n",
              "      <th>3</th>\n",
              "      <td>0.29</td>\n",
              "      <td>3</td>\n",
              "      <td>5</td>\n",
              "      <td>62.4</td>\n",
              "      <td>58.0</td>\n",
              "      <td>4.20</td>\n",
              "      <td>4.23</td>\n",
              "      <td>2.63</td>\n",
              "      <td>0</td>\n",
              "      <td>0</td>\n",
              "      <td>0</td>\n",
              "      <td>1</td>\n",
              "      <td>0</td>\n",
              "      <td>0</td>\n",
              "      <td>0</td>\n",
              "    </tr>\n",
              "    <tr>\n",
              "      <th>4</th>\n",
              "      <td>0.31</td>\n",
              "      <td>1</td>\n",
              "      <td>6</td>\n",
              "      <td>63.3</td>\n",
              "      <td>58.0</td>\n",
              "      <td>4.34</td>\n",
              "      <td>4.35</td>\n",
              "      <td>2.75</td>\n",
              "      <td>0</td>\n",
              "      <td>0</td>\n",
              "      <td>0</td>\n",
              "      <td>0</td>\n",
              "      <td>0</td>\n",
              "      <td>1</td>\n",
              "      <td>0</td>\n",
              "    </tr>\n",
              "  </tbody>\n",
              "</table>\n",
              "</div>\n",
              "      <button class=\"colab-df-convert\" onclick=\"convertToInteractive('df-e4ff8ca1-dcaf-4be5-b0c9-55272320d3e1')\"\n",
              "              title=\"Convert this dataframe to an interactive table.\"\n",
              "              style=\"display:none;\">\n",
              "        \n",
              "  <svg xmlns=\"http://www.w3.org/2000/svg\" height=\"24px\"viewBox=\"0 0 24 24\"\n",
              "       width=\"24px\">\n",
              "    <path d=\"M0 0h24v24H0V0z\" fill=\"none\"/>\n",
              "    <path d=\"M18.56 5.44l.94 2.06.94-2.06 2.06-.94-2.06-.94-.94-2.06-.94 2.06-2.06.94zm-11 1L8.5 8.5l.94-2.06 2.06-.94-2.06-.94L8.5 2.5l-.94 2.06-2.06.94zm10 10l.94 2.06.94-2.06 2.06-.94-2.06-.94-.94-2.06-.94 2.06-2.06.94z\"/><path d=\"M17.41 7.96l-1.37-1.37c-.4-.4-.92-.59-1.43-.59-.52 0-1.04.2-1.43.59L10.3 9.45l-7.72 7.72c-.78.78-.78 2.05 0 2.83L4 21.41c.39.39.9.59 1.41.59.51 0 1.02-.2 1.41-.59l7.78-7.78 2.81-2.81c.8-.78.8-2.07 0-2.86zM5.41 20L4 18.59l7.72-7.72 1.47 1.35L5.41 20z\"/>\n",
              "  </svg>\n",
              "      </button>\n",
              "      \n",
              "  <style>\n",
              "    .colab-df-container {\n",
              "      display:flex;\n",
              "      flex-wrap:wrap;\n",
              "      gap: 12px;\n",
              "    }\n",
              "\n",
              "    .colab-df-convert {\n",
              "      background-color: #E8F0FE;\n",
              "      border: none;\n",
              "      border-radius: 50%;\n",
              "      cursor: pointer;\n",
              "      display: none;\n",
              "      fill: #1967D2;\n",
              "      height: 32px;\n",
              "      padding: 0 0 0 0;\n",
              "      width: 32px;\n",
              "    }\n",
              "\n",
              "    .colab-df-convert:hover {\n",
              "      background-color: #E2EBFA;\n",
              "      box-shadow: 0px 1px 2px rgba(60, 64, 67, 0.3), 0px 1px 3px 1px rgba(60, 64, 67, 0.15);\n",
              "      fill: #174EA6;\n",
              "    }\n",
              "\n",
              "    [theme=dark] .colab-df-convert {\n",
              "      background-color: #3B4455;\n",
              "      fill: #D2E3FC;\n",
              "    }\n",
              "\n",
              "    [theme=dark] .colab-df-convert:hover {\n",
              "      background-color: #434B5C;\n",
              "      box-shadow: 0px 1px 3px 1px rgba(0, 0, 0, 0.15);\n",
              "      filter: drop-shadow(0px 1px 2px rgba(0, 0, 0, 0.3));\n",
              "      fill: #FFFFFF;\n",
              "    }\n",
              "  </style>\n",
              "\n",
              "      <script>\n",
              "        const buttonEl =\n",
              "          document.querySelector('#df-e4ff8ca1-dcaf-4be5-b0c9-55272320d3e1 button.colab-df-convert');\n",
              "        buttonEl.style.display =\n",
              "          google.colab.kernel.accessAllowed ? 'block' : 'none';\n",
              "\n",
              "        async function convertToInteractive(key) {\n",
              "          const element = document.querySelector('#df-e4ff8ca1-dcaf-4be5-b0c9-55272320d3e1');\n",
              "          const dataTable =\n",
              "            await google.colab.kernel.invokeFunction('convertToInteractive',\n",
              "                                                     [key], {});\n",
              "          if (!dataTable) return;\n",
              "\n",
              "          const docLinkHtml = 'Like what you see? Visit the ' +\n",
              "            '<a target=\"_blank\" href=https://colab.research.google.com/notebooks/data_table.ipynb>data table notebook</a>'\n",
              "            + ' to learn more about interactive tables.';\n",
              "          element.innerHTML = '';\n",
              "          dataTable['output_type'] = 'display_data';\n",
              "          await google.colab.output.renderOutput(dataTable, element);\n",
              "          const docLink = document.createElement('div');\n",
              "          docLink.innerHTML = docLinkHtml;\n",
              "          element.appendChild(docLink);\n",
              "        }\n",
              "      </script>\n",
              "    </div>\n",
              "  </div>\n",
              "  "
            ]
          },
          "metadata": {},
          "execution_count": 8
        }
      ]
    },
    {
      "cell_type": "markdown",
      "metadata": {
        "id": "-2TBc5uZnJN2"
      },
      "source": [
        "#### 1. [0.25 points] Split the data into train and test sets with ratio 80:20 with random_state=17."
      ]
    },
    {
      "cell_type": "code",
      "execution_count": 9,
      "metadata": {
        "id": "Fj5aCV0znJN3"
      },
      "outputs": [],
      "source": [
        "X_train, X_test, y_train, y_test = train_test_split(X, y, test_size = 0.2, random_state = 17)"
      ]
    },
    {
      "cell_type": "markdown",
      "metadata": {
        "id": "V3OsMOgnnJN3"
      },
      "source": [
        "#### 2. [1 point] Train models on train data using StatsModels library and apply it to the test set; use $RMSE$ and $R^2$ as the quality measure.\n",
        "\n",
        "* [`LinearRegression`](http://scikit-learn.org/stable/modules/generated/sklearn.linear_model.LinearRegression.html);\n",
        "* [`Ridge`](http://scikit-learn.org/stable/modules/generated/sklearn.linear_model.Ridge.html) with $\\alpha = 0.01$;\n",
        "* [`Lasso`](http://scikit-learn.org/stable/modules/generated/sklearn.linear_model.Lasso.html) with $\\alpha = 0.01$\n",
        "* [`ElasticNet`](https://scikit-learn.org/stable/modules/generated/sklearn.linear_model.ElasticNet.html) with $\\alpha = 0.01$, $l_{1}$_$ratio = 0.6$\n",
        "\n",
        "Don't forget to scale the data before training the models with StandardScaler!"
      ]
    },
    {
      "cell_type": "code",
      "execution_count": 10,
      "metadata": {
        "id": "iLD7OomEnJN4"
      },
      "outputs": [],
      "source": [
        "# Scale the data before training\n",
        "scaler = StandardScaler()\n",
        "X_train_scaled = scaler.fit_transform(X_train)\n",
        "X_test_scaled = scaler.transform(X_test)\n",
        "\n",
        "# Add the constant term to the data\n",
        "X_train_scaled = sm.add_constant(X_train_scaled)\n",
        "X_test_scaled = sm.add_constant(X_test_scaled)"
      ]
    },
    {
      "cell_type": "code",
      "source": [
        "## Linear Regression\n",
        "linear_regression = sm.OLS(y_train, X_train_scaled)\n",
        "linear_regression = linear_regression.fit()\n",
        "lr_pred = linear_regression.predict(X_test_scaled)\n",
        "\n",
        "# RMSE\n",
        "lr_rmse = mean_squared_error(y_test, lr_pred, squared = False)\n",
        "#R2\n",
        "lr_r2 = r2_score(y_test, lr_pred)\n",
        "print(f'Linear Regression: RMSE {lr_rmse} R2:{lr_r2}')"
      ],
      "metadata": {
        "colab": {
          "base_uri": "https://localhost:8080/"
        },
        "id": "Bbeb4GRnN0dL",
        "outputId": "9b6a2606-20ff-48d0-fde4-8a91f68f4828"
      },
      "execution_count": 11,
      "outputs": [
        {
          "output_type": "stream",
          "name": "stdout",
          "text": [
            "Linear Regression: RMSE 1178.9960913215941 R2:0.9141617585330128\n"
          ]
        }
      ]
    },
    {
      "cell_type": "code",
      "source": [
        "## Ridge Regression\n",
        "ridge_regression = sm.OLS(y_train, X_train_scaled)\n",
        "ridge_results_fu = ridge_regression.fit()\n",
        "ridge_results_fr = ridge_regression.fit_regularized(L1_wt=0, alpha=0.01, start_params=ridge_results_fu.params)\n",
        "    \n",
        "ridge_results = OLSResults(model=ridge_regression, \n",
        "                                             params=ridge_results_fr.params, \n",
        "                                             normalized_cov_params=ridge_regression.normalized_cov_params)\n",
        "r_pred = ridge_results.predict(X_test_scaled)\n",
        "\n",
        "# RMSE\n",
        "r_rmse = mean_squared_error(y_test, r_pred, squared = False)\n",
        "#R2\n",
        "r_r2 = r2_score(y_test, r_pred)\n",
        "print(f'Ridge Regression: RMSE {r_rmse} R2:{r_r2}')"
      ],
      "metadata": {
        "colab": {
          "base_uri": "https://localhost:8080/"
        },
        "id": "vn4EkwoNN-AN",
        "outputId": "16b6dd79-d8f3-4548-d9a1-cee3b9b0fa7e"
      },
      "execution_count": 12,
      "outputs": [
        {
          "output_type": "stream",
          "name": "stdout",
          "text": [
            "Ridge Regression: RMSE 1191.7519796009808 R2:0.9122942947243566\n"
          ]
        }
      ]
    },
    {
      "cell_type": "code",
      "source": [
        "## Lasso Regression\n",
        "lasso_regression = sm.OLS(y_train, X_train_scaled)\n",
        "lasso_results_fu = lasso_regression.fit()\n",
        "lasso_results_fr = lasso_regression.fit_regularized(L1_wt=1, alpha=0.01, start_params=lasso_results_fu.params)\n",
        "    \n",
        "lasso_results = OLSResults(model=lasso_regression, \n",
        "                                             params=lasso_results_fr.params, \n",
        "                                             normalized_cov_params=lasso_regression.normalized_cov_params)\n",
        "l_pred = lasso_results.predict(X_test_scaled)\n",
        "\n",
        "# RMSE\n",
        "l_rmse = mean_squared_error(y_test, l_pred, squared = False)\n",
        "#R2\n",
        "l_r2 = r2_score(y_test, l_pred)\n",
        "print(f'Lasso Regression: RMSE {l_rmse} R2:{l_r2}')"
      ],
      "metadata": {
        "colab": {
          "base_uri": "https://localhost:8080/"
        },
        "id": "XY1UeWU4O5_3",
        "outputId": "55f97b5d-c32a-46c8-d003-f7304b1a230f"
      },
      "execution_count": 13,
      "outputs": [
        {
          "output_type": "stream",
          "name": "stdout",
          "text": [
            "Lasso Regression: RMSE 1178.9915936859898 R2:0.9141624134434022\n"
          ]
        }
      ]
    },
    {
      "cell_type": "code",
      "source": [
        "## Elastic Net Regression\n",
        "elastic_net_regression = sm.OLS(y_train, X_train_scaled)\n",
        "elastic_net_results_fu = elastic_net_regression.fit()\n",
        "elastic_net_results_fr = elastic_net_regression.fit_regularized(method='elastic_net', \n",
        "                                                        L1_wt= 0.6, \n",
        "                                                        alpha=0.01, \n",
        "                                                        start_params=elastic_net_results_fu.params)\n",
        "     \n",
        "elastic_net_results = OLSResults(model=elastic_net_regression, \n",
        "                                    params=elastic_net_results_fr.params, \n",
        "                                    normalized_cov_params=elastic_net_regression.normalized_cov_params)\n",
        "en_pred = elastic_net_results.predict(X_test_scaled)\n",
        "\n",
        "# RMSE\n",
        "en_rmse = mean_squared_error(y_test, en_pred, squared = False)\n",
        "#R2\n",
        "en_r2 = r2_score(y_test, en_pred)\n",
        "print(f'Elastic Net Regression: RMSE {en_rmse} R2:{en_r2}')"
      ],
      "metadata": {
        "colab": {
          "base_uri": "https://localhost:8080/"
        },
        "id": "NFbHaPD9P-41",
        "outputId": "3d5aa629-2b14-43ed-8500-14dadedc5c81"
      },
      "execution_count": 14,
      "outputs": [
        {
          "output_type": "stream",
          "name": "stdout",
          "text": [
            "Elastic Net Regression: RMSE 1178.3400414740106 R2:0.9142572609654591\n"
          ]
        }
      ]
    },
    {
      "cell_type": "markdown",
      "metadata": {
        "id": "n6QNTxBanJN4"
      },
      "source": [
        "#### 3. [1 point] Explore the values of the parameters of the resulting models and compare the number of zero weights in them. Comment on the significance of the coefficients, overal model significance and other related factors from the results table"
      ]
    },
    {
      "cell_type": "code",
      "execution_count": 15,
      "metadata": {
        "id": "7WOXYSDQnJN4",
        "colab": {
          "base_uri": "https://localhost:8080/"
        },
        "outputId": "094a44bf-fb16-4337-909e-c37e9776c3f7"
      },
      "outputs": [
        {
          "output_type": "stream",
          "name": "stdout",
          "text": [
            "Linear Regression\n",
            "\n",
            "                            OLS Regression Results                            \n",
            "==============================================================================\n",
            "Dep. Variable:                  price   R-squared:                       0.916\n",
            "Model:                            OLS   Adj. R-squared:                  0.916\n",
            "Method:                 Least Squares   F-statistic:                 3.147e+04\n",
            "Date:                Sun, 16 Oct 2022   Prob (F-statistic):               0.00\n",
            "Time:                        13:18:34   Log-Likelihood:            -3.6542e+05\n",
            "No. Observations:               43152   AIC:                         7.309e+05\n",
            "Df Residuals:                   43136   BIC:                         7.310e+05\n",
            "Df Model:                          15                                         \n",
            "Covariance Type:            nonrobust                                         \n",
            "==============================================================================\n",
            "                 coef    std err          t      P>|t|      [0.025      0.975]\n",
            "------------------------------------------------------------------------------\n",
            "const       3928.6813      5.546    708.354      0.000    3917.811    3939.552\n",
            "x1          5310.4649     26.736    198.626      0.000    5258.062    5362.868\n",
            "x2            56.2076      5.712      9.840      0.000      45.011      67.404\n",
            "x3          -551.4766      5.890    -93.627      0.000    -563.021    -539.932\n",
            "x4          -144.9206      6.843    -21.177      0.000    -158.334    -131.508\n",
            "x5          -133.9661      6.015    -22.271      0.000    -145.756    -122.176\n",
            "x6         -1110.5048     41.525    -26.743      0.000   -1191.894   -1029.116\n",
            "x7             7.0641     25.226      0.280      0.779     -42.380      56.508\n",
            "x8           -47.6862     25.340     -1.882      0.060     -97.354       1.981\n",
            "x9           -97.6775      9.317    -10.484      0.000    -115.939     -79.416\n",
            "x10         -138.9692     10.308    -13.482      0.000    -159.173    -118.766\n",
            "x11         -315.5046     12.134    -26.002      0.000    -339.287    -291.722\n",
            "x12         -507.6055     13.806    -36.767      0.000    -534.666    -480.545\n",
            "x13         -784.3414     14.142    -55.461      0.000    -812.060    -756.623\n",
            "x14        -1048.8520     12.920    -81.179      0.000   -1074.176   -1023.528\n",
            "x15         -637.2208      6.695    -95.185      0.000    -650.342    -624.099\n",
            "==============================================================================\n",
            "Omnibus:                    10872.169   Durbin-Watson:                   1.997\n",
            "Prob(Omnibus):                  0.000   Jarque-Bera (JB):           300680.586\n",
            "Skew:                           0.611   Prob(JB):                         0.00\n",
            "Kurtosis:                      15.874   Cond. No.                         17.9\n",
            "==============================================================================\n",
            "\n",
            "Notes:\n",
            "[1] Standard Errors assume that the covariance matrix of the errors is correctly specified.\n",
            "\n",
            "******************************************\n",
            "\n",
            "Ridge Regression\n",
            "\n",
            "                            OLS Regression Results                            \n",
            "==============================================================================\n",
            "Dep. Variable:                  price   R-squared:                       0.913\n",
            "Model:                            OLS   Adj. R-squared:                  0.913\n",
            "Method:                 Least Squares   F-statistic:                 3.023e+04\n",
            "Date:                Sun, 16 Oct 2022   Prob (F-statistic):               0.00\n",
            "Time:                        13:18:34   Log-Likelihood:            -3.6621e+05\n",
            "No. Observations:               43152   AIC:                         7.324e+05\n",
            "Df Residuals:                   43136   BIC:                         7.326e+05\n",
            "Df Model:                          15                                         \n",
            "Covariance Type:            nonrobust                                         \n",
            "==============================================================================\n",
            "                 coef    std err          t      P>|t|      [0.025      0.975]\n",
            "------------------------------------------------------------------------------\n",
            "const       3889.7835      5.649    688.606      0.000    3878.712    3900.855\n",
            "x1          4291.0414     27.230    157.583      0.000    4237.669    4344.414\n",
            "x2            61.7034      5.818     10.606      0.000      50.300      73.107\n",
            "x3          -515.4231      5.999    -85.917      0.000    -527.181    -503.665\n",
            "x4           -91.8686      6.970    -13.181      0.000    -105.530     -78.208\n",
            "x5          -128.9998      6.127    -21.056      0.000    -141.008    -116.992\n",
            "x6          -137.5512     42.293     -3.252      0.001    -220.445     -54.657\n",
            "x7            18.5330     25.693      0.721      0.471     -31.825      68.891\n",
            "x8           -53.1194     25.809     -2.058      0.040    -103.705      -2.533\n",
            "x9           -22.3875      9.489     -2.359      0.018     -40.987      -3.788\n",
            "x10          -57.9479     10.498     -5.520      0.000     -78.525     -37.371\n",
            "x11         -227.6046     12.358    -18.417      0.000    -251.827    -203.382\n",
            "x12         -399.8608     14.061    -28.437      0.000    -427.421    -372.300\n",
            "x13         -681.6624     14.404    -47.326      0.000    -709.894    -653.431\n",
            "x14         -939.1002     13.159    -71.365      0.000    -964.892    -913.308\n",
            "x15         -590.1629      6.818    -86.555      0.000    -603.527    -576.799\n",
            "==============================================================================\n",
            "Omnibus:                    13255.629   Durbin-Watson:                   1.995\n",
            "Prob(Omnibus):                  0.000   Jarque-Bera (JB):           146856.469\n",
            "Skew:                           1.158   Prob(JB):                         0.00\n",
            "Kurtosis:                      11.736   Cond. No.                         17.9\n",
            "==============================================================================\n",
            "\n",
            "Notes:\n",
            "[1] Standard Errors assume that the covariance matrix of the errors is correctly specified.\n",
            "\n",
            "******************************************\n",
            "\n",
            "Lasso Regression\n",
            "\n",
            "                            OLS Regression Results                            \n",
            "==============================================================================\n",
            "Dep. Variable:                  price   R-squared:                       0.916\n",
            "Model:                            OLS   Adj. R-squared:                  0.916\n",
            "Method:                 Least Squares   F-statistic:                 3.147e+04\n",
            "Date:                Sun, 16 Oct 2022   Prob (F-statistic):               0.00\n",
            "Time:                        13:18:34   Log-Likelihood:            -3.6542e+05\n",
            "No. Observations:               43152   AIC:                         7.309e+05\n",
            "Df Residuals:                   43136   BIC:                         7.310e+05\n",
            "Df Model:                          15                                         \n",
            "Covariance Type:            nonrobust                                         \n",
            "==============================================================================\n",
            "                 coef    std err          t      P>|t|      [0.025      0.975]\n",
            "------------------------------------------------------------------------------\n",
            "const       3928.6713      5.546    708.353      0.000    3917.801    3939.542\n",
            "x1          5310.1659     26.736    198.615      0.000    5257.763    5362.569\n",
            "x2            56.1983      5.712      9.838      0.000      45.002      67.395\n",
            "x3          -551.4501      5.890    -93.622      0.000    -562.995    -539.905\n",
            "x4          -144.9157      6.843    -21.176      0.000    -158.329    -131.503\n",
            "x5          -133.9602      6.015    -22.270      0.000    -145.750    -122.170\n",
            "x6         -1109.9735     41.525    -26.730      0.000   -1191.363   -1028.584\n",
            "x7             6.6971     25.226      0.265      0.791     -42.747      56.141\n",
            "x8           -47.5817     25.340     -1.878      0.060     -97.249       2.086\n",
            "x9           -97.5017      9.317    -10.465      0.000    -115.763     -79.240\n",
            "x10         -138.7681     10.308    -13.462      0.000    -158.972    -118.565\n",
            "x11         -315.2635     12.134    -25.982      0.000    -339.046    -291.481\n",
            "x12         -507.3233     13.806    -36.746      0.000    -534.383    -480.263\n",
            "x13         -784.0562     14.142    -55.441      0.000    -811.775    -756.337\n",
            "x14        -1048.5931     12.920    -81.159      0.000   -1073.917   -1023.269\n",
            "x15         -637.1334      6.695    -95.172      0.000    -650.255    -624.012\n",
            "==============================================================================\n",
            "Omnibus:                    10873.749   Durbin-Watson:                   1.997\n",
            "Prob(Omnibus):                  0.000   Jarque-Bera (JB):           300654.500\n",
            "Skew:                           0.611   Prob(JB):                         0.00\n",
            "Kurtosis:                      15.873   Cond. No.                         17.9\n",
            "==============================================================================\n",
            "\n",
            "Notes:\n",
            "[1] Standard Errors assume that the covariance matrix of the errors is correctly specified.\n",
            "\n",
            "******************************************\n",
            "\n",
            "Elastic Net Regression\n",
            "\n",
            "                            OLS Regression Results                            \n",
            "==============================================================================\n",
            "Dep. Variable:                  price   R-squared:                       0.916\n",
            "Model:                            OLS   Adj. R-squared:                  0.916\n",
            "Method:                 Least Squares   F-statistic:                 3.122e+04\n",
            "Date:                Sun, 16 Oct 2022   Prob (F-statistic):               0.00\n",
            "Time:                        13:18:34   Log-Likelihood:            -3.6557e+05\n",
            "No. Observations:               43152   AIC:                         7.312e+05\n",
            "Df Residuals:                   43136   BIC:                         7.313e+05\n",
            "Df Model:                          15                                         \n",
            "Covariance Type:            nonrobust                                         \n",
            "==============================================================================\n",
            "                 coef    std err          t      P>|t|      [0.025      0.975]\n",
            "------------------------------------------------------------------------------\n",
            "const       3913.0232      5.567    702.956      0.000    3902.113    3923.934\n",
            "x1          4862.5689     26.834    181.210      0.000    4809.974    4915.164\n",
            "x2            58.9326      5.733     10.279      0.000      47.695      70.170\n",
            "x3          -535.7335      5.912    -90.622      0.000    -547.321    -524.146\n",
            "x4          -117.5962      6.868    -17.121      0.000    -131.058    -104.134\n",
            "x5          -132.0620      6.037    -21.874      0.000    -143.895    -120.229\n",
            "x6          -612.3052     41.677    -14.692      0.000    -693.992    -530.618\n",
            "x7           -23.7320     25.319     -0.937      0.349     -73.357      25.893\n",
            "x8           -84.2608     25.433     -3.313      0.001    -134.110     -34.411\n",
            "x9           -63.5107      9.351     -6.792      0.000     -81.839     -45.182\n",
            "x10         -102.3121     10.346     -9.889      0.000    -122.590     -82.035\n",
            "x11         -275.9369     12.178    -22.658      0.000    -299.807    -252.067\n",
            "x12         -459.4662     13.857    -33.159      0.000    -486.625    -432.307\n",
            "x13         -738.7519     14.194    -52.047      0.000    -766.572    -710.932\n",
            "x14        -1000.7075     12.968    -77.170      0.000   -1026.124    -975.291\n",
            "x15         -617.0104      6.719    -91.830      0.000    -630.180    -603.841\n",
            "==============================================================================\n",
            "Omnibus:                    12044.329   Durbin-Watson:                   1.996\n",
            "Prob(Omnibus):                  0.000   Jarque-Bera (JB):           215599.904\n",
            "Skew:                           0.883   Prob(JB):                         0.00\n",
            "Kurtosis:                      13.807   Cond. No.                         17.9\n",
            "==============================================================================\n",
            "\n",
            "Notes:\n",
            "[1] Standard Errors assume that the covariance matrix of the errors is correctly specified.\n"
          ]
        }
      ],
      "source": [
        "print('Linear Regression\\n')\n",
        "print(linear_regression.summary())\n",
        "print('\\n******************************************\\n')\n",
        "\n",
        "print('Ridge Regression\\n')\n",
        "print(ridge_results.summary())\n",
        "print('\\n******************************************\\n')\n",
        "\n",
        "print('Lasso Regression\\n')\n",
        "print(lasso_results.summary())\n",
        "print('\\n******************************************\\n')\n",
        "\n",
        "print('Elastic Net Regression\\n')\n",
        "print(elastic_net_results.summary())"
      ]
    },
    {
      "cell_type": "markdown",
      "source": [
        "**Make conclusions**\n",
        "\n",
        "R2 for all models is about the same\n",
        "\n",
        "At the significance level of the model 0, all models are significant (their Prob = 0)\n",
        "\n",
        "x7 and x8 in all models have the value closest to 0, their P-value is the highest => they have the least impact on the result"
      ],
      "metadata": {
        "id": "xI189FNaVEo1"
      }
    },
    {
      "cell_type": "markdown",
      "metadata": {
        "id": "HM2eUK8LnJN4"
      },
      "source": [
        "#### 4. [1 point] Implement one of the elimination algorithms that were described in the Seminar_4 (Elimination by P-value, Forward elimination, Backward elimination), make conclusions."
      ]
    },
    {
      "cell_type": "code",
      "execution_count": 35,
      "metadata": {
        "id": "V7IzNHfqnJN5",
        "colab": {
          "base_uri": "https://localhost:8080/"
        },
        "outputId": "33958a37-3199-4f43-a80a-f62535c6d43a"
      },
      "outputs": [
        {
          "output_type": "stream",
          "name": "stdout",
          "text": [
            "                  Results: Ordinary least squares\n",
            "====================================================================\n",
            "Model:              OLS              Adj. R-squared:     0.916      \n",
            "Dependent Variable: price            AIC:                730863.7495\n",
            "Date:               2022-10-16 15:02 BIC:                731002.5093\n",
            "No. Observations:   43152            Log-Likelihood:     -3.6542e+05\n",
            "Df Model:           15               F-statistic:        3.147e+04  \n",
            "Df Residuals:       43136            Prob (F-statistic): 0.00       \n",
            "R-squared:          0.916            Scale:              1.3274e+06 \n",
            "---------------------------------------------------------------------\n",
            "         Coef.     Std.Err.     t      P>|t|     [0.025      0.975]  \n",
            "---------------------------------------------------------------------\n",
            "const   3928.6813    5.5462  708.3543  0.0000   3917.8106   3939.5520\n",
            "x1      5310.4649   26.7360  198.6260  0.0000   5258.0618   5362.8680\n",
            "x2        56.2076    5.7123    9.8398  0.0000     45.0113     67.4038\n",
            "x3      -551.4766    5.8902  -93.6269  0.0000   -563.0214   -539.9318\n",
            "x4      -144.9206    6.8433  -21.1770  0.0000   -158.3336   -131.5076\n",
            "x5      -133.9661    6.0153  -22.2708  0.0000   -145.7562   -122.1760\n",
            "x6     -1110.5048   41.5246  -26.7433  0.0000  -1191.8939  -1029.1158\n",
            "x7         7.0641   25.2263    0.2800  0.7795    -42.3799     56.5081\n",
            "x8       -47.6862   25.3403   -1.8818  0.0599    -97.3537      1.9813\n",
            "x9       -97.6775    9.3169  -10.4839  0.0000   -115.9388    -79.4161\n",
            "x10     -138.9692   10.3078  -13.4819  0.0000   -159.1727   -118.7657\n",
            "x11     -315.5046   12.1339  -26.0019  0.0000   -339.2873   -291.7220\n",
            "x12     -507.6055   13.8061  -36.7668  0.0000   -534.6656   -480.5453\n",
            "x13     -784.3414   14.1421  -55.4614  0.0000   -812.0602   -756.6226\n",
            "x14    -1048.8520   12.9202  -81.1791  0.0000  -1074.1759  -1023.5281\n",
            "x15     -637.2208    6.6945  -95.1855  0.0000   -650.3422   -624.0995\n",
            "--------------------------------------------------------------------\n",
            "Omnibus:            10872.169      Durbin-Watson:         1.997     \n",
            "Prob(Omnibus):      0.000          Jarque-Bera (JB):      300680.586\n",
            "Skew:               0.611          Prob(JB):              0.000     \n",
            "Kurtosis:           15.874         Condition No.:         18        \n",
            "====================================================================\n",
            "\n"
          ]
        }
      ],
      "source": [
        "# Elimination by P-value on the simple linear regression model\n",
        "# Def for convenient column deletion\n",
        "def eliminationByPValue(values):\n",
        "    reg = sm.OLS(y_train, X_train_scaled[:, values] ).fit()\n",
        "    reg_pred = reg.predict(X_test_scaled[:, values])\n",
        "    print(reg.summary2())\n",
        "\n",
        "\n",
        "# All features\n",
        "eliminationByPValue([0, 1, 2, 3, 4, 5, 6, 7, 8, 9, 10, 11, 12, 13, 14, 15])"
      ]
    },
    {
      "cell_type": "code",
      "source": [
        "# x7 has the highest P-value\n",
        "eliminationByPValue([0, 1, 2, 3, 4, 5, 6, 8, 9, 10, 11, 12, 13, 14, 15])"
      ],
      "metadata": {
        "colab": {
          "base_uri": "https://localhost:8080/"
        },
        "id": "m2Hs9l7MCsHC",
        "outputId": "a21f0b92-0c01-41fe-ec0e-6a285e44a931"
      },
      "execution_count": 37,
      "outputs": [
        {
          "output_type": "stream",
          "name": "stdout",
          "text": [
            "                  Results: Ordinary least squares\n",
            "====================================================================\n",
            "Model:              OLS              Adj. R-squared:     0.916      \n",
            "Dependent Variable: price            AIC:                730861.8280\n",
            "Date:               2022-10-16 15:03 BIC:                730991.9152\n",
            "No. Observations:   43152            Log-Likelihood:     -3.6542e+05\n",
            "Df Model:           14               F-statistic:        3.371e+04  \n",
            "Df Residuals:       43137            Prob (F-statistic): 0.00       \n",
            "R-squared:          0.916            Scale:              1.3273e+06 \n",
            "---------------------------------------------------------------------\n",
            "         Coef.     Std.Err.     t      P>|t|     [0.025      0.975]  \n",
            "---------------------------------------------------------------------\n",
            "const   3928.6813    5.5462  708.3619  0.0000   3917.8107   3939.5518\n",
            "x1      5310.7614   26.7147  198.7952  0.0000   5258.4000   5363.1228\n",
            "x2        56.2421    5.7109    9.8482  0.0000     45.0486     67.4355\n",
            "x3      -551.4801    5.8901  -93.6287  0.0000   -563.0247   -539.9354\n",
            "x4      -145.0832    6.8185  -21.2778  0.0000   -158.4477   -131.7188\n",
            "x5      -134.0263    6.0114  -22.2953  0.0000   -145.8088   -122.2439\n",
            "x6     -1104.7294   36.0401  -30.6527  0.0000  -1175.3687  -1034.0900\n",
            "x7       -46.8230   25.1518   -1.8616  0.0627    -96.1210      2.4751\n",
            "x8       -97.6863    9.3168  -10.4850  0.0000   -115.9474    -79.4253\n",
            "x9      -138.9772   10.3077  -13.4829  0.0000   -159.1804   -118.7740\n",
            "x10     -315.5202   12.1336  -26.0038  0.0000   -339.3024   -291.7381\n",
            "x11     -507.6321   13.8056  -36.7700  0.0000   -534.6913   -480.5729\n",
            "x12     -784.3618   14.1418  -55.4642  0.0000   -812.0800   -756.6437\n",
            "x13    -1048.8696   12.9199  -81.1822  0.0000  -1074.1929  -1023.5462\n",
            "x14     -637.2522    6.6935  -95.2046  0.0000   -650.3716   -624.1328\n",
            "--------------------------------------------------------------------\n",
            "Omnibus:            10871.661      Durbin-Watson:         1.997     \n",
            "Prob(Omnibus):      0.000          Jarque-Bera (JB):      300760.514\n",
            "Skew:               0.611          Prob(JB):              0.000     \n",
            "Kurtosis:           15.876         Condition No.:         15        \n",
            "====================================================================\n",
            "\n"
          ]
        }
      ]
    },
    {
      "cell_type": "code",
      "source": [
        "# x8 in first model has the highest P-value\n",
        "eliminationByPValue([0, 1, 2, 3, 4, 5, 6, 9, 10, 11, 12, 13, 14, 15])"
      ],
      "metadata": {
        "colab": {
          "base_uri": "https://localhost:8080/"
        },
        "id": "8yK1wzJfF4sg",
        "outputId": "64552d3a-619f-4b8e-aab9-d07935c16349"
      },
      "execution_count": 38,
      "outputs": [
        {
          "output_type": "stream",
          "name": "stdout",
          "text": [
            "                  Results: Ordinary least squares\n",
            "====================================================================\n",
            "Model:              OLS              Adj. R-squared:     0.916      \n",
            "Dependent Variable: price            AIC:                730863.2946\n",
            "Date:               2022-10-16 15:03 BIC:                730984.7094\n",
            "No. Observations:   43152            Log-Likelihood:     -3.6542e+05\n",
            "Df Model:           13               F-statistic:        3.631e+04  \n",
            "Df Residuals:       43138            Prob (F-statistic): 0.00       \n",
            "R-squared:          0.916            Scale:              1.3274e+06 \n",
            "---------------------------------------------------------------------\n",
            "         Coef.     Std.Err.     t      P>|t|     [0.025      0.975]  \n",
            "---------------------------------------------------------------------\n",
            "const   3928.6813    5.5463  708.3416  0.0000   3917.8104   3939.5522\n",
            "x1      5310.1223   26.7133  198.7820  0.0000   5257.7638   5362.4809\n",
            "x2        56.0450    5.7101    9.8151  0.0000     44.8531     67.2369\n",
            "x3      -551.4050    5.8901  -93.6155  0.0000   -562.9497   -539.8603\n",
            "x4      -150.6239    6.1348  -24.5522  0.0000   -162.6483   -138.5995\n",
            "x5      -133.8016    6.0104  -22.2618  0.0000   -145.5821   -122.0212\n",
            "x6     -1149.6967   26.7482  -42.9822  0.0000  -1202.1237  -1097.2698\n",
            "x7       -97.6357    9.3170  -10.4793  0.0000   -115.8971    -79.3742\n",
            "x8      -138.9188   10.3079  -13.4769  0.0000   -159.1225   -118.7152\n",
            "x9      -315.5328   12.1340  -26.0040  0.0000   -339.3156   -291.7499\n",
            "x10     -507.4836   13.8058  -36.7588  0.0000   -534.5432   -480.4241\n",
            "x11     -784.1947   14.1419  -55.4519  0.0000   -811.9131   -756.4763\n",
            "x12    -1048.6973   12.9200  -81.1687  0.0000  -1074.0207  -1023.3739\n",
            "x13     -637.0316    6.6926  -95.1838  0.0000   -650.1493   -623.9139\n",
            "--------------------------------------------------------------------\n",
            "Omnibus:            10871.186      Durbin-Watson:         1.997     \n",
            "Prob(Omnibus):      0.000          Jarque-Bera (JB):      300997.262\n",
            "Skew:               0.610          Prob(JB):              0.000     \n",
            "Kurtosis:           15.881         Condition No.:         11        \n",
            "====================================================================\n",
            "\n"
          ]
        }
      ]
    },
    {
      "cell_type": "markdown",
      "source": [
        "**Make conclusions**\n",
        "\n",
        "R2 did not change from model to model, we will be guided by AIC (the smaller it is, the better)\n",
        "\n",
        "After removing x7, it dropped a little => the model improved, after removing the second one, it almost returned to its previous value\n",
        "\n",
        "Since the P-value of x7 is significantly greater than that of x8, they affect the model differently\n",
        "\n",
        "The conducted research confirms that x7 is the sign with the least influence, it can be removed (y, the width of the diamond almost does not affect its price)\n",
        "\n",
        "x8 still has an impact on the model (its P-value is only 0.0599, at the significance level of 6% it is already significant), it should not be removed (the depth of the diamond is important)\n",
        "\n",
        "\n"
      ],
      "metadata": {
        "id": "xzCFloagjEpQ"
      }
    },
    {
      "cell_type": "markdown",
      "metadata": {
        "id": "krhX1JoOnJN5"
      },
      "source": [
        "#### 5. [1 point] Find the best (in terms of RMSE) $\\alpha$ for Lasso regression using cross-validation with 4 folds. You must select values from range $[10^{-4}, 10^{3}]$."
      ]
    },
    {
      "cell_type": "code",
      "execution_count": 39,
      "metadata": {
        "id": "sUQ12t-4nJN5",
        "colab": {
          "base_uri": "https://localhost:8080/",
          "height": 337
        },
        "outputId": "e9df43d6-2ed4-4b55-a068-bf2823040ed0"
      },
      "outputs": [
        {
          "output_type": "stream",
          "name": "stdout",
          "text": [
            "Best alpha = 1.0000\n"
          ]
        },
        {
          "output_type": "execute_result",
          "data": {
            "text/plain": [
              "Text(0, 0.5, 'CV score')"
            ]
          },
          "metadata": {},
          "execution_count": 39
        },
        {
          "output_type": "display_data",
          "data": {
            "text/plain": [
              "<Figure size 432x288 with 1 Axes>"
            ],
            "image/png": "[encoded data removed]"
          },
          "metadata": {}
        }
      ],
      "source": [
        "alphas = np.logspace(-4, 3)\n",
        "searcher = GridSearchCV(Lasso(), [{\"alpha\": alphas}], scoring=\"neg_mean_squared_error\", cv=4)\n",
        "searcher.fit(X_train_scaled, y_train)\n",
        "\n",
        "print(\"Best alpha = %.4f\" % searcher.best_params_[\"alpha\"])\n",
        "\n",
        "plt.plot(alphas, -searcher.cv_results_[\"mean_test_score\"])\n",
        "plt.xscale(\"log\")\n",
        "plt.xlabel(\"alpha\")\n",
        "plt.ylabel(\"CV score\")"
      ]
    },
    {
      "cell_type": "markdown",
      "metadata": {
        "id": "Jc2Z7mHBnJN5"
      },
      "source": [
        "## Gradient descent\n",
        "\n",
        "#### 6. [3.5 points] Implement a Ridge regression model for the MSE loss function, trained by gradient descent.\n",
        "\n",
        "All calculations must be vectorized, and python loops can only be used for gradient descent iterations. As a stop criterion, you must use (simultaneously):\n",
        "\n",
        "* checking for the Absolute-value norm of the weight difference on two adjacent iterations (for example, less than some small number of the order of $10^{-6}$, set by the `tolerance` parameter);\n",
        "* reaching the maximum number of iterations (for example, 10000, set by the `max_iter` parameter).\n",
        "\n",
        "You need to implement:\n",
        "\n",
        "* Full gradient descent:\n",
        "\n",
        "$$\n",
        "w_{k + 1} = w_{k} - \\eta_{k} \\nabla_{w} Q(w_{k}).\n",
        "$$\n",
        "\n",
        "* Stochastic Gradient Descent:\n",
        "\n",
        "$$\n",
        "w_{k + 1} = w_{k} - \\eta_{k} \\nabla_{w} q_{i_{k}}(w_{k}).\n",
        "$$\n",
        "\n",
        "$\\nabla_{w} q_{i_{k}}(w_{k}) \\, $ is the estimate of the gradient over the batch of objects selected randomly.\n",
        "\n",
        "* Momentum method:\n",
        "\n",
        "$$\n",
        "h_0 = 0, \\\\\n",
        "h_{k + 1} = \\alpha h_{k} + \\eta_k \\nabla_{w} Q(w_{k}), \\\\\n",
        "w_{k + 1} = w_{k} - h_{k + 1}.\n",
        "$$\n",
        "\n",
        "* Adagrad method:\n",
        "\n",
        "$$\n",
        "G_0 = 0, \\\\\n",
        "G_{k + 1} = G_{k} + (\\nabla_{w} Q(w_{k+1}))^2, \\\\\n",
        "w_{k + 1} = w_{k} - \\eta * \\frac{\\nabla_{w} Q(w_{k+1})}{\\sqrt{G_{k+1} + \\epsilon}}.\n",
        "$$\n",
        "\n",
        "\n",
        "\n",
        "To make sure that the optimization process really converges, we will use the `loss_history` class attribute. After calling the `fit` method, it should contain the values of the loss function for all iterations, starting from the first one (before the first step on the anti-gradient).\n",
        "\n",
        "You need to initialize the weights with a random vector from normal distribution. The following is a template class that needs to contain the code implementing all variations of the models."
      ]
    },
    {
      "cell_type": "code",
      "execution_count": 93,
      "metadata": {
        "id": "bYP5_kdhnJN6"
      },
      "outputs": [],
      "source": [
        "from sklearn.base import BaseEstimator\n",
        "\n",
        "class LinReg(BaseEstimator):\n",
        "    def __init__(self, delta=1.0, gd_type='Momentum', \n",
        "                 tolerance=1e-4, max_iter=1000, w0=None, eta=1e-2, alpha=1e-3,\n",
        "                 reg_cf=0.01, epsilon=0.001):\n",
        "        \"\"\"\n",
        "        gd_type: str\n",
        "            'GradientDescent', 'StochasticDescent', 'Momentum', 'Adagrad'\n",
        "        delta: float\n",
        "            proportion of object in a batch (for stochastic GD)\n",
        "        tolerance: float\n",
        "            for stopping gradient descent\n",
        "        max_iter: int\n",
        "            maximum number of steps in gradient descent\n",
        "        w0: np.array of shape (d)\n",
        "            init weights\n",
        "        eta: float\n",
        "            learning rate\n",
        "        alpha: float\n",
        "            momentum coefficient\n",
        "        reg_cf: float\n",
        "            regularization coefficient\n",
        "        epsilon: float\n",
        "            numerical stability\n",
        "        \"\"\" \n",
        "        self.delta = delta\n",
        "        self.gd_type = gd_type\n",
        "        self.tolerance = tolerance\n",
        "        self.max_iter = max_iter\n",
        "        self.w0 = w0\n",
        "        self.w_prev = w0\n",
        "        self.alpha = alpha\n",
        "        self.w = None\n",
        "        self.eta = eta\n",
        "        self.loss_history = None # list of loss function values at each training iteration\n",
        "        self.reg_cf = reg_cf\n",
        "        self.epsilon = epsilon\n",
        "        self.h = 0\n",
        "        self.G = 0\n",
        "    \n",
        "    def fit(self, X, y):\n",
        "        \"\"\"\n",
        "        X: np.array of shape (l, d)\n",
        "        y: np.array of shape (l)\n",
        "        ---\n",
        "        output: self\n",
        "        \"\"\"\n",
        "        self.loss_history = []\n",
        "        y = np.array(y)\n",
        "        self.w = np.random.normal(0, 1, X.shape[1])\n",
        "        if self.w_prev is None:\n",
        "            self.w_prev = np.zeros(X.shape[1])\n",
        "        \n",
        "        for i in range(self.max_iter):\n",
        "            if self.tolerance > np.linalg.norm(self.w_prev - self.w):\n",
        "                break\n",
        "            self.w_prev = self.w\n",
        "            if self.gd_type == 'GradientDescent':\n",
        "                weight = self.full_gradient_descent(X, y)\n",
        "            elif self.gd_type == 'StochasticDescent': \n",
        "                weight = self.stochastic_descent(X, y)\n",
        "            elif self.gd_type == 'Momentum': \n",
        "                weight = self.momentum(X, y)\n",
        "            elif self.gd_type == 'Adagrad': \n",
        "                weight = self.adagrad(X, y)\n",
        "            else:\n",
        "                raise Exception('WRONG TYPE')\n",
        "            self.w = weight\n",
        "            self.loss_history.append(self.calc_loss(X, y))        \n",
        "        return self\n",
        "    \n",
        "    def predict(self, X):\n",
        "        if self.w is None:\n",
        "            raise Exception('Not trained yet')\n",
        "        return X.dot(self.w.T)\n",
        "    \n",
        "    def calc_gradient(self, X, y):\n",
        "        \"\"\"\n",
        "        X: np.array of shape (l, d) (l can be equal to 1 if stochastic)\n",
        "        y: np.array of shape (l)\n",
        "        ---\n",
        "        output: np.array of shape (d)\n",
        "        \"\"\"\n",
        "        return 2 * np.dot(X.T, self.predict(X) - y) / X.shape[0] + 2 * np.dot(self.reg_cf, self.w)\n",
        "\n",
        "    def calc_loss(self, X, y):\n",
        "        \"\"\"\n",
        "        X: np.array of shape (l, d)\n",
        "        y: np.array of shape (l)\n",
        "        ---\n",
        "        output: float \n",
        "        \"\"\" \n",
        "        return mean_squared_error(y, self.predict(X))\n",
        "\n",
        "    def full_gradient_descent(self, X, y):\n",
        "        return self.w - np.dot(self.eta, self.calc_gradient(X, y))\n",
        "        \n",
        "    def stochastic_descent(self, X, y):\n",
        "        batch = np.random.randint(0, len(X), math.floor(self.delta * len(X)))\n",
        "        batch_x = X[batch, :]\n",
        "        batch_y = y[batch]\n",
        "        return self.w - np.dot(self.eta, self.calc_gradient(batch_x, batch_y))\n",
        "        \n",
        "    def momentum(self, X, y):\n",
        "        self.h = self.alpha * self.h + self.eta* self.calc_gradient(X, y)\n",
        "        return self.w - self.h\n",
        "    \n",
        "    def adagrad(self, X, y):\n",
        "        self.G = self.G + np.square(self.calc_gradient(X, y))\n",
        "        return self.w - self.eta * self.calc_gradient(X, y) / np.sqrt(self.G + self.epsilon)"
      ]
    },
    {
      "cell_type": "markdown",
      "metadata": {
        "id": "CvPf51mAnJN6"
      },
      "source": [
        "#### 7. [1 points] Train and validate \"hand-written\" models on the same data, and compare the quality with the Sklearn or StatsModels methods. Investigate the effect of the `max_iter` and `alpha` parameters on the optimization process. Is it consistent with your expectations?"
      ]
    },
    {
      "cell_type": "code",
      "execution_count": 94,
      "metadata": {
        "id": "lqLxLLhQnJN6",
        "colab": {
          "base_uri": "https://localhost:8080/"
        },
        "outputId": "89477939-076a-492c-8b28-9aac6d632280"
      },
      "outputs": [
        {
          "output_type": "stream",
          "name": "stdout",
          "text": [
            "Linear Regression: RMSE 1178.9960913215937 R2:0.9141617585330128\n",
            "My Regression: RMSE 1273.9274722261964 R2:0.89978205624191\n"
          ]
        }
      ],
      "source": [
        "# Sklearn VS LinReg (best model in the world! :)\n",
        "sklearn_lin = sklearn.linear_model.LinearRegression()\n",
        "\n",
        "weights = np.random.rand(X_train_scaled[0].size)\n",
        "my_lin = LinReg(gd_type = 'GradientDescent', w0 = weights)\n",
        "\n",
        "sklearn_lin = sklearn_lin.fit(X_train_scaled, y_train)\n",
        "my_lin = my_lin.fit(X_train_scaled, y_train)\n",
        "\n",
        "skl_pred = sklearn_lin.predict(X_test_scaled)\n",
        "my_pred = my_lin.predict(X_test_scaled)\n",
        "\n",
        "# RMSE\n",
        "skl_rmse = mean_squared_error(y_test, skl_pred, squared=False)\n",
        "my_rmse = mean_squared_error(y_test, my_pred, squared=False)\n",
        "# R2\n",
        "skl_r2 = r2_score(y_test, skl_pred)\n",
        "my_r2 = r2_score(y_test, my_pred)\n",
        "\n",
        "print(f'Linear Regression: RMSE {skl_rmse} R2:{skl_r2}')\n",
        "print(f'My Regression: RMSE {my_rmse} R2:{my_r2}')"
      ]
    },
    {
      "cell_type": "markdown",
      "source": [
        "**Mini Conclusions**\n",
        "\n",
        "The RMSE of the sklearn model is slightly smaller than that of our model, the R2 is higher for sklearn => Sklearn won the battle this time, BUT\n",
        "Our model is not completely terrible, as the results differ slightly))"
      ],
      "metadata": {
        "id": "MBBWy4-iSUnC"
      }
    },
    {
      "cell_type": "code",
      "source": [
        "searcher = GridSearchCV(LinReg(), [{\"gd_type\": [\"Momentum\"], \"alpha\": [1e-6, 1e-5, 1e-4, 1e-3, 1e-2, 1e-1, 0, 1, 1e1, 1e2]}], scoring = \"neg_root_mean_squared_error\", cv = 4)\n",
        "searcher.fit(X_train_scaled, y_train)\n",
        "best_alpha = searcher.best_params_[\"alpha\"]\n",
        "print(f'Alpha for Momentum: {best_alpha}')\n",
        "\n",
        "grad_iters = [250, 500, 750, 1000, 1250, 1500, 1750, 2000, 2250, 2500]\n",
        "searcher = GridSearchCV(LinReg(), [ {\"gd_type\": [\"GradientDescent\"], \"max_iter\": grad_iters}], scoring = \"neg_root_mean_squared_error\", cv = 4)\n",
        "searcher.fit(X_train_scaled, y_train)\n",
        "best_gd_iters = searcher.best_params_[\"max_iter\"]\n",
        "print(f'Full GD iterations: {best_gd_iters}')\n",
        "print(grad_iters)\n",
        "\n",
        "searcher = GridSearchCV(LinReg(), [ {\"gd_type\": [\"StochasticDescent\"], \"max_iter\": grad_iters, \"delta\": [0.3]}], scoring = \"neg_root_mean_squared_error\", cv = 4)\n",
        "searcher.fit(X_train_scaled, y_train)\n",
        "best_sgd_iters = searcher.best_params_[\"max_iter\"]\n",
        "print(f'SGD iterations: {best_sgd_iters}')\n",
        "\n",
        "searcher = GridSearchCV(LinReg(), [{ \"gd_type\": [\"Momentum\"], \"alpha\": [best_alpha], \"max_iter\": grad_iters}], scoring = \"neg_root_mean_squared_error\", cv = 4)\n",
        "searcher.fit(X_train_scaled, y_train)\n",
        "best_m_iters = searcher.best_params_[\"max_iter\"]\n",
        "print(f'Momentum iterations = {best_m_iters}')\n",
        "\n",
        "searcher = GridSearchCV(LinReg(), [{ \"gd_type\": [\"Adagrad\"], \"alpha\": [best_alpha], \"max_iter\": grad_iters}], scoring = \"neg_root_mean_squared_error\", cv = 4)\n",
        "searcher.fit(X_train_scaled, y_train)\n",
        "best_ad_iters = searcher.best_params_[\"max_iter\"]\n",
        "print(f'Adagrad iterations = {best_ad_iters}')"
      ],
      "metadata": {
        "colab": {
          "base_uri": "https://localhost:8080/"
        },
        "id": "fVnMdpr-SVBU",
        "outputId": "46e41109-4019-41fd-cc2f-fe1fd1a06ab7"
      },
      "execution_count": 64,
      "outputs": [
        {
          "output_type": "stream",
          "name": "stdout",
          "text": [
            "Alpha for Momentum: 0.1\n",
            "Full GD iterations: 2500\n",
            "[250, 500, 750, 1000, 1250, 1500, 1750, 2000, 2250, 2500]\n",
            "SGD iterations: 2500\n",
            "Momentum iterations = 2500\n",
            "Adagrad iterations = 2250\n"
          ]
        }
      ]
    },
    {
      "cell_type": "markdown",
      "source": [
        "**Make conclusions**\n",
        "\n",
        "The more iterations = the better\n",
        "\n",
        "Best alpha = 0.1"
      ],
      "metadata": {
        "id": "oMyCuA0mhnQs"
      }
    },
    {
      "cell_type": "markdown",
      "metadata": {
        "id": "aODs45unnJN7"
      },
      "source": [
        "#### 8. [1 points] Plot graphs (on the same picture) of the dependence of the loss function value on the iteration number for Full GD, SGD, Momentum and Adagrad. Draw conclusions about the rate of convergence of various modifications of gradient descent.\n",
        "\n",
        "Don't forget about what *beautiful* graphics should look like!"
      ]
    },
    {
      "cell_type": "code",
      "execution_count": 99,
      "metadata": {
        "id": "C_BqE4elnJN7",
        "colab": {
          "base_uri": "https://localhost:8080/",
          "height": 605
        },
        "outputId": "c76c756e-8411-4e64-985e-cf971216dfe3"
      },
      "outputs": [
        {
          "output_type": "display_data",
          "data": {
            "text/plain": [
              "<Figure size 1440x720 with 1 Axes>"
            ],
            "image/png": "[encoded data removed]"
          },
          "metadata": {}
        }
      ],
      "source": [
        "weights = np.random.rand(X_train_scaled[0].size)\n",
        "gd = LinReg(gd_type = 'GradientDescent', w0 = weights, max_iter = best_gd_iters)\n",
        "trained_gd = gd.fit(X_train_scaled, y_train)\n",
        "\n",
        "sgd = LinReg(gd_type='StochasticDescent', w0 = weights, max_iter = best_sgd_iters, delta = 0.3)\n",
        "trained_sgd = gd.fit(X_train_scaled, y_train)\n",
        "\n",
        "momentum = LinReg(gd_type = 'Momentum', w0 = weights, max_iter = best_m_iters, alpha = best_alpha)\n",
        "trained_momentum = gd.fit(X_train_scaled, y_train)\n",
        "\n",
        "adagrad = LinReg(gd_type = 'Adagrad', w0 = weights, max_iter = best_ad_iters)\n",
        "trained_adagrad = gd.fit(X_train_scaled, y_train)\n",
        "\n",
        "\n",
        "plt.figure(figsize=(20, 10))\n",
        "plt.plot(trained_gd.loss_history[:100], label='gradient', color = 'red')\n",
        "plt.plot(trained_sgd.loss_history[:100], label='stochastic', color = 'blue')\n",
        "plt.plot(trained_momentum.loss_history[:100], label = 'momentum', color = 'yellow')\n",
        "plt.plot(trained_adagrad.loss_history[:100], label = 'adagrad', color = 'orange')\n",
        "plt.legend()\n",
        "plt.show()"
      ]
    },
    {
      "cell_type": "markdown",
      "source": [
        "**Make conclusions**\n",
        "\n",
        "All methods lead to a ~fast decrease in the values of the loss function\n",
        "\n",
        "And they behave about the same\n"
      ],
      "metadata": {
        "id": "bNOcR8ouU1iX"
      }
    }
  ],
  "metadata": {
    "kernelspec": {
      "display_name": "Python 3 (ipykernel)",
      "language": "python",
      "name": "python3"
    },
    "language_info": {
      "codemirror_mode": {
        "name": "ipython",
        "version": 3
      },
      "file_extension": ".py",
      "mimetype": "text/x-python",
      "name": "python",
      "nbconvert_exporter": "python",
      "pygments_lexer": "ipython3",
      "version": "3.8.11"
    },
    "colab": {
      "provenance": [],
      "collapsed_sections": []
    }
  },
  "nbformat": 4,
  "nbformat_minor": 0
}