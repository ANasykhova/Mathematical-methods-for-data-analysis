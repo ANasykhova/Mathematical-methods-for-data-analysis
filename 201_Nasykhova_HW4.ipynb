{
  "cells": [
    {
      "cell_type": "markdown",
      "metadata": {
        "id": "wuDlU0JqpESa"
      },
      "source": [
        "# HSE 2021: Mathematical Methods for Data Analysis\n",
        "\n",
        "## Homework 4\n",
        "\n",
        "**Warning 1**: You have 2 weeks for this assignemnt.  **it is better to start early (!)**\n",
        "\n",
        "**Warning 2**: it is critical to describe and explain what you are doing and why, use markdown cells\n",
        "\n",
        "\n",
        "### Contents\n",
        "\n",
        "#### Decision Trees - 7 points\n",
        "* [Task 1](#task1) (0.5 points)\n",
        "* [Task 2](#task2) (0.5 points)\n",
        "* [Task 3](#task3) (2 points)\n",
        "* [Task 4](#task4) (0.5 points)\n",
        "* [Task 5](#task5) (0.5 points)\n",
        "* [Task 6](#task6) (2 points)\n",
        "* [Task 7](#task7) (0.5 points)\n",
        "* [Task 8](#task8) (0.5 points)\n",
        "\n",
        "#### Ensembles - 3 points\n",
        "* [Task 1](#task2_1) (1 point)\n",
        "* [Task 2](#task2_2) (0.7 points)\n",
        "* [Task 3](#task2_3) (0.5 points)\n",
        "* [Task 4](#task2_4) (0.7 points)\n",
        "* [Task 5](#task2_5) (0.1 points)"
      ]
    },
    {
      "cell_type": "code",
      "execution_count": 1,
      "metadata": {
        "id": "IIPVEm5HpESb"
      },
      "outputs": [],
      "source": [
        "import matplotlib.pyplot as plt\n",
        "import numpy as np\n",
        "import pandas as pd\n",
        "\n",
        "plt.rcParams['figure.figsize'] = (11, 5)\n",
        "%matplotlib inline"
      ]
    },
    {
      "cell_type": "markdown",
      "metadata": {
        "id": "6lIhz23DpESc"
      },
      "source": [
        "# Part 1. Decision Tree Regressor"
      ]
    },
    {
      "cell_type": "markdown",
      "metadata": {
        "id": "fjgtVDOcpESc"
      },
      "source": [
        "In this task you will be implementing decision tree for the regression by hand. "
      ]
    },
    {
      "cell_type": "markdown",
      "metadata": {
        "id": "sq1y1BkMpESc"
      },
      "source": [
        "### Task 1 <a id=\"task1\"></a> (0.5 points)\n",
        "\n",
        "Here you should implement the function `H()` which calculates impurity criterion. We will be training regression tree, and will take mean absolute deviation as impurity criterion.\n",
        "\n",
        "* You cannot use loops\n",
        "* If `y` is empty, the function should return 0"
      ]
    },
    {
      "cell_type": "code",
      "execution_count": 2,
      "metadata": {
        "id": "TknuIbaEpESc"
      },
      "outputs": [],
      "source": [
        "def H(y):\n",
        "    \"\"\"\n",
        "    Calculate impurity criterion\n",
        "    \n",
        "    Parameters\n",
        "    ----------\n",
        "    y : np.array\n",
        "        array of objects target values in the node\n",
        "\n",
        "    Returns\n",
        "    -------\n",
        "    H(R) : float\n",
        "        Impurity in the node (measuread by variance)\n",
        "    \"\"\"\n",
        "    if len(y) == 0:\n",
        "      return 0\n",
        "    return np.sum((y - np.mean(y)) ** 2) / len(y)"
      ]
    },
    {
      "cell_type": "code",
      "execution_count": 3,
      "metadata": {
        "id": "D6fc41GIpESd"
      },
      "outputs": [],
      "source": [
        "# Test the function\n",
        "assert np.allclose(H(np.array([4, 2, 2, 2])), 0.75)\n",
        "assert np.allclose(H(np.array([])), 0.0)"
      ]
    },
    {
      "cell_type": "markdown",
      "metadata": {
        "id": "aNWCf4tapESd"
      },
      "source": [
        "### Task 2 <a id=\"task2\"></a>  (0.5 points)\n",
        "\n",
        "To find the best split in the node we need to calculate the cost function. Denote: \n",
        "- `R` all the object in the node\n",
        "- `j` index of the feature selected for the split\n",
        "- `t` threshold\n",
        "- `R_l` and `R_r` objects in the left and right child nodes correspondingly\n",
        "\n",
        "We get the following cost function:\n",
        "\n",
        "$$\n",
        "Q(R, j, t) =\\frac{|R_\\ell|}{|R|}H(R_\\ell) + \\frac{|R_r|}{|R|}H(R_r) \\to \\min_{j, t},\n",
        "$$\n",
        "\n",
        "Implement the function `Q`, which should calculate value of the cost function for a given feature and threshold."
      ]
    },
    {
      "cell_type": "code",
      "execution_count": 4,
      "metadata": {
        "id": "NAvv3aEBpESd"
      },
      "outputs": [],
      "source": [
        "def Q(X, y, j, t):\n",
        "    \"\"\"\n",
        "    Calculate cost function\n",
        "    Parameters\n",
        "    ----------\n",
        "    X : ndarray\n",
        "        array of objects in the node \n",
        "    y : ndarray\n",
        "        array of target values in the node \n",
        "    j : int\n",
        "        feature index (column in X)\n",
        "    t : float\n",
        "        threshold\n",
        "\n",
        "    Returns\n",
        "    -------\n",
        "    Q : float\n",
        "        Value of the cost function\n",
        "    \"\"\"   \n",
        "    if len(y) == 0:\n",
        "      return 0\n",
        "    \n",
        "    R_left = y[X[:, j] <= t]\n",
        "    R_right = y[X[:, j] > t]\n",
        "    Q = len(R_left) / len(y) * H(R_left) + len(R_right) / len(y) * H(R_right)\n",
        "    return Q"
      ]
    },
    {
      "cell_type": "markdown",
      "metadata": {
        "id": "GQCOFlxGpESd"
      },
      "source": [
        "### Task 3 <a id=\"task3\"></a>  (2 points)\n",
        "\n",
        "Now, let's implement `MyDecisionTreeRegressor` class. More specifically, you need to implement the following methods:\n",
        "\n",
        "- `best_split`\n",
        "- `grow_tree`\n",
        "- `get_prediction`\n",
        "\n",
        "Also, please add `min_samples_leaf` parameter to your class\n",
        "\n",
        "Read docstrings for more details. Do not forget to use function `Q` implemented above, when finding the `best_split`"
      ]
    },
    {
      "cell_type": "code",
      "execution_count": 5,
      "metadata": {
        "id": "yvRkiQwepESe"
      },
      "outputs": [],
      "source": [
        "class Node(object):\n",
        "    \"\"\"\n",
        "    Class for a decision tree node.\n",
        "    \n",
        "    Parameters\n",
        "    ----------\n",
        "    right : Node() or None\n",
        "        Right child\n",
        "    left* : Node() or None\n",
        "        Left child\n",
        "    threshold: float\n",
        "        \n",
        "    column: int\n",
        "        \n",
        "    depth: int\n",
        "        \n",
        "    prediction: float\n",
        "        prediction of the target value in the node \n",
        "        (average values calculated on a train dataset)\n",
        "    is_terminal:bool\n",
        "        indicates whether it is a terminal node (leaf) or not\n",
        "    \"\"\"    \n",
        "    def __init__(self):        \n",
        "        self.right = None\n",
        "        self.left = None\n",
        "        self.threshold = None\n",
        "        self.column = None\n",
        "        self.depth = None\n",
        "        self.is_terminal = False\n",
        "        self.prediction = None\n",
        "        \n",
        "    def __repr__(self):\n",
        "        if self.is_terminal:\n",
        "            node_desc = 'Pred: {:.2f}'.format(self.prediction)\n",
        "        else:\n",
        "            node_desc = 'Col {}, t {:.2f}, Pred: {:.2f}'. \\\n",
        "            format(self.column, self.threshold, self.prediction)\n",
        "        return node_desc"
      ]
    },
    {
      "cell_type": "code",
      "execution_count": 50,
      "metadata": {
        "id": "7fC3a_kBpESe"
      },
      "outputs": [],
      "source": [
        "from sklearn.base import BaseEstimator, RegressorMixin\n",
        "from sklearn.utils.validation import check_X_y, check_array, check_is_fitted\n",
        "\n",
        "class MyDecisionTreeRegressor(RegressorMixin, BaseEstimator):\n",
        "    \"\"\"\n",
        "    Class for a Decision Tree Regressor.\n",
        "\n",
        "    Parameters\n",
        "    ----------\n",
        "    max_depth : int\n",
        "        Max depth of a decision tree.\n",
        "    min_samples_split : int\n",
        "        Minimal number of samples (objects) in a node to make a split.\n",
        "    \"\"\" \n",
        "    def __init__(self, max_depth=3, min_samples_split=2, min_samples_leaf=1):\n",
        "        self.max_depth = max_depth\n",
        "        self.min_samples_split = min_samples_split\n",
        "        self.min_samples_leaf = min_samples_leaf\n",
        "            \n",
        "    def best_split(self, X, y):\n",
        "        \"\"\"\n",
        "        Find the best split in terms of Q of data in a given decision tree node. \n",
        "        Try all features and thresholds. \n",
        "        \n",
        "        Parameters\n",
        "        ----------\n",
        "        X : ndarray, shape (n_objects, n_features)\n",
        "            Objects in the parent node\n",
        "        y : ndarray, shape (n_objects, )\n",
        "            1D array with the object labels. \n",
        "            \n",
        "        Returns\n",
        "        -------\n",
        "        best_split_column : int\n",
        "            Index of the best split column\n",
        "        best_threshold : float\n",
        "            The best split condition.\n",
        "        X_left : ndarray, shape (n_objects_l, n_features)\n",
        "            Objects in the left child\n",
        "        y_left : ndarray, shape (n_objects_l, )\n",
        "            Objects labels in the left child. \n",
        "        X_right : ndarray, shape (n_objects_r, n_features)\n",
        "            Objects in the right child\n",
        "        y_right : ndarray, shape (n_objects_r, )\n",
        "            Objects labels in the right child. \n",
        "        \"\"\"\n",
        "        \n",
        "        # To store best split parameters\n",
        "        best_split_column = None\n",
        "        best_threshold = None\n",
        "        # without splitting\n",
        "        best_cost = H(y) \n",
        "\n",
        "        X_left, y_left, X_right, y_right = None, None, None, None\n",
        "        \n",
        "        for j in range(X.shape[1]):\n",
        "          for i in range(len(X[:, j])):\n",
        "            t = X[i, j]\n",
        "            current_cost = Q(X, y, j, t)\n",
        "                \n",
        "            if current_cost < best_cost:\n",
        "              best_split_column = j\n",
        "              best_threshold = t\n",
        "              best_cost = current_cost\n",
        "              X_left = X[X[:, best_split_column] <= best_threshold]\n",
        "              y_left = y[X[:, best_split_column] <= best_threshold]\n",
        "              X_right = X[X[:, best_split_column] > best_threshold]\n",
        "              y_right = y[X[:, best_split_column] > best_threshold]\n",
        "\n",
        "        return best_split_column, best_threshold, X_left, y_left, X_right, y_right\n",
        "    \n",
        "    def is_terminal(self, node, y):\n",
        "        \"\"\"\n",
        "        Check terminality conditions based on `max_depth`, \n",
        "        `min_samples_split` parameters for a given node. \n",
        "        \n",
        "        Parameters\n",
        "        ----------\n",
        "        node : Node, \n",
        "            \n",
        "        y : ndarray, shape (n_objects, )\n",
        "            Object labels. \n",
        "            \n",
        "        Returns\n",
        "        -------\n",
        "        Is_termial : bool\n",
        "            If True, node is terminal\n",
        "        \"\"\"\n",
        "        if node.depth >= self.max_depth:    \n",
        "            return True\n",
        "        if len(y) < self.min_samples_split:   \n",
        "            return True\n",
        "        return False\n",
        "        \n",
        "    def grow_tree(self, node, X, y):\n",
        "        \"\"\"\n",
        "        Reccurently grow the tree from the `node` using a `X` and `y` as a dataset:\n",
        "         - check terminality conditions\n",
        "         - find best split if node is not terminal\n",
        "         - add child nodes to the node\n",
        "         - call the function recursively for the added child nodes\n",
        "        \n",
        "        Parameters\n",
        "        ----------\n",
        "        node : Node() object\n",
        "            Current node of the decision tree.\n",
        "        X : ndarray, shape (n_objects, n_features)\n",
        "            Objects \n",
        "        y : ndarray, shape (n_objects)\n",
        "            Labels\n",
        "        \"\"\"\n",
        "        \n",
        "        if self.is_terminal(node, y):\n",
        "            node.is_terminal = True\n",
        "            return\n",
        "        \n",
        "        node.column, node.threshold, X_left, y_left, X_right, y_right = self.best_split(X, y)\n",
        "\n",
        "        if node.column is None or len(X_left) < self.min_samples_split or len(X_right) < self.min_samples_split:\n",
        "            node.is_terminal = True\n",
        "            return\n",
        "\n",
        "        node.left = Node()\n",
        "        node.right = Node()\n",
        "\n",
        "        node.left.depth = node.depth + 1\n",
        "        node.right.depth = node.depth + 1\n",
        "\n",
        "        node.left.prediction = np.mean(y_left)\n",
        "        node.right.prediction = np.mean(y_right)\n",
        "        self.grow_tree(node.right, X_right, y_right)\n",
        "        self.grow_tree(node.left, X_left, y_left)\n",
        "        \n",
        "    def fit(self, X, y):\n",
        "        \"\"\"\n",
        "        Fit the Decision Tree Regressor.\n",
        "            \n",
        "        Parameters\n",
        "        ----------\n",
        "        X : ndarray, shape (n_samples, n_features)\n",
        "            The input samples.\n",
        "        y : ndarray, shape (n_samples,) or (n_samples, n_outputs)\n",
        "            The target values.\n",
        "        Returns\n",
        "        -------\n",
        "        self : object\n",
        "            Returns self.\n",
        "        \"\"\"\n",
        "        X, y = check_X_y(X, y, accept_sparse=False)\n",
        "        self.is_fitted_ = True\n",
        "        # По совету из семинарского чата\n",
        "        self.n_features_in_ = X.shape[1]\n",
        "        \n",
        "        # Initialize the tree (root node)\n",
        "        self.tree_ = Node()\n",
        "        # Кажется, что у корневой вершины глубина все же 0...                             \n",
        "        self.tree_.depth = 0                            \n",
        "        self.tree_.prediction = np.mean(y)\n",
        "        \n",
        "        # Grow the tree\n",
        "        self.grow_tree(self.tree_, X, y)\n",
        "        return self        \n",
        "    \n",
        "    def get_prediction(self, node, x):\n",
        "        \"\"\"\n",
        "        Get prediction for an object `x`\n",
        "            - Return prediction of the `node` if it is terminal\n",
        "            - Otherwise, recursively call the function to get \n",
        "            predictions of the proper child\n",
        "        \n",
        "        Parameters\n",
        "        ----------\n",
        "        node : Node() object\n",
        "            Current node of the decision tree.\n",
        "        x : ndarray, shape (n_features,)\n",
        "            Array of feature values of one object.\n",
        "        Returns\n",
        "        -------\n",
        "        y_pred : float\n",
        "            Prediction for an object x\n",
        "        \"\"\"\n",
        "        if node.is_terminal:\n",
        "          return node.prediction\n",
        "        if x[node.column] > node.threshold:\n",
        "          y_pred = self.get_prediction(node.right, x)\n",
        "        else:\n",
        "          y_pred = self.get_prediction(node.left, x)\n",
        "        \n",
        "        return y_pred\n",
        "    \n",
        "    def predict(self, X):\n",
        "        \"\"\" \n",
        "        Get prediction for each object in X\n",
        "        \n",
        "        Parameters\n",
        "        ----------\n",
        "        X : ndarray, shape (n_samples, n_features)\n",
        "            The input samples.\n",
        "        Returns\n",
        "        -------\n",
        "        y : ndarray, shape (n_samples,)\n",
        "            Returns predictions.\n",
        "        \"\"\"\n",
        "        # Check input and that `fit` had been called\n",
        "        X = check_array(X, accept_sparse=False)\n",
        "        check_is_fitted(self, 'is_fitted_')\n",
        "        \n",
        "        # Get predictions\n",
        "        y_predicted = []\n",
        "        for x in X:\n",
        "            y_curr = self.get_prediction(self.tree_, x)\n",
        "            y_predicted.append(y_curr)\n",
        "        return np.array(y_predicted)\n",
        "\n",
        "    # estimators should have a 'requires_y' tag set to the appropriate value\n",
        "    # Чтобы убрать warning\n",
        "    def _more_tags(self):\n",
        "      return {'requires_y': False}"
      ]
    },
    {
      "cell_type": "code",
      "execution_count": 51,
      "metadata": {
        "id": "S2hWFXzKpESf"
      },
      "outputs": [],
      "source": [
        "# check yourself\n",
        "from sklearn.utils.estimator_checks import check_estimator\n",
        "\n",
        "check_estimator(MyDecisionTreeRegressor())"
      ]
    },
    {
      "cell_type": "markdown",
      "metadata": {
        "id": "RfkhaL09pESf"
      },
      "source": [
        "### Task 4 <a id=\"task4\"></a>  (0.5 points)\n",
        "\n",
        "Load boston dataset and split it on the train ($75\\%$) and test ($25\\%$). Fit Decision Tree of depth 1 and make the following plot:\n",
        "\n",
        "- Scatter plot of the traning points (selected for split feature on the x-axis, target variable on the y-axis)\n",
        "- Fitted model "
      ]
    },
    {
      "cell_type": "code",
      "execution_count": 7,
      "metadata": {
        "id": "4Awq_xK5pESg",
        "colab": {
          "base_uri": "https://localhost:8080/",
          "height": 497
        },
        "outputId": "4d4e35e1-1e15-436c-a7db-68bef582c577"
      },
      "outputs": [
        {
          "output_type": "display_data",
          "data": {
            "text/plain": [
              "<Figure size 576x576 with 1 Axes>"
            ],
            "image/png": "[encoded data removed]"
          },
          "metadata": {
            "needs_background": "light"
          }
        }
      ],
      "source": [
        "from sklearn.datasets import load_boston\n",
        "from sklearn.model_selection import train_test_split\n",
        "\n",
        "# Возник warning, поэтому переписала в соответствии с рекомендацией\n",
        "# data = load_boston()\n",
        "data_url = \"http://lib.stat.cmu.edu/datasets/boston\"\n",
        "raw_df = pd.read_csv(data_url, sep=\"\\s+\", skiprows=22, header=None)\n",
        "data = np.hstack([raw_df.values[::2, :], raw_df.values[1::2, :2]])\n",
        "target = raw_df.values[1::2, 2]\n",
        "\n",
        "X, y = data, target\n",
        "X_train, X_test, y_train, y_test = train_test_split(X, y, test_size=0.25, random_state=42)\n",
        "\n",
        "model = MyDecisionTreeRegressor(max_depth = 1, min_samples_split = 1)\n",
        "model.fit(X_train, y_train)\n",
        "pred = model.predict(X_test)\n",
        "\n",
        "plt.figure(figsize=(8,8))\n",
        "\n",
        "plt.scatter(X_train[:, model.tree_.column], y_train, color = 'black', label = 'train')      \n",
        "plt.scatter(X_test[:, model.tree_.column], pred, color = 'orange', label = 'prediction')\n",
        "plt.axvline(model.tree_.threshold, color = 'red', label = 'threshold')\n",
        "\n",
        "plt.xlabel('split feature')\n",
        "plt.ylabel('target variable')\n",
        "plt.legend(loc = 'best')\n",
        "plt.grid()\n",
        "plt.show()"
      ]
    },
    {
      "cell_type": "markdown",
      "metadata": {
        "id": "PkEczeExpESg"
      },
      "source": [
        "### Task 5 <a id=\"task5\"></a>  (0.5 points)\n",
        "\n",
        "Keep working with boston dataset. \n",
        "- Use `GridSearchCV` to find the best hyperparameters among [`max_depth`, `min_samples_leaf`] on 5-Fold cross-validation\n",
        "- Train the model with the best set of hyperparameters on the whole train dataset. \n",
        "- Report `MAE` on test dataset and hyperparameters of the best estimator. "
      ]
    },
    {
      "cell_type": "markdown",
      "source": [
        "min_samples_leaf нигде не меняется в программе, кажется что его не очень информативно подбирать по сетке (лучшим останется 1), поэтому добавила в поиск min_samples_split"
      ],
      "metadata": {
        "id": "A7qgyqvSGkrM"
      }
    },
    {
      "cell_type": "code",
      "execution_count": null,
      "metadata": {
        "id": "VObXpLEmpESg",
        "colab": {
          "base_uri": "https://localhost:8080/"
        },
        "outputId": "10b999b4-ecf4-4798-aaca-b7ba8aa411ec"
      },
      "outputs": [
        {
          "output_type": "stream",
          "name": "stdout",
          "text": [
            "Hyperparameters of the best estimator: {'max_depth': 5, 'min_samples_leaf': 1, 'min_samples_split': 2}\n"
          ]
        }
      ],
      "source": [
        "from sklearn.model_selection import GridSearchCV\n",
        "from sklearn.metrics import mean_absolute_error\n",
        "\n",
        "parameters = {'max_depth':[1, 3, 5, 7, 10], \n",
        "              'min_samples_split' : [2, 5, 10, 20],\n",
        "              'min_samples_leaf':[1, 5, 10, 50]}\n",
        "\n",
        "cv = GridSearchCV(MyDecisionTreeRegressor(),          \n",
        "                  parameters,         \n",
        "                  scoring = 'neg_mean_absolute_error',\n",
        "                  cv = 5) \n",
        "\n",
        "cv.fit(X_train, y_train)\n",
        "print(f'Hyperparameters of the best estimator: {cv.best_params_}')\n",
        "max_depth, min_samples_split, min_samples_leaf = cv.best_params_[\"max_depth\"], \\\n",
        "                                                 cv.best_params_[\"min_samples_split\"], \\\n",
        "                                                 cv.best_params_[\"min_samples_leaf\"]"
      ]
    },
    {
      "cell_type": "code",
      "source": [
        "best_model = MyDecisionTreeRegressor(max_depth = int(max_depth), min_samples_split = int(min_samples_split), min_samples_leaf = int(min_samples_leaf))\n",
        "best_model.fit(X_train, y_train)\n",
        "best_pred = best_model.predict(X_test)\n",
        "\n",
        "mae = mean_absolute_error(y_test, best_pred)\n",
        "print(f'MAE of the best estimator: {mae}')\n",
        "\n",
        "print(f'Accuracy on test: {best_model.score(X_test, y_test)}')"
      ],
      "metadata": {
        "colab": {
          "base_uri": "https://localhost:8080/"
        },
        "id": "Ppl0EOAMSvqR",
        "outputId": "fc8f0986-a3d5-4ad4-89b2-7c1c293c326f"
      },
      "execution_count": 37,
      "outputs": [
        {
          "output_type": "stream",
          "name": "stdout",
          "text": [
            "MAE of the best estimator: 2.3674274340013413\n",
            "Accuracy on test: 0.8378513713758426\n"
          ]
        }
      ]
    },
    {
      "cell_type": "markdown",
      "metadata": {
        "id": "M1b3i9E5pESg"
      },
      "source": [
        "### Task 6 <a id=\"task6\"></a>  (2 points)\n",
        "\n",
        "Recall definition of bias and variance:\n",
        "$$\n",
        "\\text{Bias}^2 = \\mathbb{E}_{p(x, y)} \\left[  (f(x) - \\mathbb{E}_{\\mathbb{X}}a_{\\mathbb{X}}(x))^2 \\right] \\\\\n",
        "\\text{Variance} = \\mathbb{E}_{p(x, y)} \\left[  \\mathbb{V}_{\\mathbb{X}}( a_{\\mathbb{X}}(x))  \\right]\n",
        "$$\n",
        "\n",
        "We wil now use use the following algorithm to estimate bias and variance:\n",
        "\n",
        "1. Use bootsrap to create `n_iter` samples from the original dataset: $X_1, \\dots, X_{n_iter}$\n",
        "2. For each bootstrapped sample define out-of-bag (OOB) sample $Z_1, \\dots, Z_{n_iter}$, which contain all the observations, which did not appear in the corresponding boostraped sample\n",
        "3. Fit the model on $X_i$s and compute predictions on $Z_i$s\n",
        "4. For a given *object* $n$:\n",
        "     - bias^2: squared difference between true value $y_n$ and average prediction (average over the algorithms, for which $n$ was in OOB)\n",
        "     - variance: variance of the prediction (predictions of the algorithms, for which $n$ was in OOB)\n",
        "5. Average bias^2 and variance over all the points\n",
        "    \n",
        "**Implement `get_bias_variance` function, using the algorithm above**\n",
        "\n",
        "*Note:*  You can only use 1 loop (for bootsrap iterations). All other operations should be vectorized. "
      ]
    },
    {
      "cell_type": "code",
      "execution_count": 8,
      "metadata": {
        "id": "YNuFiaIUpESg"
      },
      "outputs": [],
      "source": [
        "np.random.seed(42)\n",
        "def bootstrap(x, y):\n",
        "    indices = np.random.choice(np.arange(x.shape[0]), size = x.shape[0], replace = True)\n",
        "    return x[indices], y[indices], indices\n",
        "\n",
        "def get_bias_variance(estimator, x, y, n_iter):\n",
        "    \"\"\" \n",
        "    Calculate bias and variance of the `estimator`. \n",
        "    Using a given dataset and bootstrap with `n_iter` samples. \n",
        "\n",
        "    Parameters\n",
        "    ----------\n",
        "    x : ndarray, shape (n_samples, n_features)\n",
        "        The input samples.\n",
        "    y : ndarray, shape (n_samples, n_features)\n",
        "        The input samples.\n",
        "    n_iter: int\n",
        "        Number of samples in \n",
        "    Returns\n",
        "    -------\n",
        "    bias2 : float, \n",
        "        Estiamted squared bias\n",
        "    variance : float, \n",
        "        Estiamted variance\n",
        "    \"\"\"\n",
        "    pred = np.full([x.shape[0], n_iter], np.nan)\n",
        "    max_length = 0\n",
        "    np.random.seed(42)\n",
        "    for iter in range(n_iter):\n",
        "        x_i, y_i, chosen = bootstrap(x, y)\n",
        "        out_of_bag = np.setxor1d(np.arange(x.shape[0]), np.unique(chosen))\n",
        "\n",
        "        z_i = np.take(x, out_of_bag, axis=0)\n",
        "        \n",
        "        estimator.fit(x_i, y_i)\n",
        "        pred_y =  estimator.predict(z_i)\n",
        "        pred[out_of_bag, iter] = pred_y\n",
        "\n",
        "    bias2 = np.nanmean(np.square(y - np.nanmean(pred, axis=1)))\n",
        "    variance = np.nanmean(np.nanvar(pred, axis=1))\n",
        "    \n",
        "    return bias2, variance"
      ]
    },
    {
      "cell_type": "code",
      "execution_count": 50,
      "metadata": {
        "id": "nkhj7p0JpESg",
        "colab": {
          "base_uri": "https://localhost:8080/"
        },
        "outputId": "5e153222-e799-4791-8e91-049b3023acef"
      },
      "outputs": [
        {
          "output_type": "execute_result",
          "data": {
            "text/plain": [
              "(23.694561300313893, 7.496614983293238)"
            ]
          },
          "metadata": {},
          "execution_count": 50
        }
      ],
      "source": [
        "# Test\n",
        "estimator = MyDecisionTreeRegressor(max_depth=8, min_samples_split=15)\n",
        "\n",
        "# numpy.ndarray has no attribute value :(\n",
        "get_bias_variance(estimator, X_train, y_train, 10)"
      ]
    },
    {
      "cell_type": "markdown",
      "source": [
        "Найдем для лучшей по сетке модели"
      ],
      "metadata": {
        "id": "awbQKbUxG5Gr"
      }
    },
    {
      "cell_type": "code",
      "source": [
        "# Test\n",
        "estimator = MyDecisionTreeRegressor(max_depth=5, min_samples_split=2)\n",
        "\n",
        "# numpy.ndarray has no attribute value :(\n",
        "get_bias_variance(estimator, X_train, y_train, 10)"
      ],
      "metadata": {
        "colab": {
          "base_uri": "https://localhost:8080/"
        },
        "id": "ecC4epjJqtcJ",
        "outputId": "83817a46-f4f1-441e-f3b2-f1b4eb1fbfd6"
      },
      "execution_count": 47,
      "outputs": [
        {
          "output_type": "execute_result",
          "data": {
            "text/plain": [
              "(18.61989234885744, 8.353618040359025)"
            ]
          },
          "metadata": {},
          "execution_count": 47
        }
      ]
    },
    {
      "cell_type": "markdown",
      "metadata": {
        "id": "Z9D4gxO7pESh"
      },
      "source": [
        "### Task 7 <a id=\"task7\"></a>  (0.5 points)\n",
        "\n",
        "Compute bias and variance for the trees with different min_samples_split. Plot how bias and variance change as min_samples_split increases. \n",
        "\n",
        "Comment on what you observe, how does your result correspond to theory?"
      ]
    },
    {
      "cell_type": "code",
      "execution_count": 59,
      "metadata": {
        "id": "Eh1g7ijypESh",
        "colab": {
          "base_uri": "https://localhost:8080/",
          "height": 497
        },
        "outputId": "9bf458be-1560-4fe7-81f7-c12e9c04ec0e"
      },
      "outputs": [
        {
          "output_type": "display_data",
          "data": {
            "text/plain": [
              "<Figure size 576x576 with 1 Axes>"
            ],
            "image/png": "[encoded data removed]"
          },
          "metadata": {
            "needs_background": "light"
          }
        }
      ],
      "source": [
        "mss_parameters = np.arange(50)\n",
        "biases = []\n",
        "variances = []\n",
        "for min_samples_split in mss_parameters:\n",
        "    estimator = MyDecisionTreeRegressor(max_depth = 5, min_samples_split = min_samples_split)\n",
        "\n",
        "    bias2, variance = get_bias_variance(estimator, X_train, y_train, 10)\n",
        "    biases.append(bias2)\n",
        "    variances.append(variance)\n",
        "\n",
        "plt.figure(figsize = (8,8))\n",
        "\n",
        "plt.plot(mss_parameters, biases, color = 'red', label = 'bias')      \n",
        "plt.plot(mss_parameters, variances, color = 'green', label = 'variance')\n",
        "plt.xlabel('Min samples split')\n",
        "plt.ylabel('Metrics')\n",
        "plt.legend(loc = 'best')\n",
        "plt.grid()\n",
        "plt.show()"
      ]
    },
    {
      "cell_type": "markdown",
      "source": [
        "Этот код работал 7 минут)) Но зато у нас есть четкая картина (кажется)\n",
        "\n",
        "**THEORY BLOCK**\n",
        "\n",
        "*Bias* отображает ошибку, связанную с плохо выработанными зависимостями\n",
        "\n",
        "Уменьшается с ростом сложности и при больших значениях говорит о том, что модель недостаточно обучена\n",
        "\n",
        "*Variance* отображает чувствительность модели к колебаниям в значениях входных данных\n",
        "\n",
        "Увеличивается с ростом сложности и свидетельствует о переобучении\n",
        "\n",
        "**RESULT**\n",
        "\n",
        "В целом, с теорией все сходится)\n",
        "\n",
        "min_samples_split определяет минимальное количество выборок, которое внутренний узел должен содержать для разделения на следующие узлы\n",
        "\n",
        "Увеличивая этот параметр мы контролируем переобучение (variance падает), но при слишком больших значениях модель недообучается (bias стремительно растет вверх)\n",
        "\n",
        "Можем заметить, что оптимальное число min_samples_split равно 2, после этого модель плавно начинает недообучаться"
      ],
      "metadata": {
        "id": "L7z7a-cHZ7xi"
      }
    },
    {
      "cell_type": "markdown",
      "metadata": {
        "id": "4X8MurFypESh"
      },
      "source": [
        "### Task 8 <a id=\"task8\"></a>  (0.5 points)\n",
        "\n",
        "Let's try to reduce variance with bagging. Use `sklearn.ensemble.BaggingRegressor` to get an ensemble and compute its bias and variance. \n",
        "\n",
        "Answer the following questions:\n",
        " - How bagging should affect bias and variance in theory?\n",
        " - How bias and variance change (if they change) compared to an individual tree in you experiments? \n",
        " - Do your results align with the theory? Why?"
      ]
    },
    {
      "cell_type": "code",
      "execution_count": 16,
      "metadata": {
        "id": "VB3s62MwpESh",
        "colab": {
          "base_uri": "https://localhost:8080/"
        },
        "outputId": "e9901b5a-7f79-4483-916b-79254cf9efaa"
      },
      "outputs": [
        {
          "output_type": "stream",
          "name": "stdout",
          "text": [
            "OUR model: 14.86, 2.20\n"
          ]
        }
      ],
      "source": [
        "from sklearn.ensemble import BaggingRegressor\n",
        "\n",
        "self_written = BaggingRegressor(MyDecisionTreeRegressor(max_depth = 5, min_samples_split = 2), random_state = 42)\n",
        "self_written_bias, self_written_variance = get_bias_variance(self_written, X_train, y_train, 10)\n",
        "\n",
        "print(f'OUR model: {self_written_bias:.2f}, {self_written_variance:.2f}')"
      ]
    },
    {
      "cell_type": "markdown",
      "source": [
        "**THEORY BLOCK**\n",
        "\n",
        "*(first question)*\n",
        "\n",
        "Используется для уменьшения ошибки путем усреднения результатов\n",
        "\n",
        "Бэггинг позволяет снизить variance (предотвращая переобучение), точность при этом должна увеличиваться (bias тоже снижается), но не так существенно (улучшение достигается за счет уменьшения чувствительности к данным)\n",
        "\n",
        "Бэггинг эффективен на малых выборках, когда исключение даже малой части обучающих объектов приводит к построению *существенно различных базовых классификаторов*, что позволяет компенсировать ошибки\n",
        "\n",
        "**RESULT**\n",
        "\n",
        "*(second question)*\n",
        "\n",
        "Отдельное дерево (лучшее по сетке): bias = 18.6; variance = 8.4\n",
        "\n",
        "Ансамбль: bias = 14.86; variance: 2.20\n",
        "\n",
        "Variance сльно меняется, уменьшилась в 3,8 раза; Bias - менее, но тоже заметно меньше, уменьшился примерно в 1,25 раза\n",
        "\n",
        "*(third question)*\n",
        "\n",
        "С теорией результат, в целом, сходится))\n",
        "\n",
        "Результат ансамбля лучше, чем у отдельного дерева (причем это отдельное дерево - лучшее по гридсерчу)\n",
        "\n",
        "Усреднение ответов действительно приводит к уменьшению чувствительности к данным и улучшению метрик"
      ],
      "metadata": {
        "id": "eUod1Hr2WxgF"
      }
    },
    {
      "cell_type": "markdown",
      "metadata": {
        "id": "mkbpuLslpESi"
      },
      "source": [
        "# Part 2. More Ensembles"
      ]
    },
    {
      "cell_type": "markdown",
      "metadata": {
        "id": "Fw3pXLFvpESi"
      },
      "source": [
        "In this part we will be working with [Thyroid Disease Data Set](https://archive.ics.uci.edu/ml/datasets/thyroid+disease) to solve a classification task. "
      ]
    },
    {
      "cell_type": "code",
      "execution_count": 9,
      "metadata": {
        "id": "KuaDJszdpESi",
        "outputId": "0c4bf0fb-52f5-4c77-e353-f197116b2e3c",
        "colab": {
          "base_uri": "https://localhost:8080/",
          "height": 299
        }
      },
      "outputs": [
        {
          "output_type": "execute_result",
          "data": {
            "text/plain": [
              "    age sex on_thyroxine query_on_thyroxine on_antithyroid_medication sick  \\\n",
              "0  41.0   F            f                  f                         f    f   \n",
              "1  23.0   F            f                  f                         f    f   \n",
              "2  46.0   M            f                  f                         f    f   \n",
              "3  70.0   F            t                  f                         f    f   \n",
              "4  70.0   F            f                  f                         f    f   \n",
              "\n",
              "  pregnant thyroid_surgery I131_treatment query_hypothyroid  ...   T3  \\\n",
              "0        f               f              f                 f  ...  2.5   \n",
              "1        f               f              f                 f  ...  2.0   \n",
              "2        f               f              f                 f  ...  NaN   \n",
              "3        f               f              f                 f  ...  1.9   \n",
              "4        f               f              f                 f  ...  1.2   \n",
              "\n",
              "  TT4_measured    TT4 T4U_measured   T4U FTI_measured    FTI  TBG_measured  \\\n",
              "0            t  125.0            t  1.14            t  109.0             f   \n",
              "1            t  102.0            f   NaN            f    NaN             f   \n",
              "2            t  109.0            t  0.91            t  120.0             f   \n",
              "3            t  175.0            f   NaN            f    NaN             f   \n",
              "4            t   61.0            t  0.87            t   70.0             f   \n",
              "\n",
              "  TBG  referral_source  \n",
              "0 NaN             SVHC  \n",
              "1 NaN            other  \n",
              "2 NaN            other  \n",
              "3 NaN            other  \n",
              "4 NaN              SVI  \n",
              "\n",
              "[5 rows x 29 columns]"
            ],
            "text/html": [
              "\n",
              "  <div id=\"df-a949fafb-ac40-4ee7-86e8-2c3e49eb140f\">\n",
              "    <div class=\"colab-df-container\">\n",
              "      <div>\n",
              "<style scoped>\n",
              "    .dataframe tbody tr th:only-of-type {\n",
              "        vertical-align: middle;\n",
              "    }\n",
              "\n",
              "    .dataframe tbody tr th {\n",
              "        vertical-align: top;\n",
              "    }\n",
              "\n",
              "    .dataframe thead th {\n",
              "        text-align: right;\n",
              "    }\n",
              "</style>\n",
              "<table border=\"1\" class=\"dataframe\">\n",
              "  <thead>\n",
              "    <tr style=\"text-align: right;\">\n",
              "      <th></th>\n",
              "      <th>age</th>\n",
              "      <th>sex</th>\n",
              "      <th>on_thyroxine</th>\n",
              "      <th>query_on_thyroxine</th>\n",
              "      <th>on_antithyroid_medication</th>\n",
              "      <th>sick</th>\n",
              "      <th>pregnant</th>\n",
              "      <th>thyroid_surgery</th>\n",
              "      <th>I131_treatment</th>\n",
              "      <th>query_hypothyroid</th>\n",
              "      <th>...</th>\n",
              "      <th>T3</th>\n",
              "      <th>TT4_measured</th>\n",
              "      <th>TT4</th>\n",
              "      <th>T4U_measured</th>\n",
              "      <th>T4U</th>\n",
              "      <th>FTI_measured</th>\n",
              "      <th>FTI</th>\n",
              "      <th>TBG_measured</th>\n",
              "      <th>TBG</th>\n",
              "      <th>referral_source</th>\n",
              "    </tr>\n",
              "  </thead>\n",
              "  <tbody>\n",
              "    <tr>\n",
              "      <th>0</th>\n",
              "      <td>41.0</td>\n",
              "      <td>F</td>\n",
              "      <td>f</td>\n",
              "      <td>f</td>\n",
              "      <td>f</td>\n",
              "      <td>f</td>\n",
              "      <td>f</td>\n",
              "      <td>f</td>\n",
              "      <td>f</td>\n",
              "      <td>f</td>\n",
              "      <td>...</td>\n",
              "      <td>2.5</td>\n",
              "      <td>t</td>\n",
              "      <td>125.0</td>\n",
              "      <td>t</td>\n",
              "      <td>1.14</td>\n",
              "      <td>t</td>\n",
              "      <td>109.0</td>\n",
              "      <td>f</td>\n",
              "      <td>NaN</td>\n",
              "      <td>SVHC</td>\n",
              "    </tr>\n",
              "    <tr>\n",
              "      <th>1</th>\n",
              "      <td>23.0</td>\n",
              "      <td>F</td>\n",
              "      <td>f</td>\n",
              "      <td>f</td>\n",
              "      <td>f</td>\n",
              "      <td>f</td>\n",
              "      <td>f</td>\n",
              "      <td>f</td>\n",
              "      <td>f</td>\n",
              "      <td>f</td>\n",
              "      <td>...</td>\n",
              "      <td>2.0</td>\n",
              "      <td>t</td>\n",
              "      <td>102.0</td>\n",
              "      <td>f</td>\n",
              "      <td>NaN</td>\n",
              "      <td>f</td>\n",
              "      <td>NaN</td>\n",
              "      <td>f</td>\n",
              "      <td>NaN</td>\n",
              "      <td>other</td>\n",
              "    </tr>\n",
              "    <tr>\n",
              "      <th>2</th>\n",
              "      <td>46.0</td>\n",
              "      <td>M</td>\n",
              "      <td>f</td>\n",
              "      <td>f</td>\n",
              "      <td>f</td>\n",
              "      <td>f</td>\n",
              "      <td>f</td>\n",
              "      <td>f</td>\n",
              "      <td>f</td>\n",
              "      <td>f</td>\n",
              "      <td>...</td>\n",
              "      <td>NaN</td>\n",
              "      <td>t</td>\n",
              "      <td>109.0</td>\n",
              "      <td>t</td>\n",
              "      <td>0.91</td>\n",
              "      <td>t</td>\n",
              "      <td>120.0</td>\n",
              "      <td>f</td>\n",
              "      <td>NaN</td>\n",
              "      <td>other</td>\n",
              "    </tr>\n",
              "    <tr>\n",
              "      <th>3</th>\n",
              "      <td>70.0</td>\n",
              "      <td>F</td>\n",
              "      <td>t</td>\n",
              "      <td>f</td>\n",
              "      <td>f</td>\n",
              "      <td>f</td>\n",
              "      <td>f</td>\n",
              "      <td>f</td>\n",
              "      <td>f</td>\n",
              "      <td>f</td>\n",
              "      <td>...</td>\n",
              "      <td>1.9</td>\n",
              "      <td>t</td>\n",
              "      <td>175.0</td>\n",
              "      <td>f</td>\n",
              "      <td>NaN</td>\n",
              "      <td>f</td>\n",
              "      <td>NaN</td>\n",
              "      <td>f</td>\n",
              "      <td>NaN</td>\n",
              "      <td>other</td>\n",
              "    </tr>\n",
              "    <tr>\n",
              "      <th>4</th>\n",
              "      <td>70.0</td>\n",
              "      <td>F</td>\n",
              "      <td>f</td>\n",
              "      <td>f</td>\n",
              "      <td>f</td>\n",
              "      <td>f</td>\n",
              "      <td>f</td>\n",
              "      <td>f</td>\n",
              "      <td>f</td>\n",
              "      <td>f</td>\n",
              "      <td>...</td>\n",
              "      <td>1.2</td>\n",
              "      <td>t</td>\n",
              "      <td>61.0</td>\n",
              "      <td>t</td>\n",
              "      <td>0.87</td>\n",
              "      <td>t</td>\n",
              "      <td>70.0</td>\n",
              "      <td>f</td>\n",
              "      <td>NaN</td>\n",
              "      <td>SVI</td>\n",
              "    </tr>\n",
              "  </tbody>\n",
              "</table>\n",
              "<p>5 rows × 29 columns</p>\n",
              "</div>\n",
              "      <button class=\"colab-df-convert\" onclick=\"convertToInteractive('df-a949fafb-ac40-4ee7-86e8-2c3e49eb140f')\"\n",
              "              title=\"Convert this dataframe to an interactive table.\"\n",
              "              style=\"display:none;\">\n",
              "        \n",
              "  <svg xmlns=\"http://www.w3.org/2000/svg\" height=\"24px\"viewBox=\"0 0 24 24\"\n",
              "       width=\"24px\">\n",
              "    <path d=\"M0 0h24v24H0V0z\" fill=\"none\"/>\n",
              "    <path d=\"M18.56 5.44l.94 2.06.94-2.06 2.06-.94-2.06-.94-.94-2.06-.94 2.06-2.06.94zm-11 1L8.5 8.5l.94-2.06 2.06-.94-2.06-.94L8.5 2.5l-.94 2.06-2.06.94zm10 10l.94 2.06.94-2.06 2.06-.94-2.06-.94-.94-2.06-.94 2.06-2.06.94z\"/><path d=\"M17.41 7.96l-1.37-1.37c-.4-.4-.92-.59-1.43-.59-.52 0-1.04.2-1.43.59L10.3 9.45l-7.72 7.72c-.78.78-.78 2.05 0 2.83L4 21.41c.39.39.9.59 1.41.59.51 0 1.02-.2 1.41-.59l7.78-7.78 2.81-2.81c.8-.78.8-2.07 0-2.86zM5.41 20L4 18.59l7.72-7.72 1.47 1.35L5.41 20z\"/>\n",
              "  </svg>\n",
              "      </button>\n",
              "      \n",
              "  <style>\n",
              "    .colab-df-container {\n",
              "      display:flex;\n",
              "      flex-wrap:wrap;\n",
              "      gap: 12px;\n",
              "    }\n",
              "\n",
              "    .colab-df-convert {\n",
              "      background-color: #E8F0FE;\n",
              "      border: none;\n",
              "      border-radius: 50%;\n",
              "      cursor: pointer;\n",
              "      display: none;\n",
              "      fill: #1967D2;\n",
              "      height: 32px;\n",
              "      padding: 0 0 0 0;\n",
              "      width: 32px;\n",
              "    }\n",
              "\n",
              "    .colab-df-convert:hover {\n",
              "      background-color: #E2EBFA;\n",
              "      box-shadow: 0px 1px 2px rgba(60, 64, 67, 0.3), 0px 1px 3px 1px rgba(60, 64, 67, 0.15);\n",
              "      fill: #174EA6;\n",
              "    }\n",
              "\n",
              "    [theme=dark] .colab-df-convert {\n",
              "      background-color: #3B4455;\n",
              "      fill: #D2E3FC;\n",
              "    }\n",
              "\n",
              "    [theme=dark] .colab-df-convert:hover {\n",
              "      background-color: #434B5C;\n",
              "      box-shadow: 0px 1px 3px 1px rgba(0, 0, 0, 0.15);\n",
              "      filter: drop-shadow(0px 1px 2px rgba(0, 0, 0, 0.3));\n",
              "      fill: #FFFFFF;\n",
              "    }\n",
              "  </style>\n",
              "\n",
              "      <script>\n",
              "        const buttonEl =\n",
              "          document.querySelector('#df-a949fafb-ac40-4ee7-86e8-2c3e49eb140f button.colab-df-convert');\n",
              "        buttonEl.style.display =\n",
              "          google.colab.kernel.accessAllowed ? 'block' : 'none';\n",
              "\n",
              "        async function convertToInteractive(key) {\n",
              "          const element = document.querySelector('#df-a949fafb-ac40-4ee7-86e8-2c3e49eb140f');\n",
              "          const dataTable =\n",
              "            await google.colab.kernel.invokeFunction('convertToInteractive',\n",
              "                                                     [key], {});\n",
              "          if (!dataTable) return;\n",
              "\n",
              "          const docLinkHtml = 'Like what you see? Visit the ' +\n",
              "            '<a target=\"_blank\" href=https://colab.research.google.com/notebooks/data_table.ipynb>data table notebook</a>'\n",
              "            + ' to learn more about interactive tables.';\n",
              "          element.innerHTML = '';\n",
              "          dataTable['output_type'] = 'display_data';\n",
              "          await google.colab.output.renderOutput(dataTable, element);\n",
              "          const docLink = document.createElement('div');\n",
              "          docLink.innerHTML = docLinkHtml;\n",
              "          element.appendChild(docLink);\n",
              "        }\n",
              "      </script>\n",
              "    </div>\n",
              "  </div>\n",
              "  "
            ]
          },
          "metadata": {},
          "execution_count": 9
        }
      ],
      "source": [
        "from sklearn.preprocessing import LabelEncoder\n",
        "\n",
        "df = pd.read_csv('thyroid_disease.csv')\n",
        "\n",
        "le = LabelEncoder()\n",
        "y = le.fit_transform(df['Class'])\n",
        "X = df.drop('Class', axis=1)\n",
        "X.head(5)"
      ]
    },
    {
      "cell_type": "markdown",
      "metadata": {
        "id": "UuEXIxFepESi"
      },
      "source": [
        "### Task 1 <a id=\"task2_1\"></a> (1 point)\n",
        "\n",
        "Let's start with data preprocessing. \n",
        "\n",
        "0. Drop columns, which are not usefull (e.g. a lot of missing values). Motivate your choice. \n",
        "1. Split dataset into train and test\n",
        "2. You've probably noticed that we have both categorical and numerical columns. Here is what you need to do with them:\n",
        "    - Categorical: Fill missing values and apply one-hot-encoding\n",
        "    - Numeric: Fill missing values\n",
        "    \n",
        "Use `ColumnTranformer` to define a single transformer for all the columns in the dataset. It takes as input a list of tuples\n",
        "\n",
        "```\n",
        "ColumnTransformer([\n",
        "    ('name1', transform1, column_names1),\n",
        "    ('name2', transform2, column_names2)\n",
        "])\n",
        "```\n",
        "\n",
        "Pay attention to an argument `remainder='passthrough'`. [Here](https://scikit-learn.org/stable/modules/compose.html#column-transformer) you can find some examples of how to use column transformer. \n",
        "    \n",
        "Since we want to apply 2 transformations to categorical feature, it is very convenient to combine them into a `Pipeline`:\n",
        "\n",
        "```\n",
        "double_tranform = make_pipeline(\n",
        "                        transform_1,\n",
        "                        transform_2\n",
        "                        )\n",
        "```\n",
        "\n",
        "P.S. Choose your favourite way to fill missing values. \n",
        "\n",
        "*Hint* Categorical column usually have `dtype = 'object'`. This may help to obtain list of categorical and numerical columns on the dataset. "
      ]
    },
    {
      "cell_type": "code",
      "source": [
        "X.shape"
      ],
      "metadata": {
        "colab": {
          "base_uri": "https://localhost:8080/"
        },
        "id": "p-8Lvbhx7w8L",
        "outputId": "3c8d4a31-54d4-41ba-bc83-9bcc761217db"
      },
      "execution_count": 21,
      "outputs": [
        {
          "output_type": "execute_result",
          "data": {
            "text/plain": [
              "(3772, 29)"
            ]
          },
          "metadata": {},
          "execution_count": 21
        }
      ]
    },
    {
      "cell_type": "code",
      "source": [
        "X.isna().sum()"
      ],
      "metadata": {
        "colab": {
          "base_uri": "https://localhost:8080/"
        },
        "id": "26CVp-DB58il",
        "outputId": "3ed36067-b738-4bdf-c9ed-45e57397cd8c"
      },
      "execution_count": 20,
      "outputs": [
        {
          "output_type": "execute_result",
          "data": {
            "text/plain": [
              "age                             1\n",
              "sex                           150\n",
              "on_thyroxine                    0\n",
              "query_on_thyroxine              0\n",
              "on_antithyroid_medication       0\n",
              "sick                            0\n",
              "pregnant                        0\n",
              "thyroid_surgery                 0\n",
              "I131_treatment                  0\n",
              "query_hypothyroid               0\n",
              "query_hyperthyroid              0\n",
              "lithium                         0\n",
              "goitre                          0\n",
              "tumor                           0\n",
              "hypopituitary                   0\n",
              "psych                           0\n",
              "TSH_measured                    0\n",
              "TSH                           369\n",
              "T3_measured                     0\n",
              "T3                            769\n",
              "TT4_measured                    0\n",
              "TT4                           231\n",
              "T4U_measured                    0\n",
              "T4U                           387\n",
              "FTI_measured                    0\n",
              "FTI                           385\n",
              "TBG_measured                    0\n",
              "TBG                          3772\n",
              "referral_source                 0\n",
              "dtype: int64"
            ]
          },
          "metadata": {},
          "execution_count": 20
        }
      ]
    },
    {
      "cell_type": "markdown",
      "source": [
        "TBG вообще не имеет значений :(\n",
        "\n",
        "Придется удалить)"
      ],
      "metadata": {
        "id": "iQdC302D716D"
      }
    },
    {
      "cell_type": "code",
      "source": [
        "X = df.drop(['Class','TBG'], axis=1)\n",
        "X"
      ],
      "metadata": {
        "colab": {
          "base_uri": "https://localhost:8080/",
          "height": 488
        },
        "id": "hNsKQ-Pz7_nN",
        "outputId": "2c6e3617-33e5-4bb4-bb40-e814278556b5"
      },
      "execution_count": 10,
      "outputs": [
        {
          "output_type": "execute_result",
          "data": {
            "text/plain": [
              "       age sex on_thyroxine query_on_thyroxine on_antithyroid_medication sick  \\\n",
              "0     41.0   F            f                  f                         f    f   \n",
              "1     23.0   F            f                  f                         f    f   \n",
              "2     46.0   M            f                  f                         f    f   \n",
              "3     70.0   F            t                  f                         f    f   \n",
              "4     70.0   F            f                  f                         f    f   \n",
              "...    ...  ..          ...                ...                       ...  ...   \n",
              "3767  30.0   F            f                  f                         f    f   \n",
              "3768  68.0   F            f                  f                         f    f   \n",
              "3769  74.0   F            f                  f                         f    f   \n",
              "3770  72.0   M            f                  f                         f    f   \n",
              "3771  64.0   F            f                  f                         f    f   \n",
              "\n",
              "     pregnant thyroid_surgery I131_treatment query_hypothyroid  ...  \\\n",
              "0           f               f              f                 f  ...   \n",
              "1           f               f              f                 f  ...   \n",
              "2           f               f              f                 f  ...   \n",
              "3           f               f              f                 f  ...   \n",
              "4           f               f              f                 f  ...   \n",
              "...       ...             ...            ...               ...  ...   \n",
              "3767        f               f              f                 f  ...   \n",
              "3768        f               f              f                 f  ...   \n",
              "3769        f               f              f                 f  ...   \n",
              "3770        f               f              f                 f  ...   \n",
              "3771        f               f              f                 f  ...   \n",
              "\n",
              "     T3_measured   T3 TT4_measured    TT4 T4U_measured   T4U FTI_measured  \\\n",
              "0              t  2.5            t  125.0            t  1.14            t   \n",
              "1              t  2.0            t  102.0            f   NaN            f   \n",
              "2              f  NaN            t  109.0            t  0.91            t   \n",
              "3              t  1.9            t  175.0            f   NaN            f   \n",
              "4              t  1.2            t   61.0            t  0.87            t   \n",
              "...          ...  ...          ...    ...          ...   ...          ...   \n",
              "3767           f  NaN            f    NaN            f   NaN            f   \n",
              "3768           t  2.1            t  124.0            t  1.08            t   \n",
              "3769           t  1.8            t  112.0            t  1.07            t   \n",
              "3770           t  2.0            t   82.0            t  0.94            t   \n",
              "3771           t  2.2            t   99.0            t  1.07            t   \n",
              "\n",
              "        FTI TBG_measured  referral_source  \n",
              "0     109.0            f             SVHC  \n",
              "1       NaN            f            other  \n",
              "2     120.0            f            other  \n",
              "3       NaN            f            other  \n",
              "4      70.0            f              SVI  \n",
              "...     ...          ...              ...  \n",
              "3767    NaN            f            other  \n",
              "3768  114.0            f              SVI  \n",
              "3769  105.0            f            other  \n",
              "3770   87.0            f              SVI  \n",
              "3771   92.0            f            other  \n",
              "\n",
              "[3772 rows x 28 columns]"
            ],
            "text/html": [
              "\n",
              "  <div id=\"df-6f54fce6-2ea3-425d-bf85-918573274c5e\">\n",
              "    <div class=\"colab-df-container\">\n",
              "      <div>\n",
              "<style scoped>\n",
              "    .dataframe tbody tr th:only-of-type {\n",
              "        vertical-align: middle;\n",
              "    }\n",
              "\n",
              "    .dataframe tbody tr th {\n",
              "        vertical-align: top;\n",
              "    }\n",
              "\n",
              "    .dataframe thead th {\n",
              "        text-align: right;\n",
              "    }\n",
              "</style>\n",
              "<table border=\"1\" class=\"dataframe\">\n",
              "  <thead>\n",
              "    <tr style=\"text-align: right;\">\n",
              "      <th></th>\n",
              "      <th>age</th>\n",
              "      <th>sex</th>\n",
              "      <th>on_thyroxine</th>\n",
              "      <th>query_on_thyroxine</th>\n",
              "      <th>on_antithyroid_medication</th>\n",
              "      <th>sick</th>\n",
              "      <th>pregnant</th>\n",
              "      <th>thyroid_surgery</th>\n",
              "      <th>I131_treatment</th>\n",
              "      <th>query_hypothyroid</th>\n",
              "      <th>...</th>\n",
              "      <th>T3_measured</th>\n",
              "      <th>T3</th>\n",
              "      <th>TT4_measured</th>\n",
              "      <th>TT4</th>\n",
              "      <th>T4U_measured</th>\n",
              "      <th>T4U</th>\n",
              "      <th>FTI_measured</th>\n",
              "      <th>FTI</th>\n",
              "      <th>TBG_measured</th>\n",
              "      <th>referral_source</th>\n",
              "    </tr>\n",
              "  </thead>\n",
              "  <tbody>\n",
              "    <tr>\n",
              "      <th>0</th>\n",
              "      <td>41.0</td>\n",
              "      <td>F</td>\n",
              "      <td>f</td>\n",
              "      <td>f</td>\n",
              "      <td>f</td>\n",
              "      <td>f</td>\n",
              "      <td>f</td>\n",
              "      <td>f</td>\n",
              "      <td>f</td>\n",
              "      <td>f</td>\n",
              "      <td>...</td>\n",
              "      <td>t</td>\n",
              "      <td>2.5</td>\n",
              "      <td>t</td>\n",
              "      <td>125.0</td>\n",
              "      <td>t</td>\n",
              "      <td>1.14</td>\n",
              "      <td>t</td>\n",
              "      <td>109.0</td>\n",
              "      <td>f</td>\n",
              "      <td>SVHC</td>\n",
              "    </tr>\n",
              "    <tr>\n",
              "      <th>1</th>\n",
              "      <td>23.0</td>\n",
              "      <td>F</td>\n",
              "      <td>f</td>\n",
              "      <td>f</td>\n",
              "      <td>f</td>\n",
              "      <td>f</td>\n",
              "      <td>f</td>\n",
              "      <td>f</td>\n",
              "      <td>f</td>\n",
              "      <td>f</td>\n",
              "      <td>...</td>\n",
              "      <td>t</td>\n",
              "      <td>2.0</td>\n",
              "      <td>t</td>\n",
              "      <td>102.0</td>\n",
              "      <td>f</td>\n",
              "      <td>NaN</td>\n",
              "      <td>f</td>\n",
              "      <td>NaN</td>\n",
              "      <td>f</td>\n",
              "      <td>other</td>\n",
              "    </tr>\n",
              "    <tr>\n",
              "      <th>2</th>\n",
              "      <td>46.0</td>\n",
              "      <td>M</td>\n",
              "      <td>f</td>\n",
              "      <td>f</td>\n",
              "      <td>f</td>\n",
              "      <td>f</td>\n",
              "      <td>f</td>\n",
              "      <td>f</td>\n",
              "      <td>f</td>\n",
              "      <td>f</td>\n",
              "      <td>...</td>\n",
              "      <td>f</td>\n",
              "      <td>NaN</td>\n",
              "      <td>t</td>\n",
              "      <td>109.0</td>\n",
              "      <td>t</td>\n",
              "      <td>0.91</td>\n",
              "      <td>t</td>\n",
              "      <td>120.0</td>\n",
              "      <td>f</td>\n",
              "      <td>other</td>\n",
              "    </tr>\n",
              "    <tr>\n",
              "      <th>3</th>\n",
              "      <td>70.0</td>\n",
              "      <td>F</td>\n",
              "      <td>t</td>\n",
              "      <td>f</td>\n",
              "      <td>f</td>\n",
              "      <td>f</td>\n",
              "      <td>f</td>\n",
              "      <td>f</td>\n",
              "      <td>f</td>\n",
              "      <td>f</td>\n",
              "      <td>...</td>\n",
              "      <td>t</td>\n",
              "      <td>1.9</td>\n",
              "      <td>t</td>\n",
              "      <td>175.0</td>\n",
              "      <td>f</td>\n",
              "      <td>NaN</td>\n",
              "      <td>f</td>\n",
              "      <td>NaN</td>\n",
              "      <td>f</td>\n",
              "      <td>other</td>\n",
              "    </tr>\n",
              "    <tr>\n",
              "      <th>4</th>\n",
              "      <td>70.0</td>\n",
              "      <td>F</td>\n",
              "      <td>f</td>\n",
              "      <td>f</td>\n",
              "      <td>f</td>\n",
              "      <td>f</td>\n",
              "      <td>f</td>\n",
              "      <td>f</td>\n",
              "      <td>f</td>\n",
              "      <td>f</td>\n",
              "      <td>...</td>\n",
              "      <td>t</td>\n",
              "      <td>1.2</td>\n",
              "      <td>t</td>\n",
              "      <td>61.0</td>\n",
              "      <td>t</td>\n",
              "      <td>0.87</td>\n",
              "      <td>t</td>\n",
              "      <td>70.0</td>\n",
              "      <td>f</td>\n",
              "      <td>SVI</td>\n",
              "    </tr>\n",
              "    <tr>\n",
              "      <th>...</th>\n",
              "      <td>...</td>\n",
              "      <td>...</td>\n",
              "      <td>...</td>\n",
              "      <td>...</td>\n",
              "      <td>...</td>\n",
              "      <td>...</td>\n",
              "      <td>...</td>\n",
              "      <td>...</td>\n",
              "      <td>...</td>\n",
              "      <td>...</td>\n",
              "      <td>...</td>\n",
              "      <td>...</td>\n",
              "      <td>...</td>\n",
              "      <td>...</td>\n",
              "      <td>...</td>\n",
              "      <td>...</td>\n",
              "      <td>...</td>\n",
              "      <td>...</td>\n",
              "      <td>...</td>\n",
              "      <td>...</td>\n",
              "      <td>...</td>\n",
              "    </tr>\n",
              "    <tr>\n",
              "      <th>3767</th>\n",
              "      <td>30.0</td>\n",
              "      <td>F</td>\n",
              "      <td>f</td>\n",
              "      <td>f</td>\n",
              "      <td>f</td>\n",
              "      <td>f</td>\n",
              "      <td>f</td>\n",
              "      <td>f</td>\n",
              "      <td>f</td>\n",
              "      <td>f</td>\n",
              "      <td>...</td>\n",
              "      <td>f</td>\n",
              "      <td>NaN</td>\n",
              "      <td>f</td>\n",
              "      <td>NaN</td>\n",
              "      <td>f</td>\n",
              "      <td>NaN</td>\n",
              "      <td>f</td>\n",
              "      <td>NaN</td>\n",
              "      <td>f</td>\n",
              "      <td>other</td>\n",
              "    </tr>\n",
              "    <tr>\n",
              "      <th>3768</th>\n",
              "      <td>68.0</td>\n",
              "      <td>F</td>\n",
              "      <td>f</td>\n",
              "      <td>f</td>\n",
              "      <td>f</td>\n",
              "      <td>f</td>\n",
              "      <td>f</td>\n",
              "      <td>f</td>\n",
              "      <td>f</td>\n",
              "      <td>f</td>\n",
              "      <td>...</td>\n",
              "      <td>t</td>\n",
              "      <td>2.1</td>\n",
              "      <td>t</td>\n",
              "      <td>124.0</td>\n",
              "      <td>t</td>\n",
              "      <td>1.08</td>\n",
              "      <td>t</td>\n",
              "      <td>114.0</td>\n",
              "      <td>f</td>\n",
              "      <td>SVI</td>\n",
              "    </tr>\n",
              "    <tr>\n",
              "      <th>3769</th>\n",
              "      <td>74.0</td>\n",
              "      <td>F</td>\n",
              "      <td>f</td>\n",
              "      <td>f</td>\n",
              "      <td>f</td>\n",
              "      <td>f</td>\n",
              "      <td>f</td>\n",
              "      <td>f</td>\n",
              "      <td>f</td>\n",
              "      <td>f</td>\n",
              "      <td>...</td>\n",
              "      <td>t</td>\n",
              "      <td>1.8</td>\n",
              "      <td>t</td>\n",
              "      <td>112.0</td>\n",
              "      <td>t</td>\n",
              "      <td>1.07</td>\n",
              "      <td>t</td>\n",
              "      <td>105.0</td>\n",
              "      <td>f</td>\n",
              "      <td>other</td>\n",
              "    </tr>\n",
              "    <tr>\n",
              "      <th>3770</th>\n",
              "      <td>72.0</td>\n",
              "      <td>M</td>\n",
              "      <td>f</td>\n",
              "      <td>f</td>\n",
              "      <td>f</td>\n",
              "      <td>f</td>\n",
              "      <td>f</td>\n",
              "      <td>f</td>\n",
              "      <td>f</td>\n",
              "      <td>f</td>\n",
              "      <td>...</td>\n",
              "      <td>t</td>\n",
              "      <td>2.0</td>\n",
              "      <td>t</td>\n",
              "      <td>82.0</td>\n",
              "      <td>t</td>\n",
              "      <td>0.94</td>\n",
              "      <td>t</td>\n",
              "      <td>87.0</td>\n",
              "      <td>f</td>\n",
              "      <td>SVI</td>\n",
              "    </tr>\n",
              "    <tr>\n",
              "      <th>3771</th>\n",
              "      <td>64.0</td>\n",
              "      <td>F</td>\n",
              "      <td>f</td>\n",
              "      <td>f</td>\n",
              "      <td>f</td>\n",
              "      <td>f</td>\n",
              "      <td>f</td>\n",
              "      <td>f</td>\n",
              "      <td>f</td>\n",
              "      <td>f</td>\n",
              "      <td>...</td>\n",
              "      <td>t</td>\n",
              "      <td>2.2</td>\n",
              "      <td>t</td>\n",
              "      <td>99.0</td>\n",
              "      <td>t</td>\n",
              "      <td>1.07</td>\n",
              "      <td>t</td>\n",
              "      <td>92.0</td>\n",
              "      <td>f</td>\n",
              "      <td>other</td>\n",
              "    </tr>\n",
              "  </tbody>\n",
              "</table>\n",
              "<p>3772 rows × 28 columns</p>\n",
              "</div>\n",
              "      <button class=\"colab-df-convert\" onclick=\"convertToInteractive('df-6f54fce6-2ea3-425d-bf85-918573274c5e')\"\n",
              "              title=\"Convert this dataframe to an interactive table.\"\n",
              "              style=\"display:none;\">\n",
              "        \n",
              "  <svg xmlns=\"http://www.w3.org/2000/svg\" height=\"24px\"viewBox=\"0 0 24 24\"\n",
              "       width=\"24px\">\n",
              "    <path d=\"M0 0h24v24H0V0z\" fill=\"none\"/>\n",
              "    <path d=\"M18.56 5.44l.94 2.06.94-2.06 2.06-.94-2.06-.94-.94-2.06-.94 2.06-2.06.94zm-11 1L8.5 8.5l.94-2.06 2.06-.94-2.06-.94L8.5 2.5l-.94 2.06-2.06.94zm10 10l.94 2.06.94-2.06 2.06-.94-2.06-.94-.94-2.06-.94 2.06-2.06.94z\"/><path d=\"M17.41 7.96l-1.37-1.37c-.4-.4-.92-.59-1.43-.59-.52 0-1.04.2-1.43.59L10.3 9.45l-7.72 7.72c-.78.78-.78 2.05 0 2.83L4 21.41c.39.39.9.59 1.41.59.51 0 1.02-.2 1.41-.59l7.78-7.78 2.81-2.81c.8-.78.8-2.07 0-2.86zM5.41 20L4 18.59l7.72-7.72 1.47 1.35L5.41 20z\"/>\n",
              "  </svg>\n",
              "      </button>\n",
              "      \n",
              "  <style>\n",
              "    .colab-df-container {\n",
              "      display:flex;\n",
              "      flex-wrap:wrap;\n",
              "      gap: 12px;\n",
              "    }\n",
              "\n",
              "    .colab-df-convert {\n",
              "      background-color: #E8F0FE;\n",
              "      border: none;\n",
              "      border-radius: 50%;\n",
              "      cursor: pointer;\n",
              "      display: none;\n",
              "      fill: #1967D2;\n",
              "      height: 32px;\n",
              "      padding: 0 0 0 0;\n",
              "      width: 32px;\n",
              "    }\n",
              "\n",
              "    .colab-df-convert:hover {\n",
              "      background-color: #E2EBFA;\n",
              "      box-shadow: 0px 1px 2px rgba(60, 64, 67, 0.3), 0px 1px 3px 1px rgba(60, 64, 67, 0.15);\n",
              "      fill: #174EA6;\n",
              "    }\n",
              "\n",
              "    [theme=dark] .colab-df-convert {\n",
              "      background-color: #3B4455;\n",
              "      fill: #D2E3FC;\n",
              "    }\n",
              "\n",
              "    [theme=dark] .colab-df-convert:hover {\n",
              "      background-color: #434B5C;\n",
              "      box-shadow: 0px 1px 3px 1px rgba(0, 0, 0, 0.15);\n",
              "      filter: drop-shadow(0px 1px 2px rgba(0, 0, 0, 0.3));\n",
              "      fill: #FFFFFF;\n",
              "    }\n",
              "  </style>\n",
              "\n",
              "      <script>\n",
              "        const buttonEl =\n",
              "          document.querySelector('#df-6f54fce6-2ea3-425d-bf85-918573274c5e button.colab-df-convert');\n",
              "        buttonEl.style.display =\n",
              "          google.colab.kernel.accessAllowed ? 'block' : 'none';\n",
              "\n",
              "        async function convertToInteractive(key) {\n",
              "          const element = document.querySelector('#df-6f54fce6-2ea3-425d-bf85-918573274c5e');\n",
              "          const dataTable =\n",
              "            await google.colab.kernel.invokeFunction('convertToInteractive',\n",
              "                                                     [key], {});\n",
              "          if (!dataTable) return;\n",
              "\n",
              "          const docLinkHtml = 'Like what you see? Visit the ' +\n",
              "            '<a target=\"_blank\" href=https://colab.research.google.com/notebooks/data_table.ipynb>data table notebook</a>'\n",
              "            + ' to learn more about interactive tables.';\n",
              "          element.innerHTML = '';\n",
              "          dataTable['output_type'] = 'display_data';\n",
              "          await google.colab.output.renderOutput(dataTable, element);\n",
              "          const docLink = document.createElement('div');\n",
              "          docLink.innerHTML = docLinkHtml;\n",
              "          element.appendChild(docLink);\n",
              "        }\n",
              "      </script>\n",
              "    </div>\n",
              "  </div>\n",
              "  "
            ]
          },
          "metadata": {},
          "execution_count": 10
        }
      ]
    },
    {
      "cell_type": "code",
      "execution_count": 29,
      "metadata": {
        "id": "iSoZcLGTpESj"
      },
      "outputs": [],
      "source": [
        "from sklearn.pipeline import make_pipeline\n",
        "from sklearn.compose import ColumnTransformer\n",
        "from sklearn.preprocessing import OneHotEncoder, StandardScaler\n",
        "from sklearn.impute import SimpleImputer\n",
        "\n",
        "\n",
        "X_train, X_test, y_train, y_test = train_test_split(X, y, test_size = 0.25, random_state = 42)\n",
        "\n",
        "# define column_transformer \n",
        "cat_transform = make_pipeline(SimpleImputer(missing_values = np.nan, strategy = 'constant'), OneHotEncoder(drop = 'if_binary'))\n",
        "\n",
        "numeric_transform = make_pipeline(SimpleImputer(missing_values = np.nan, strategy = 'mean'), StandardScaler())\n",
        "\n",
        "column_transformer = ColumnTransformer(\n",
        "    transformers = [\n",
        "        ('categorical', cat_transform, X.select_dtypes('object').columns),\n",
        "        ('numeric', numeric_transform, X.select_dtypes('number').columns)], \n",
        "    remainder='passthrough')\n",
        "\n",
        "# Transform the data\n",
        "X_train = column_transformer.fit_transform(X_train)\n",
        "X_test = column_transformer.transform(X_test)"
      ]
    },
    {
      "cell_type": "code",
      "source": [
        "X_train"
      ],
      "metadata": {
        "colab": {
          "base_uri": "https://localhost:8080/"
        },
        "id": "VC31glUsF9K8",
        "outputId": "252cc450-e034-4538-f346-470cf669aa6a"
      },
      "execution_count": 69,
      "outputs": [
        {
          "output_type": "execute_result",
          "data": {
            "text/plain": [
              "array([[ 1.        ,  0.        ,  0.        , ...,  0.75989018,\n",
              "         1.19103783,  0.01173106],\n",
              "       [ 1.        ,  0.        ,  0.        , ..., -1.20881984,\n",
              "         1.24600748, -1.78056017],\n",
              "       [ 1.        ,  0.        ,  0.        , ...,  2.8141963 ,\n",
              "         3.16994504,  0.67204889],\n",
              "       ...,\n",
              "       [ 1.        ,  0.        ,  0.        , ...,  1.70144715,\n",
              "        -0.07326399,  1.89835341],\n",
              "       [ 1.        ,  0.        ,  0.        , ...,  0.53163395,\n",
              "        -0.56799079,  1.01792965],\n",
              "       [ 0.        ,  1.        ,  0.        , ...,  1.18787062,\n",
              "        -0.62296044,  1.89835341]])"
            ]
          },
          "metadata": {},
          "execution_count": 69
        }
      ]
    },
    {
      "cell_type": "markdown",
      "metadata": {
        "id": "c7l7i1FgpESj"
      },
      "source": [
        "### Task 2 <a id=\"task2_2\"></a> (0.7 points)\n",
        "\n",
        "Fit and compare 5 different models (use sklearn): Gradient Boosting, Random Forest, Decision Tree, SVM, Logitics Regression\n",
        "    \n",
        "* Choose one classification metric and justify your choice .\n",
        "* Compare the models using score on cross validation. Mind the class balance when choosing the cross validation. (You can read more about different CV strategies [here](https://scikit-learn.org/stable/modules/cross_validation.html#stratified-k-fold))\n",
        "* Which model has the best performance? Which models overfit or underfit?"
      ]
    },
    {
      "cell_type": "code",
      "source": [
        "len(y_test[y_test==0])"
      ],
      "metadata": {
        "colab": {
          "base_uri": "https://localhost:8080/"
        },
        "id": "gxJKQTopYCiB",
        "outputId": "7a14e72b-da18-4df9-cb0f-d5c368f46979"
      },
      "execution_count": 67,
      "outputs": [
        {
          "output_type": "execute_result",
          "data": {
            "text/plain": [
              "893"
            ]
          },
          "metadata": {},
          "execution_count": 67
        }
      ]
    },
    {
      "cell_type": "code",
      "source": [
        "print(f'Is classes balanced: { len(y[y==0]) / len(y) }')"
      ],
      "metadata": {
        "colab": {
          "base_uri": "https://localhost:8080/"
        },
        "id": "bFgF0CjqKx_Q",
        "outputId": "57b5ce79-dd08-4cea-e18b-a2cacda13a67"
      },
      "execution_count": 61,
      "outputs": [
        {
          "output_type": "stream",
          "name": "stdout",
          "text": [
            "Is classes balanced: 0.9387592788971368\n"
          ]
        }
      ]
    },
    {
      "cell_type": "markdown",
      "source": [
        "Классы не сбалансированы (отрицательные результаты составляют 93% всего датасета)\n",
        "\n",
        "Будем использовать F1-меру)"
      ],
      "metadata": {
        "id": "pKRBGJIQHgrX"
      }
    },
    {
      "cell_type": "code",
      "execution_count": 48,
      "metadata": {
        "id": "T_QVpqXtpESj",
        "colab": {
          "base_uri": "https://localhost:8080/",
          "height": 1000
        },
        "outputId": "0730ba0d-87ab-4810-c07d-b7522759e943"
      },
      "outputs": [
        {
          "output_type": "stream",
          "name": "stdout",
          "text": [
            "GradientBoostingClassifier(n_estimators=70, random_state=42)\n",
            "f1_score on test: 0.9842\n",
            "f1_score on train : 0.9831\n",
            "Overfitting: False\n"
          ]
        },
        {
          "output_type": "display_data",
          "data": {
            "text/plain": [
              "<Figure size 432x288 with 2 Axes>"
            ],
            "image/png": "[encoded data removed]"
          },
          "metadata": {
            "needs_background": "light"
          }
        },
        {
          "output_type": "stream",
          "name": "stdout",
          "text": [
            "========================\n",
            "\n",
            "RandomForestClassifier(class_weight='balanced', n_estimators=70,\n",
            "                       random_state=42)\n",
            "f1_score on test: 0.9779\n",
            "f1_score on train : 0.9784\n",
            "Overfitting: True\n"
          ]
        },
        {
          "output_type": "display_data",
          "data": {
            "text/plain": [
              "<Figure size 432x288 with 2 Axes>"
            ],
            "image/png": "[encoded data removed]"
          },
          "metadata": {
            "needs_background": "light"
          }
        },
        {
          "output_type": "stream",
          "name": "stdout",
          "text": [
            "========================\n",
            "\n",
            "DecisionTreeClassifier(class_weight='balanced', random_state=42)\n",
            "f1_score on test: 0.9805\n",
            "f1_score on train : 0.9833\n",
            "Overfitting: True\n"
          ]
        },
        {
          "output_type": "display_data",
          "data": {
            "text/plain": [
              "<Figure size 432x288 with 2 Axes>"
            ],
            "image/png": "[encoded data removed]"
          },
          "metadata": {
            "needs_background": "light"
          }
        },
        {
          "output_type": "stream",
          "name": "stdout",
          "text": [
            "========================\n",
            "\n",
            "SVC(class_weight='balanced', max_iter=500, random_state=42)\n"
          ]
        },
        {
          "output_type": "stream",
          "name": "stderr",
          "text": [
            "/usr/local/lib/python3.7/dist-packages/sklearn/svm/_base.py:289: ConvergenceWarning: Solver terminated early (max_iter=500).  Consider pre-processing your data with StandardScaler or MinMaxScaler.\n",
            "  ConvergenceWarning,\n",
            "/usr/local/lib/python3.7/dist-packages/sklearn/svm/_base.py:289: ConvergenceWarning: Solver terminated early (max_iter=500).  Consider pre-processing your data with StandardScaler or MinMaxScaler.\n",
            "  ConvergenceWarning,\n",
            "/usr/local/lib/python3.7/dist-packages/sklearn/svm/_base.py:289: ConvergenceWarning: Solver terminated early (max_iter=500).  Consider pre-processing your data with StandardScaler or MinMaxScaler.\n",
            "  ConvergenceWarning,\n"
          ]
        },
        {
          "output_type": "stream",
          "name": "stdout",
          "text": [
            "f1_score on test: 0.9528\n",
            "f1_score on train : 0.9595\n",
            "Overfitting: True\n"
          ]
        },
        {
          "output_type": "display_data",
          "data": {
            "text/plain": [
              "<Figure size 432x288 with 2 Axes>"
            ],
            "image/png": "[encoded data removed]"
          },
          "metadata": {
            "needs_background": "light"
          }
        },
        {
          "output_type": "stream",
          "name": "stdout",
          "text": [
            "========================\n",
            "\n",
            "LogisticRegression(class_weight='balanced', max_iter=500, random_state=42)\n",
            "f1_score on test: 0.9155\n",
            "f1_score on train : 0.9171\n",
            "Overfitting: True\n"
          ]
        },
        {
          "output_type": "display_data",
          "data": {
            "text/plain": [
              "<Figure size 432x288 with 2 Axes>"
            ],
            "image/png": "[encoded data removed]"
          },
          "metadata": {
            "needs_background": "light"
          }
        },
        {
          "output_type": "stream",
          "name": "stdout",
          "text": [
            "========================\n",
            "\n"
          ]
        }
      ],
      "source": [
        "from sklearn.metrics import f1_score, confusion_matrix\n",
        "from sklearn.model_selection import StratifiedKFold, cross_validate\n",
        "import seaborn as sns\n",
        "\n",
        "from sklearn.ensemble import GradientBoostingClassifier, RandomForestClassifier\n",
        "from sklearn.tree import DecisionTreeClassifier\n",
        "from sklearn.svm import SVC\n",
        "from sklearn.linear_model import LogisticRegression\n",
        "\n",
        "def train(model):\n",
        "  print(model)\n",
        "  cv = StratifiedKFold(3)\n",
        "  \n",
        "  cross_val = cross_validate(model, X_train, y_train, cv=cv, scoring = 'f1_weighted', return_estimator=True)\n",
        "  \n",
        "  pred = cross_val['estimator'][0].predict(X_test)\n",
        "  train = np.mean(cross_val['test_score'])\n",
        "  f1 = f1_score(y_test, pred, average = 'weighted')\n",
        "\n",
        "  print(f'f1_score on test: {f1:.4f}')\n",
        "  print(f'f1_score on train : {train:.4f}')\n",
        "  print(f'Overfitting: {train > f1}')\n",
        "  labels = ['not sick', 'sick']\n",
        "  sns.heatmap(confusion_matrix(y_test, pred), annot = True, fmt = \"d\", xticklabels = labels, yticklabels = labels)\n",
        "  plt.title('Confusion matrix')\n",
        "  plt.ylabel('Condition')\n",
        "  plt.xlabel('Predicted')\n",
        "  plt.show()\n",
        "  print('========================\\n')\n",
        "\n",
        "models = [GradientBoostingClassifier(n_estimators=70, random_state=42),\n",
        "          RandomForestClassifier(n_estimators=70, random_state=42, class_weight = 'balanced'),\n",
        "          DecisionTreeClassifier(random_state=42, class_weight = 'balanced'),\n",
        "          SVC(max_iter=500, random_state=42, class_weight = 'balanced'),\n",
        "          LogisticRegression(max_iter=500, random_state=42, class_weight = 'balanced')]\n",
        "\n",
        "for model in models:\n",
        "    train(model)"
      ]
    },
    {
      "cell_type": "markdown",
      "source": [
        "Best perfomance: бустинг (f1 = 0.98 + не переобучилась)\n",
        "\n",
        "Хорошо еще себя зарекомендовал random forest и dt, у них такой же f1, и очень похожие на бустинг значения в confusion matrix\n",
        "Все модели показали примерно одинаковый результат, хуже всего зарекомендовала себя регрессия\n",
        "\n",
        "Не переобучилась только одна модель: градиентный бустинг"
      ],
      "metadata": {
        "id": "TaugTq04WyZ-"
      }
    },
    {
      "cell_type": "markdown",
      "metadata": {
        "id": "I1C39c2kpESj"
      },
      "source": [
        "### Task 3 <a id=\"task2_3\"></a> (0.5 points)\n",
        "\n",
        "More Gradient Boosting. You will have to implement one of the three popular boosting implementations (xgboost, lightgbm, catboost). Select hyperparameters (number of trees, learning rate, depth) on cross-validation and compare with the methods from the previous task. \n",
        "\n",
        "To get method that you have to implement, run cell below and input your name in Russian (for example, if you input Андрей, you will see that user with this name should implement xgboost)"
      ]
    },
    {
      "cell_type": "code",
      "execution_count": null,
      "metadata": {
        "id": "e8iewslmpESj",
        "colab": {
          "base_uri": "https://localhost:8080/"
        },
        "outputId": "586f2e41-a90f-435e-9872-534204a6d4a9"
      },
      "outputs": [
        {
          "output_type": "stream",
          "name": "stdout",
          "text": [
            "Анастасия\n",
            "Реализуйте xgboost\n"
          ]
        }
      ],
      "source": [
        "def assign_method():\n",
        "    name = input()\n",
        "    methods = ['xgboost', 'lightgbm', 'catboost']\n",
        "    idx = sum([ord(x) for x in list(name)]) % 3\n",
        "    print('Реализуйте', methods[idx])\n",
        "    \n",
        "assign_method()"
      ]
    },
    {
      "cell_type": "code",
      "execution_count": 22,
      "metadata": {
        "id": "eidhheoPpESk",
        "colab": {
          "base_uri": "https://localhost:8080/"
        },
        "outputId": "9321d995-3fff-49b1-fd1e-5525eff884e5"
      },
      "outputs": [
        {
          "output_type": "execute_result",
          "data": {
            "text/plain": [
              "XGBClassifier(learning_rate=0.01, max_depth=5, n_estimators=500)"
            ]
          },
          "metadata": {},
          "execution_count": 22
        }
      ],
      "source": [
        "import xgboost as xgb\n",
        "from sklearn.model_selection import GridSearchCV\n",
        "\n",
        "xgboost_model = xgb.XGBClassifier()\n",
        "parameters = {\n",
        "    'learning_rate': [0.0001, 0.001, 0.01, 0.1, 0.5, 1], \n",
        "    'max_depth': [1, 5, 10, 20], \n",
        "    'n_estimators': [50, 100, 500, 1000]\n",
        "}\n",
        "\n",
        "grid_search = GridSearchCV(xgboost_model, param_grid = parameters, cv = StratifiedKFold(n_splits = 5))\n",
        "grid_search.fit(X_train, y_train)\n",
        "\n",
        "grid_search.best_estimator_"
      ]
    },
    {
      "cell_type": "markdown",
      "source": [
        "9 минут 😰\n",
        "\n",
        "Лучшие параметры: lr = 0.01, depth = 5, n = 500))"
      ],
      "metadata": {
        "id": "IQh0_MAhxuP_"
      }
    },
    {
      "cell_type": "code",
      "source": [
        "train(xgb.XGBClassifier(max_depth=5, n_estimators=500, learning_rate=0.01))"
      ],
      "metadata": {
        "colab": {
          "base_uri": "https://localhost:8080/",
          "height": 382
        },
        "id": "J9ZjBojOvwTp",
        "outputId": "ae20072d-fb70-4331-b8ec-b9eaa20463b3"
      },
      "execution_count": 23,
      "outputs": [
        {
          "output_type": "stream",
          "name": "stdout",
          "text": [
            "XGBClassifier(learning_rate=0.01, max_depth=5, n_estimators=500)\n",
            "f1_score : 0.98\n",
            "Overfitting: True\n"
          ]
        },
        {
          "output_type": "display_data",
          "data": {
            "text/plain": [
              "<Figure size 432x288 with 2 Axes>"
            ],
            "image/png": "[encoded data removed]"
          },
          "metadata": {
            "needs_background": "light"
          }
        },
        {
          "output_type": "stream",
          "name": "stdout",
          "text": [
            "========================\n",
            "\n"
          ]
        }
      ]
    },
    {
      "cell_type": "markdown",
      "source": [
        "Очень похоже на дерево (с точностью до 1, он его посчитал тру sick)\n",
        "\n",
        "Кажется, что прям улучшить результат не получилось (0.98), но мы нечего и не ухудшили (УСПЕХ!)\n",
        "\n",
        "Модель также переобучается, но видимо не сильно, раз f1_score все равно очень высокий)"
      ],
      "metadata": {
        "id": "OlTnYUVNwj82"
      }
    },
    {
      "cell_type": "markdown",
      "metadata": {
        "id": "rVPtBFB-pESk"
      },
      "source": [
        "### Task 4 <a id=\"task2_4\"></a> (0.7 points)\n",
        "\n",
        "Now let's train more fancy ensembles:\n",
        "\n",
        "* Bagging with decision trees as base estimators\n",
        "* Bagging with gradient boosting (with large amount of trees, >100) as base estimators\n",
        "* [Voting classifier](https://scikit-learn.org/stable/modules/generated/sklearn.ensemble.VotingClassifier.html#sklearn.ensemble.VotingClassifier) \n",
        "* [Stacking Classifier](https://scikit-learn.org/stable/modules/generated/sklearn.ensemble.StackingClassifier.html#sklearn.ensemble.StackingClassifier) with Logistic Regression as a final model\n",
        "* [Stacking Classifier](https://scikit-learn.org/stable/modules/generated/sklearn.ensemble.StackingClassifier.html#sklearn.ensemble.StackingClassifier) with Gradeint Boosting as a final model\n",
        "\n",
        "\n",
        "If not stated in the task, feel free to tune / choose hyperparameters and base models.\n",
        "\n",
        "Answer the questions:\n",
        "* Which model has the best performance?\n",
        "* Does bagging reduce overfiting of the gradient boosting with large amount of trees? \n",
        "* What is the difference between voting and staking? "
      ]
    },
    {
      "cell_type": "code",
      "source": [
        "from sklearn.metrics import accuracy_score\n",
        "\n",
        "def new_train(model):\n",
        "  model = model.fit(X_train, y_train)\n",
        "\n",
        "  pred_train = model.predict(X_train)\n",
        "  pred_test = model.predict(X_test)\n",
        "\n",
        "  f1_train = f1_score(y_train, pred_train, average = 'weighted')\n",
        "  f1_test = f1_score(y_test, pred_test, average = 'weighted')\n",
        "  accuracy_test = accuracy_score(y_test, pred_test)\n",
        "\n",
        "  print(f'f1_score on train: {f1_train:.4f}')\n",
        "  print(f'f1_score on test: {f1_test:.4f}')\n",
        "  print(f'Accuracy : {accuracy_test:.4f}')\n",
        "  print(f'Overfitting: {f1_train > f1_test}')\n",
        "  labels = ['not sick', 'sick']\n",
        "  sns.heatmap(confusion_matrix(y_test, pred_test), annot = True, fmt = \"d\", xticklabels = labels, yticklabels = labels)\n",
        "  plt.title('Confusion matrix')\n",
        "  plt.ylabel('Condition')\n",
        "  plt.xlabel('Predicted')\n",
        "  plt.show()\n",
        "  print('========================\\n')"
      ],
      "metadata": {
        "id": "p-VGgZcn4qJI"
      },
      "execution_count": 45,
      "outputs": []
    },
    {
      "cell_type": "code",
      "execution_count": 46,
      "metadata": {
        "id": "c4bpN-7OpESk",
        "colab": {
          "base_uri": "https://localhost:8080/",
          "height": 1000
        },
        "outputId": "bcbc58d0-6c06-484a-8174-450dd3e69870"
      },
      "outputs": [
        {
          "output_type": "stream",
          "name": "stdout",
          "text": [
            "f1_score on train: 0.9986\n",
            "f1_score on test: 0.9837\n",
            "Accuracy : 0.9841\n",
            "Overfitting: True\n"
          ]
        },
        {
          "output_type": "display_data",
          "data": {
            "text/plain": [
              "<Figure size 432x288 with 2 Axes>"
            ],
            "image/png": "[encoded data removed]"
          },
          "metadata": {
            "needs_background": "light"
          }
        },
        {
          "output_type": "stream",
          "name": "stdout",
          "text": [
            "========================\n",
            "\n",
            "f1_score on train: 0.9979\n",
            "f1_score on test: 0.9894\n",
            "Accuracy : 0.9894\n",
            "Overfitting: True\n"
          ]
        },
        {
          "output_type": "display_data",
          "data": {
            "text/plain": [
              "<Figure size 432x288 with 2 Axes>"
            ],
            "image/png": "[encoded data removed]"
          },
          "metadata": {
            "needs_background": "light"
          }
        },
        {
          "output_type": "stream",
          "name": "stdout",
          "text": [
            "========================\n",
            "\n",
            "f1_score on train: 1.0000\n",
            "f1_score on test: 0.9863\n",
            "Accuracy : 0.9862\n",
            "Overfitting: True\n"
          ]
        },
        {
          "output_type": "display_data",
          "data": {
            "text/plain": [
              "<Figure size 432x288 with 2 Axes>"
            ],
            "image/png": "[encoded data removed]"
          },
          "metadata": {
            "needs_background": "light"
          }
        },
        {
          "output_type": "stream",
          "name": "stdout",
          "text": [
            "========================\n",
            "\n",
            "f1_score on train: 0.9975\n",
            "f1_score on test: 0.9783\n",
            "Accuracy : 0.9767\n",
            "Overfitting: True\n"
          ]
        },
        {
          "output_type": "display_data",
          "data": {
            "text/plain": [
              "<Figure size 432x288 with 2 Axes>"
            ],
            "image/png": "[encoded data removed]"
          },
          "metadata": {
            "needs_background": "light"
          }
        },
        {
          "output_type": "stream",
          "name": "stdout",
          "text": [
            "========================\n",
            "\n",
            "f1_score on train: 0.9979\n",
            "f1_score on test: 0.9825\n",
            "Accuracy : 0.9820\n",
            "Overfitting: True\n"
          ]
        },
        {
          "output_type": "display_data",
          "data": {
            "text/plain": [
              "<Figure size 432x288 with 2 Axes>"
            ],
            "image/png": "[encoded data removed]"
          },
          "metadata": {
            "needs_background": "light"
          }
        },
        {
          "output_type": "stream",
          "name": "stdout",
          "text": [
            "========================\n",
            "\n"
          ]
        }
      ],
      "source": [
        "from sklearn.ensemble import BaggingClassifier, StackingClassifier, VotingClassifier\n",
        "\n",
        "estimators = [('lr', LogisticRegression(class_weight = 'balanced', max_iter = 1500)), \n",
        "                ('rf', RandomForestClassifier(class_weight = 'balanced', n_estimators = 200)), \n",
        "                ('gb', GradientBoostingClassifier(n_estimators = 200))]\n",
        "\n",
        "baggingDT = BaggingClassifier(base_estimator = DecisionTreeClassifier(class_weight = 'balanced', random_state=42))\n",
        "\n",
        "baggingGB = BaggingClassifier(base_estimator = GradientBoostingClassifier(n_estimators=250, random_state=42))\n",
        "\n",
        "voting = VotingClassifier(estimators=estimators, voting='hard')\n",
        "\n",
        "stackingLR = StackingClassifier(estimators=estimators, final_estimator = LogisticRegression(max_iter=1500, random_state=42, class_weight = 'balanced'), cv = StratifiedKFold(n_splits = 3))\n",
        "\n",
        "stackingGB = StackingClassifier(estimators=estimators, final_estimator = GradientBoostingClassifier(n_estimators=250, random_state=42), cv = StratifiedKFold(n_splits = 3))\n",
        "\n",
        "models = [baggingDT, baggingGB, voting, stackingLR, stackingGB]\n",
        "\n",
        "for model in models:\n",
        "    new_train(model)"
      ]
    },
    {
      "cell_type": "markdown",
      "source": [
        "Бэггинг с градиентным бустингом и voting смогли выбить почти 0.99 на тестовой выборке (ШОК!)\n",
        "\n",
        "*(first question)*\n",
        "\n",
        "Видимо, именно их и можно назвать лучшими perfomance)\n",
        "\n",
        "*(second question)*\n",
        "\n",
        "Больше всего переобучается voting\n",
        "\n",
        "Метрики для градиентного бустинга: f1_test =0.9842; f1_train = 0.9831 (нужно учесть, что разные n_estimators)\n",
        "\n",
        "Метрики для бэггинга с ним: f1_test = 0.9894, f1_train = 0.9979\n",
        "\n",
        "В первом случае модель не переобучилась, во втором наоборот => бэггинг не уменьшает переобучение)\n",
        "\n",
        "*(third question)*\n",
        "\n",
        "Voting: смотрим решения эстиматоров, выбираем то, за которое больше всего голосов\n",
        "\n",
        "Stacking: смотрим решения эстиматоров, выбираем то, за которое больше всего голосов, *сверяемся с финальным эстиматором*\n",
        "\n",
        "То есть отличие в том, что в staking'е решение мы принимаем не просто по среднему, а по среднему с учетом решения финального)"
      ],
      "metadata": {
        "id": "MPWsam8n8Og4"
      }
    },
    {
      "cell_type": "markdown",
      "metadata": {
        "id": "aKYLYF9ypESk"
      },
      "source": [
        "### Task 5 <a id=\"task2_5\"></a> (0.1 points)\n",
        "\n",
        "Report the test score for the best model, that you were able to train. "
      ]
    },
    {
      "cell_type": "markdown",
      "source": [
        "**AND THE WINNER IS...**\n",
        "\n",
        "Кажется, что бэггинг с гб был самым лучшим)\n",
        "\n",
        "***CONGRATULATIONS***"
      ],
      "metadata": {
        "id": "a2n972n-CqV4"
      }
    },
    {
      "cell_type": "code",
      "execution_count": 49,
      "metadata": {
        "id": "NpOVIDLxpESk",
        "colab": {
          "base_uri": "https://localhost:8080/"
        },
        "outputId": "f3f606f8-a9c8-4ea8-a384-fb4a961a11f6"
      },
      "outputs": [
        {
          "output_type": "stream",
          "name": "stdout",
          "text": [
            "Bagging with gradient boosting (with large amount of trees, >100) as base estimators\n",
            "f1: 0.9884\n",
            "Recall: 0.9884\n",
            "Precision: 0.9884\n",
            "Accuracy : 0.9883\n"
          ]
        }
      ],
      "source": [
        "from sklearn.metrics import precision_score, recall_score\n",
        "\n",
        "print('Bagging with gradient boosting (with large amount of trees, >100) as base estimators')\n",
        "model = BaggingClassifier(base_estimator = GradientBoostingClassifier(n_estimators=250, random_state=42))\n",
        "model = model.fit(X_train, y_train)\n",
        "\n",
        "pred = model.predict(X_test)\n",
        "\n",
        "f1_test = f1_score(y_test, pred, average = 'weighted')\n",
        "recall_test = f1_score(y_test, pred, average = 'weighted')\n",
        "precision_test = f1_score(y_test, pred, average = 'weighted')\n",
        "accuracy_test = accuracy_score(y_test, pred)\n",
        "\n",
        "print(f'f1: {f1_test:.4f}')\n",
        "print(f'Recall: {recall_test:.4f}')\n",
        "print(f'Precision: {precision_test:.4f}')\n",
        "print(f'Accuracy : {accuracy_test:.4f}')"
      ]
    }
  ],
  "metadata": {
    "kernelspec": {
      "display_name": "Python 3 (ipykernel)",
      "language": "python",
      "name": "python3"
    },
    "language_info": {
      "codemirror_mode": {
        "name": "ipython",
        "version": 3
      },
      "file_extension": ".py",
      "mimetype": "text/x-python",
      "name": "python",
      "nbconvert_exporter": "python",
      "pygments_lexer": "ipython3",
      "version": "3.7.12"
    },
    "colab": {
      "provenance": []
    }
  },
  "nbformat": 4,
  "nbformat_minor": 0
}