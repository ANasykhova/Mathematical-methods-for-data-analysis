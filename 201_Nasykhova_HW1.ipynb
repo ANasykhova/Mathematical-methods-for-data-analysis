{
  "cells": [
    {
      "cell_type": "markdown",
      "metadata": {
        "id": "WuW56NVUTd_D"
      },
      "source": [
        "# HSE 2022: Mathematical Methods for Data Analysis\n",
        "\n",
        "## Homework 1"
      ]
    },
    {
      "cell_type": "markdown",
      "metadata": {
        "id": "jTBnpaP8Td_F"
      },
      "source": [
        "### Attention!\n",
        "* For tasks where <ins>text answer</ins> is required **Russian language** is **allowed**.\n",
        "* If a task asks you to describe something (make coclusions) then **text answer** is **mandatory** and **is** part of the task\n",
        "* **Do not** upload the dataset (titanic.csv) to the grading system (we already have it)\n",
        "* We **only** accept **ipynb** notebooks. If you use Google Colab then you'll have to download the notebook before passing the homework\n",
        "* **Do not** use python loops instead of NumPy vector operations over NumPy vectors - it significantly decreases performance (see why https://blog.paperspace.com/numpy-optimization-vectorization-and-broadcasting/), will be punished with -0.25 for **every** task. \n",
        "Loops are only allowed in part 1 (Tasks 1 - 4). \n",
        "* Some tasks contain tests. They only test you solution on a simple example, thus, passing the test does **not** guarantee you the full grade for the task. "
      ]
    },
    {
      "cell_type": "code",
      "execution_count": null,
      "metadata": {
        "id": "19H5uaIuTd_G"
      },
      "outputs": [],
      "source": [
        "%matplotlib inline\n",
        "import numpy as np\n",
        "import pandas as pd\n",
        "import matplotlib.pyplot as plt\n",
        "import seaborn as sns"
      ]
    },
    {
      "cell_type": "markdown",
      "metadata": {
        "id": "bbuPIFyqTd_G"
      },
      "source": [
        "# 1. Python (2 points) "
      ]
    },
    {
      "cell_type": "markdown",
      "metadata": {
        "id": "pBZpUV0cTd_H"
      },
      "source": [
        "**Task 1** (0.5 points)<br/> \n",
        "Enter nonzero numbers `a`,  `r` and `N`. Find the first `N` members of geometric progression with the first member `a` and factor `r`, without using formula for the product."
      ]
    },
    {
      "cell_type": "code",
      "execution_count": null,
      "metadata": {
        "id": "M5PUvmNeTd_H",
        "colab": {
          "base_uri": "https://localhost:8080/"
        },
        "outputId": "7a16e7cf-6a48-47e9-80d2-03ff054800cc"
      },
      "outputs": [
        {
          "output_type": "stream",
          "name": "stdout",
          "text": [
            "[2, 6, 18]\n"
          ]
        }
      ],
      "source": [
        "def find_product(a,r,N):\n",
        "    arr_product = []\n",
        "    while N > 0:\n",
        "        arr_product.append(a)\n",
        "        a *= r\n",
        "        N -= 1\n",
        "    return arr_product\n",
        "\n",
        "a = 2\n",
        "r = 3\n",
        "N = 3\n",
        "print(find_product(a,r,N))"
      ]
    },
    {
      "cell_type": "markdown",
      "metadata": {
        "id": "68mbBA1WTd_H"
      },
      "source": [
        "**Task 2** (0.5 points) <br/> \n",
        "Enter an integer number `N`. Check if it is a palindrome number. It means that it can be read equally from left to right and from right to back. "
      ]
    },
    {
      "cell_type": "code",
      "execution_count": null,
      "metadata": {
        "id": "xcltH7v-Td_H",
        "colab": {
          "base_uri": "https://localhost:8080/"
        },
        "outputId": "13a44186-b33e-44ab-a658-7eddaf579a8f"
      },
      "outputs": [
        {
          "output_type": "stream",
          "name": "stdout",
          "text": [
            "3 True\n",
            "81 False\n",
            "111 True\n",
            "113 False\n",
            "810 False\n",
            "2022 False\n",
            "4774 True\n",
            "51315 True\n",
            "611816 False\n"
          ]
        }
      ],
      "source": [
        "def check_palindrome(N):\n",
        "    сheck = False\n",
        "    string_N = str(N)\n",
        "    if(string_N == string_N[::-1]):\n",
        "        сheck = True\n",
        "    return сheck\n",
        "\n",
        "for N in [3, 81, 111, 113, 810, 2022, 4774, 51315, 611816]:\n",
        "    print(N, check_palindrome(N))"
      ]
    },
    {
      "cell_type": "markdown",
      "metadata": {
        "id": "bcYGYisPTd_I"
      },
      "source": [
        "**Task 3** (0.5 points) <br/> \n",
        "Find the first `N` palindrome numbers starting from 1000 (you may use the function from the precious task)."
      ]
    },
    {
      "cell_type": "code",
      "execution_count": null,
      "metadata": {
        "id": "pUPfiSrJTd_I",
        "colab": {
          "base_uri": "https://localhost:8080/"
        },
        "outputId": "5749df4c-6d5f-43c3-8869-cfa26cf47651"
      },
      "outputs": [
        {
          "output_type": "stream",
          "name": "stdout",
          "text": [
            "[1001, 1111, 1221, 1331, 1441]\n",
            "[1001, 1111, 1221, 1331, 1441, 1551, 1661, 1771, 1881, 1991]\n",
            "[1001, 1111, 1221, 1331, 1441, 1551, 1661, 1771, 1881, 1991, 2002, 2112, 2222, 2332, 2442, 2552, 2662, 2772, 2882, 2992]\n"
          ]
        }
      ],
      "source": [
        "def find_palindromes(N):\n",
        "    palindromes = []\n",
        "    current = 1000\n",
        "    while N > 0:\n",
        "        if(check_palindrome(current)):\n",
        "            palindromes.append(current)\n",
        "            N -= 1\n",
        "        current += 1\n",
        "\n",
        "    return palindromes\n",
        "\n",
        "print(find_palindromes(5))\n",
        "print(find_palindromes(10))\n",
        "print(find_palindromes(20))"
      ]
    },
    {
      "cell_type": "markdown",
      "metadata": {
        "id": "HzriEhWzTd_I"
      },
      "source": [
        "**Task 4** (0.5 points) <br/> \n",
        "There are numbers: `a`, `b`, `c`. Without using functions `min`, `max` and other functions, find the minimum number."
      ]
    },
    {
      "cell_type": "code",
      "execution_count": null,
      "metadata": {
        "id": "Ku0BXHzITd_I",
        "colab": {
          "base_uri": "https://localhost:8080/"
        },
        "outputId": "c7da4998-d054-4318-92a7-a6598175aa2a"
      },
      "outputs": [
        {
          "output_type": "stream",
          "name": "stdout",
          "text": [
            "80 2 1 \tMinimum: 1\n",
            "12 89 24 \tMinimum: 12\n",
            "92 29 -59 \tMinimum: -59\n",
            "71 92 -53 \tMinimum: -53\n",
            "-8 13 -63 \tMinimum: -63\n",
            "-51 -90 82 \tMinimum: -90\n",
            "-17 -3 -87 \tMinimum: -87\n",
            "-7 95 -28 \tMinimum: -28\n",
            "-48 86 -71 \tMinimum: -71\n",
            "30 -63 1 \tMinimum: -63\n"
          ]
        }
      ],
      "source": [
        "from random import randint\n",
        "def find_min(a, b, c):\n",
        "    min_ = a\n",
        "    if b < min_:\n",
        "        min_ = b\n",
        "    if c < min_:\n",
        "        min_ = c\n",
        "    return min_\n",
        "\n",
        "for i in range(10):\n",
        "    \n",
        "    a = randint(-100, 100)\n",
        "    b = randint(-100, 100)\n",
        "    c = randint(-100, 100)\n",
        "    \n",
        "    print(a, b, c, '\\tMinimum:', find_min(a, b, c))"
      ]
    },
    {
      "cell_type": "markdown",
      "metadata": {
        "id": "CgrvGgPATd_I"
      },
      "source": [
        "# 2. Numpy (4 points)"
      ]
    },
    {
      "cell_type": "markdown",
      "metadata": {
        "id": "cJdTYW8tTd_J"
      },
      "source": [
        "**Task 1** (0.5 points) <br/>\n",
        "Create a random array (`np.random.rand()`) with length of 17 and with sum of its elements equals to 6."
      ]
    },
    {
      "cell_type": "code",
      "execution_count": null,
      "metadata": {
        "id": "ZgIi6dSeTd_J",
        "colab": {
          "base_uri": "https://localhost:8080/"
        },
        "outputId": "ee4f3726-62ef-45b0-a1fc-4a643dbe6b80"
      },
      "outputs": [
        {
          "output_type": "stream",
          "name": "stdout",
          "text": [
            "Length: 17\n",
            "Sum of elements: 6.0\n"
          ]
        }
      ],
      "source": [
        "my_array = np.random.rand(17)\n",
        "my_array *= 6 / np.sum(my_array)\n",
        "print(f'Length: {len(my_array)}')\n",
        "print(f'Sum of elements: {np.sum(my_array)}')\n",
        "assert len(my_array) == 17\n",
        "assert np.allclose(np.sum(my_array), 6)"
      ]
    },
    {
      "cell_type": "markdown",
      "metadata": {
        "id": "ESGBN1vQTd_J"
      },
      "source": [
        "**Task 2** (0.5 points) <br/>\n",
        "Create two random arrays $a$ and $b$ with the same length. \n",
        "\n",
        "Calculate the following distances between the arrays **without using special function. You may only use basic numpy operations (`np.linalg.*` and other high-level ones are prohibited).**:\n",
        "\n",
        "* Manhattan Distance\n",
        "$$ d(a, b) = \\sum_i |a_i - b_i| $$\n",
        "* Euclidean Distance\n",
        "$$ d(a, b) = \\sqrt{\\sum_i (a_i - b_i)^2} $$\n",
        "* Chebyshev Distance\n",
        "$$ d(a, b) = \\underset{i}{max} |a_i - b_i| $$\n",
        "* Cosine Distance\n",
        "$$ d(a, b) = 1 - \\frac{a^\\top b}{||a||_2\\cdot||b||_2} $$\n"
      ]
    },
    {
      "cell_type": "code",
      "execution_count": null,
      "metadata": {
        "id": "0yPxI8G4Td_J"
      },
      "outputs": [],
      "source": [
        "def calculate_manhattan(a, b):    \n",
        "    distance = np.sum(np.abs(a - b))\n",
        "    return distance\n",
        "\n",
        "def calculate_euclidean(a, b):    \n",
        "    distance = np.sqrt(np.sum((a - b) ** 2))\n",
        "    return distance\n",
        "\n",
        "def calculate_chebyshev(a, b):    \n",
        "    distance = np.max(np.abs(a - b))\n",
        "    return distance\n",
        "\n",
        "def calculate_cosine(a, b):    \n",
        "    distance = 1 - np.dot(a, b) / (np.sqrt(np.sum(a ** 2)) * np.sqrt(np.sum(b ** 2)))\n",
        "    return distance"
      ]
    },
    {
      "cell_type": "code",
      "execution_count": null,
      "metadata": {
        "id": "RbXfzrIbTd_J",
        "colab": {
          "base_uri": "https://localhost:8080/"
        },
        "outputId": "704066bc-c792-4639-9f9e-777cfdeb4c1c"
      },
      "outputs": [
        {
          "output_type": "stream",
          "name": "stdout",
          "text": [
            "Manhattan distance: 5.151993571002997\n",
            "Euclidean distance: 1.4621141479037871\n",
            "Chebyshev distance: 0.5838245915522428\n",
            "Cosine distance: 0.16570784533364902\n"
          ]
        }
      ],
      "source": [
        "length = 20\n",
        "a = np.random.rand(length)\n",
        "b = np.random.rand(length)\n",
        "print(f'Manhattan distance: {calculate_manhattan(a, b)}')\n",
        "print(f'Euclidean distance: {calculate_euclidean(a, b)}')\n",
        "print(f'Chebyshev distance: {calculate_chebyshev(a, b)}')\n",
        "print(f'Cosine distance: {calculate_cosine(a, b)}')\n",
        "\n",
        "assert np.allclose(np.linalg.norm(a - b, ord = 1), calculate_manhattan(a, b))\n",
        "assert np.allclose(np.linalg.norm(a - b), calculate_euclidean(a, b))\n",
        "assert np.allclose(np.linalg.norm(a - b, ord = np.inf), calculate_chebyshev(a, b))\n",
        "assert np.allclose(1 - np.dot(a, b)/(np.linalg.norm(a)*(np.linalg.norm(b))), calculate_cosine(a, b))"
      ]
    },
    {
      "cell_type": "markdown",
      "metadata": {
        "id": "qcmNGlmzTd_K"
      },
      "source": [
        "**Task 3** (0.5 points) <br/>\n",
        "Create a random array (`np.random.randint()`) with length of 76. Transform the array so that \n",
        "* Maximum element(s) value is -1\n",
        "* Minimum element(s) value is -4\n",
        "* Other values are in interval (-4; -1) with keeping the order"
      ]
    },
    {
      "cell_type": "code",
      "execution_count": null,
      "metadata": {
        "id": "-0piflnYTd_K"
      },
      "outputs": [],
      "source": [
        "def transform(array):\n",
        "    transformed_array = (3 * (array - np.min(array)) / (np.max(array) - np.min(array))) - 4\n",
        "    return transformed_array"
      ]
    },
    {
      "cell_type": "code",
      "execution_count": null,
      "metadata": {
        "id": "tTvpauuwTd_K",
        "colab": {
          "base_uri": "https://localhost:8080/"
        },
        "outputId": "d8e5454f-2315-4af6-bbc5-f362b40feb7c"
      },
      "outputs": [
        {
          "output_type": "stream",
          "name": "stdout",
          "text": [
            "Min: -4.0\n",
            "Max: -1.0\n",
            "Array:\n",
            "[-3.15384615 -2.93846154 -2.64615385 -3.33846154 -1.4        -3.44615385\n",
            " -3.81538462 -1.84615385 -3.76923077 -1.92307692 -2.29230769 -1.72307692\n",
            " -3.90769231 -3.58461538 -2.30769231 -3.69230769 -2.12307692 -1.23076923\n",
            " -3.86153846 -2.56923077 -3.43076923 -1.53846154 -2.83076923 -3.13846154\n",
            " -3.72307692 -2.06153846 -2.86153846 -2.47692308 -2.36923077 -2.78461538\n",
            " -2.83076923 -1.41538462 -1.84615385 -1.         -3.21538462 -1.55384615\n",
            " -2.61538462 -1.29230769 -4.         -3.73846154 -3.72307692 -2.93846154\n",
            " -2.09230769 -1.32307692 -3.35384615 -1.10769231 -2.18461538 -2.03076923\n",
            " -2.61538462 -1.53846154 -2.93846154 -1.43076923 -3.23076923 -2.96923077\n",
            " -1.78461538 -2.53846154 -3.61538462 -2.23076923 -2.52307692 -1.07692308\n",
            " -3.98461538 -1.43076923 -3.84615385 -2.21538462 -1.55384615 -2.69230769\n",
            " -1.36923077 -3.35384615 -1.53846154 -2.4        -1.44615385 -1.50769231\n",
            " -2.         -2.58461538 -3.66153846 -1.63076923]\n"
          ]
        }
      ],
      "source": [
        "my_array = np.random.randint(-100, 101, size = 76)\n",
        "my_array = transform(my_array)\n",
        "print(f'Min: {np.min(my_array)}')\n",
        "print(f'Max: {np.max(my_array)}')\n",
        "print('Array:')\n",
        "print(my_array)\n",
        "\n",
        "assert np.allclose(np.max(my_array), -1)\n",
        "assert np.allclose(np.min(my_array), -4)"
      ]
    },
    {
      "cell_type": "markdown",
      "metadata": {
        "id": "39azXrQHTd_K"
      },
      "source": [
        "**Task 4** (0.5 points) <br/>\n",
        "Create an array with shape of $8 \\times 5$ with integers from [-7, 43]. Print a column that contains the maximum element of the array."
      ]
    },
    {
      "cell_type": "code",
      "execution_count": null,
      "metadata": {
        "id": "TW9hGto3Td_K",
        "colab": {
          "base_uri": "https://localhost:8080/"
        },
        "outputId": "89e63398-1de5-44d4-f29e-5bde52ab660d"
      },
      "outputs": [
        {
          "output_type": "stream",
          "name": "stdout",
          "text": [
            "Shape:  (8, 5)\n",
            "Array:\n",
            "[[ 1 42  2 39 -3]\n",
            " [33 26 29 28 37]\n",
            " [26 24 43 11 33]\n",
            " [19  2 19 23 35]\n",
            " [ 5 17 41 36 16]\n",
            " [ 1 28 -2 34 39]\n",
            " [36 15 -4  6 11]\n",
            " [ 9 26 17 34 -3]]\n",
            "Selected column: [ 2 29 43 19 41 -2 -4 17]\n"
          ]
        }
      ],
      "source": [
        "my_array = np.random.randint(-7, 44, size = (8, 5))\n",
        "selected_column = my_array[:, np.argmax(my_array) % 5]\n",
        "print('Shape: ', my_array.shape)\n",
        "print('Array:')\n",
        "print(my_array)\n",
        "print(f'Selected column: {selected_column}')"
      ]
    },
    {
      "cell_type": "markdown",
      "metadata": {
        "id": "ySz3W50RTd_L"
      },
      "source": [
        "**Task 5** (0.5 points) <br/>\n",
        "\n",
        "Replace all missing values in the following array with median."
      ]
    },
    {
      "cell_type": "code",
      "execution_count": null,
      "metadata": {
        "id": "_sh0hnMkTd_L",
        "colab": {
          "base_uri": "https://localhost:8080/"
        },
        "outputId": "0cee597e-7c6b-43e3-bacc-e61842336029"
      },
      "outputs": [
        {
          "output_type": "stream",
          "name": "stdout",
          "text": [
            "Array:\n",
            "[0.70816962        nan        nan 0.47386402        nan 0.85008334\n",
            " 0.53301439 0.56120792 0.91178476        nan]\n"
          ]
        }
      ],
      "source": [
        "arr = np.random.rand(10)\n",
        "idx = np.random.randint(0, 10, 4)\n",
        "arr[idx] = np.nan\n",
        "\n",
        "print('Array:')\n",
        "print(arr)"
      ]
    },
    {
      "cell_type": "code",
      "execution_count": null,
      "metadata": {
        "id": "7tZBlroMTd_L"
      },
      "outputs": [],
      "source": [
        "def replace_missing(arr):\n",
        "    array_without_missing = arr\n",
        "    array_without_missing[np.isnan(arr)] = np.median(arr[~np.isnan(arr)])\n",
        "    return array_without_missing"
      ]
    },
    {
      "cell_type": "code",
      "execution_count": null,
      "metadata": {
        "id": "tTAJwS6zTd_L",
        "colab": {
          "base_uri": "https://localhost:8080/"
        },
        "outputId": "8699c8e6-3eed-4f4f-8461-e3b728ae3dc1"
      },
      "outputs": [
        {
          "output_type": "stream",
          "name": "stdout",
          "text": [
            "Array with no missing values:\n",
            "[0.70816962 0.63468877 0.63468877 0.47386402 0.63468877 0.85008334\n",
            " 0.53301439 0.56120792 0.91178476 0.63468877]\n"
          ]
        }
      ],
      "source": [
        "arr = replace_missing(arr)\n",
        "print('Array with no missing values:')\n",
        "print(arr)"
      ]
    },
    {
      "cell_type": "markdown",
      "metadata": {
        "id": "BsE5JCvsTd_L"
      },
      "source": [
        "**Task 6** (0.5 points) <br/>\n",
        "Create a function which takes an image ```X``` (3D array of the shape (n, m, 3)) as an input and returns the mean for all 3 channels (a vector of shape 3)."
      ]
    },
    {
      "cell_type": "code",
      "execution_count": null,
      "metadata": {
        "id": "zhFB3rAsTd_L"
      },
      "outputs": [],
      "source": [
        "def mean_channel(X):\n",
        "    red = np.mean(X[:,:,0])\n",
        "    green = np.mean(X[:,:,1])\n",
        "    blue = np.mean(X[:,:,2])\n",
        "    mean_vector = [red, green, blue]\n",
        "    return mean_vector"
      ]
    },
    {
      "cell_type": "code",
      "execution_count": null,
      "metadata": {
        "id": "Sksai8xjTd_M",
        "colab": {
          "base_uri": "https://localhost:8080/"
        },
        "outputId": "39bc4ae5-852e-47ab-d6eb-2e1b45879181"
      },
      "outputs": [
        {
          "output_type": "stream",
          "name": "stdout",
          "text": [
            "Vector of means: [-1.9176201372997712, -1.8352402745995424, -1.8123569794050343]\n"
          ]
        }
      ],
      "source": [
        "n = 19\n",
        "m = 23\n",
        "# Кажется, что изображение имеет размеры 3,n,m - 3 матрицы (каждая 19х23), RGB\n",
        "# X =  np.random.randint(-11, 8, size=(3,n, m)) - было бы проще\n",
        "# Видимо, это специальное усложнение\n",
        "X =  np.random.randint(-11, 8, size=(n, m, 3))\n",
        "print(f'Vector of means: {mean_channel(X)}')"
      ]
    },
    {
      "cell_type": "markdown",
      "metadata": {
        "id": "JjptXy9NTd_M"
      },
      "source": [
        "### **Task 7** (1 points) <br/>\n",
        "Create a function which takes a 3D matrix ```X``` as an input and returns all its unique vertical (first axis) layers.\n",
        "\n",
        "Sample input:\n",
        "\n",
        "     ([[[1, 2, 3],\n",
        "        [1, 2, 3],\n",
        "        [1, 2, 3]],\n",
        "\n",
        "       [[4, 5, 6],\n",
        "        [4, 5, 7]\n",
        "        [4, 5, 6]],\n",
        "\n",
        "       [[7, 8, 9],\n",
        "        [7, 8, 9]\n",
        "        [7, 8, 9]]])\n",
        "        \n",
        "Sample output:\n",
        "\n",
        "     ([[[1, 2, 3],\n",
        "        [1, 2, 3]],\n",
        "\n",
        "       [[4, 5, 6],\n",
        "        [4, 5, 7]],\n",
        "\n",
        "       [[7, 8, 9],\n",
        "        [7, 8, 9]]])"
      ]
    },
    {
      "cell_type": "code",
      "execution_count": null,
      "metadata": {
        "id": "CBVwj8r5Td_M"
      },
      "outputs": [],
      "source": [
        "def get_unique_columns(X):\n",
        "    X_unique = np.unique(X, axis=1)\n",
        "    return X_unique"
      ]
    },
    {
      "cell_type": "code",
      "execution_count": null,
      "metadata": {
        "id": "up5SILoLTd_M",
        "colab": {
          "base_uri": "https://localhost:8080/"
        },
        "outputId": "212d7375-2721-444f-8146-f945badd623a"
      },
      "outputs": [
        {
          "output_type": "stream",
          "name": "stdout",
          "text": [
            "Matrix:\n",
            "[[[4 5 5]\n",
            "  [4 4 5]\n",
            "  [4 5 4]]\n",
            "\n",
            " [[4 4 5]\n",
            "  [4 5 5]\n",
            "  [5 5 4]]\n",
            "\n",
            " [[4 5 5]\n",
            "  [4 4 5]\n",
            "  [4 4 4]]\n",
            "\n",
            " [[5 5 4]\n",
            "  [4 5 4]\n",
            "  [5 4 5]]\n",
            "\n",
            " [[4 4 4]\n",
            "  [5 5 4]\n",
            "  [5 5 5]]\n",
            "\n",
            " [[5 5 5]\n",
            "  [4 5 4]\n",
            "  [4 5 5]]\n",
            "\n",
            " [[4 4 4]\n",
            "  [5 5 5]\n",
            "  [5 5 4]]\n",
            "\n",
            " [[4 4 5]\n",
            "  [4 5 4]\n",
            "  [4 5 5]]\n",
            "\n",
            " [[5 4 5]\n",
            "  [4 4 5]\n",
            "  [4 5 5]]\n",
            "\n",
            " [[5 4 4]\n",
            "  [5 5 4]\n",
            "  [4 5 4]]\n",
            "\n",
            " [[4 5 4]\n",
            "  [4 4 5]\n",
            "  [4 5 4]]\n",
            "\n",
            " [[4 5 5]\n",
            "  [5 4 5]\n",
            "  [5 4 5]]\n",
            "\n",
            " [[4 5 5]\n",
            "  [4 4 5]\n",
            "  [5 5 5]]\n",
            "\n",
            " [[4 4 4]\n",
            "  [5 4 5]\n",
            "  [5 4 5]]\n",
            "\n",
            " [[4 5 5]\n",
            "  [5 4 4]\n",
            "  [5 4 4]]\n",
            "\n",
            " [[5 5 5]\n",
            "  [5 4 4]\n",
            "  [5 5 4]]\n",
            "\n",
            " [[5 4 4]\n",
            "  [4 4 5]\n",
            "  [5 5 4]]\n",
            "\n",
            " [[5 5 4]\n",
            "  [4 4 4]\n",
            "  [4 5 5]]\n",
            "\n",
            " [[4 5 5]\n",
            "  [5 4 5]\n",
            "  [4 4 4]]]\n",
            "Unique columns:\n"
          ]
        },
        {
          "output_type": "execute_result",
          "data": {
            "text/plain": [
              "array([[[4, 4, 5],\n",
              "        [4, 5, 4],\n",
              "        [4, 5, 5]],\n",
              "\n",
              "       [[4, 5, 5],\n",
              "        [5, 5, 4],\n",
              "        [4, 4, 5]],\n",
              "\n",
              "       [[4, 4, 5],\n",
              "        [4, 4, 4],\n",
              "        [4, 5, 5]],\n",
              "\n",
              "       [[4, 5, 4],\n",
              "        [5, 4, 5],\n",
              "        [5, 5, 4]],\n",
              "\n",
              "       [[5, 5, 4],\n",
              "        [5, 5, 5],\n",
              "        [4, 4, 4]],\n",
              "\n",
              "       [[4, 5, 4],\n",
              "        [4, 5, 5],\n",
              "        [5, 5, 5]],\n",
              "\n",
              "       [[5, 5, 5],\n",
              "        [5, 5, 4],\n",
              "        [4, 4, 4]],\n",
              "\n",
              "       [[4, 5, 4],\n",
              "        [4, 5, 5],\n",
              "        [4, 4, 5]],\n",
              "\n",
              "       [[4, 4, 5],\n",
              "        [4, 5, 5],\n",
              "        [5, 4, 5]],\n",
              "\n",
              "       [[5, 5, 4],\n",
              "        [4, 5, 4],\n",
              "        [5, 4, 4]],\n",
              "\n",
              "       [[4, 4, 5],\n",
              "        [4, 5, 4],\n",
              "        [4, 5, 4]],\n",
              "\n",
              "       [[5, 4, 5],\n",
              "        [5, 4, 5],\n",
              "        [4, 5, 5]],\n",
              "\n",
              "       [[4, 4, 5],\n",
              "        [5, 5, 5],\n",
              "        [4, 5, 5]],\n",
              "\n",
              "       [[5, 4, 5],\n",
              "        [5, 4, 5],\n",
              "        [4, 4, 4]],\n",
              "\n",
              "       [[5, 4, 4],\n",
              "        [5, 4, 4],\n",
              "        [4, 5, 5]],\n",
              "\n",
              "       [[5, 4, 4],\n",
              "        [5, 5, 4],\n",
              "        [5, 5, 5]],\n",
              "\n",
              "       [[4, 4, 5],\n",
              "        [5, 5, 4],\n",
              "        [5, 4, 4]],\n",
              "\n",
              "       [[4, 4, 4],\n",
              "        [4, 5, 5],\n",
              "        [5, 5, 4]],\n",
              "\n",
              "       [[5, 4, 5],\n",
              "        [4, 4, 4],\n",
              "        [4, 5, 5]]])"
            ]
          },
          "metadata": {},
          "execution_count": 90
        }
      ],
      "source": [
        "X =  np.random.randint(4, 6, size=(n, 3, 3))\n",
        "print('Matrix:')\n",
        "print(X)\n",
        "print('Unique columns:')\n",
        "get_unique_columns(X)"
      ]
    },
    {
      "cell_type": "markdown",
      "metadata": {
        "id": "Q1BsdTNzTd_M"
      },
      "source": [
        "# 3. Pandas & Visualization (4 points)\n"
      ]
    },
    {
      "cell_type": "markdown",
      "metadata": {
        "id": "1Xuv9zbmTd_M"
      },
      "source": [
        "You are going to work with *Titanic* dataset which contains information about passengers of Titanic:\n",
        "- **Survived** - 1 - survived, 0 - died (0); **Target variable**\n",
        "- **pclass** - passengers's class;\n",
        "- **sex** - passengers's sex\n",
        "- **Age** - passengers's age in years\n",
        "- **sibsp**    - is the passenger someones siblings   \n",
        "- **parch**    - is the passenger someones child or parent\n",
        "- **ticket** - ticket number    \n",
        "- **fare** - ticket price    \n",
        "- **cabin** - cabin number\n",
        "- **embarked** - port of Embarkation; C = Cherbourg, Q = Queenstown, S = Southampton\n",
        "\n",
        "**Note** for all visualizations use matplotlib or seaborn but NOT plotly! Plotly's graphics sometimes vanish after saving. In this case the task wont't be graded.\n",
        "\n",
        "**Note** support all your answers with necessary code, computations, vizualization, and explanation. Answers without code and explanation won't be graded.\n",
        "\n",
        "**Task 0** (0 points) \\\n",
        "Load the dataset and print first 5 rows"
      ]
    },
    {
      "cell_type": "code",
      "execution_count": null,
      "metadata": {
        "id": "k7S9ZpIbTd_M",
        "colab": {
          "base_uri": "https://localhost:8080/",
          "height": 237
        },
        "outputId": "8b4f0fd4-5e75-48b1-a443-acd18faca761"
      },
      "outputs": [
        {
          "output_type": "execute_result",
          "data": {
            "text/plain": [
              "             Survived  Pclass  \\\n",
              "PassengerId                     \n",
              "1                   0       3   \n",
              "2                   1       1   \n",
              "3                   1       3   \n",
              "4                   1       1   \n",
              "5                   0       3   \n",
              "\n",
              "                                                          Name     Sex   Age  \\\n",
              "PassengerId                                                                    \n",
              "1                                      Braund, Mr. Owen Harris    male  22.0   \n",
              "2            Cumings, Mrs. John Bradley (Florence Briggs Th...  female  38.0   \n",
              "3                                       Heikkinen, Miss. Laina  female  26.0   \n",
              "4                 Futrelle, Mrs. Jacques Heath (Lily May Peel)  female  35.0   \n",
              "5                                     Allen, Mr. William Henry    male  35.0   \n",
              "\n",
              "             SibSp  Parch            Ticket     Fare Cabin Embarked  \n",
              "PassengerId                                                          \n",
              "1                1      0         A/5 21171   7.2500   NaN        S  \n",
              "2                1      0          PC 17599  71.2833   C85        C  \n",
              "3                0      0  STON/O2. 3101282   7.9250   NaN        S  \n",
              "4                1      0            113803  53.1000  C123        S  \n",
              "5                0      0            373450   8.0500   NaN        S  "
            ],
            "text/html": [
              "\n",
              "  <div id=\"df-8dc07b3b-4837-40a2-8bea-20a688bfe1b3\">\n",
              "    <div class=\"colab-df-container\">\n",
              "      <div>\n",
              "<style scoped>\n",
              "    .dataframe tbody tr th:only-of-type {\n",
              "        vertical-align: middle;\n",
              "    }\n",
              "\n",
              "    .dataframe tbody tr th {\n",
              "        vertical-align: top;\n",
              "    }\n",
              "\n",
              "    .dataframe thead th {\n",
              "        text-align: right;\n",
              "    }\n",
              "</style>\n",
              "<table border=\"1\" class=\"dataframe\">\n",
              "  <thead>\n",
              "    <tr style=\"text-align: right;\">\n",
              "      <th></th>\n",
              "      <th>Survived</th>\n",
              "      <th>Pclass</th>\n",
              "      <th>Name</th>\n",
              "      <th>Sex</th>\n",
              "      <th>Age</th>\n",
              "      <th>SibSp</th>\n",
              "      <th>Parch</th>\n",
              "      <th>Ticket</th>\n",
              "      <th>Fare</th>\n",
              "      <th>Cabin</th>\n",
              "      <th>Embarked</th>\n",
              "    </tr>\n",
              "    <tr>\n",
              "      <th>PassengerId</th>\n",
              "      <th></th>\n",
              "      <th></th>\n",
              "      <th></th>\n",
              "      <th></th>\n",
              "      <th></th>\n",
              "      <th></th>\n",
              "      <th></th>\n",
              "      <th></th>\n",
              "      <th></th>\n",
              "      <th></th>\n",
              "      <th></th>\n",
              "    </tr>\n",
              "  </thead>\n",
              "  <tbody>\n",
              "    <tr>\n",
              "      <th>1</th>\n",
              "      <td>0</td>\n",
              "      <td>3</td>\n",
              "      <td>Braund, Mr. Owen Harris</td>\n",
              "      <td>male</td>\n",
              "      <td>22.0</td>\n",
              "      <td>1</td>\n",
              "      <td>0</td>\n",
              "      <td>A/5 21171</td>\n",
              "      <td>7.2500</td>\n",
              "      <td>NaN</td>\n",
              "      <td>S</td>\n",
              "    </tr>\n",
              "    <tr>\n",
              "      <th>2</th>\n",
              "      <td>1</td>\n",
              "      <td>1</td>\n",
              "      <td>Cumings, Mrs. John Bradley (Florence Briggs Th...</td>\n",
              "      <td>female</td>\n",
              "      <td>38.0</td>\n",
              "      <td>1</td>\n",
              "      <td>0</td>\n",
              "      <td>PC 17599</td>\n",
              "      <td>71.2833</td>\n",
              "      <td>C85</td>\n",
              "      <td>C</td>\n",
              "    </tr>\n",
              "    <tr>\n",
              "      <th>3</th>\n",
              "      <td>1</td>\n",
              "      <td>3</td>\n",
              "      <td>Heikkinen, Miss. Laina</td>\n",
              "      <td>female</td>\n",
              "      <td>26.0</td>\n",
              "      <td>0</td>\n",
              "      <td>0</td>\n",
              "      <td>STON/O2. 3101282</td>\n",
              "      <td>7.9250</td>\n",
              "      <td>NaN</td>\n",
              "      <td>S</td>\n",
              "    </tr>\n",
              "    <tr>\n",
              "      <th>4</th>\n",
              "      <td>1</td>\n",
              "      <td>1</td>\n",
              "      <td>Futrelle, Mrs. Jacques Heath (Lily May Peel)</td>\n",
              "      <td>female</td>\n",
              "      <td>35.0</td>\n",
              "      <td>1</td>\n",
              "      <td>0</td>\n",
              "      <td>113803</td>\n",
              "      <td>53.1000</td>\n",
              "      <td>C123</td>\n",
              "      <td>S</td>\n",
              "    </tr>\n",
              "    <tr>\n",
              "      <th>5</th>\n",
              "      <td>0</td>\n",
              "      <td>3</td>\n",
              "      <td>Allen, Mr. William Henry</td>\n",
              "      <td>male</td>\n",
              "      <td>35.0</td>\n",
              "      <td>0</td>\n",
              "      <td>0</td>\n",
              "      <td>373450</td>\n",
              "      <td>8.0500</td>\n",
              "      <td>NaN</td>\n",
              "      <td>S</td>\n",
              "    </tr>\n",
              "  </tbody>\n",
              "</table>\n",
              "</div>\n",
              "      <button class=\"colab-df-convert\" onclick=\"convertToInteractive('df-8dc07b3b-4837-40a2-8bea-20a688bfe1b3')\"\n",
              "              title=\"Convert this dataframe to an interactive table.\"\n",
              "              style=\"display:none;\">\n",
              "        \n",
              "  <svg xmlns=\"http://www.w3.org/2000/svg\" height=\"24px\"viewBox=\"0 0 24 24\"\n",
              "       width=\"24px\">\n",
              "    <path d=\"M0 0h24v24H0V0z\" fill=\"none\"/>\n",
              "    <path d=\"M18.56 5.44l.94 2.06.94-2.06 2.06-.94-2.06-.94-.94-2.06-.94 2.06-2.06.94zm-11 1L8.5 8.5l.94-2.06 2.06-.94-2.06-.94L8.5 2.5l-.94 2.06-2.06.94zm10 10l.94 2.06.94-2.06 2.06-.94-2.06-.94-.94-2.06-.94 2.06-2.06.94z\"/><path d=\"M17.41 7.96l-1.37-1.37c-.4-.4-.92-.59-1.43-.59-.52 0-1.04.2-1.43.59L10.3 9.45l-7.72 7.72c-.78.78-.78 2.05 0 2.83L4 21.41c.39.39.9.59 1.41.59.51 0 1.02-.2 1.41-.59l7.78-7.78 2.81-2.81c.8-.78.8-2.07 0-2.86zM5.41 20L4 18.59l7.72-7.72 1.47 1.35L5.41 20z\"/>\n",
              "  </svg>\n",
              "      </button>\n",
              "      \n",
              "  <style>\n",
              "    .colab-df-container {\n",
              "      display:flex;\n",
              "      flex-wrap:wrap;\n",
              "      gap: 12px;\n",
              "    }\n",
              "\n",
              "    .colab-df-convert {\n",
              "      background-color: #E8F0FE;\n",
              "      border: none;\n",
              "      border-radius: 50%;\n",
              "      cursor: pointer;\n",
              "      display: none;\n",
              "      fill: #1967D2;\n",
              "      height: 32px;\n",
              "      padding: 0 0 0 0;\n",
              "      width: 32px;\n",
              "    }\n",
              "\n",
              "    .colab-df-convert:hover {\n",
              "      background-color: #E2EBFA;\n",
              "      box-shadow: 0px 1px 2px rgba(60, 64, 67, 0.3), 0px 1px 3px 1px rgba(60, 64, 67, 0.15);\n",
              "      fill: #174EA6;\n",
              "    }\n",
              "\n",
              "    [theme=dark] .colab-df-convert {\n",
              "      background-color: #3B4455;\n",
              "      fill: #D2E3FC;\n",
              "    }\n",
              "\n",
              "    [theme=dark] .colab-df-convert:hover {\n",
              "      background-color: #434B5C;\n",
              "      box-shadow: 0px 1px 3px 1px rgba(0, 0, 0, 0.15);\n",
              "      filter: drop-shadow(0px 1px 2px rgba(0, 0, 0, 0.3));\n",
              "      fill: #FFFFFF;\n",
              "    }\n",
              "  </style>\n",
              "\n",
              "      <script>\n",
              "        const buttonEl =\n",
              "          document.querySelector('#df-8dc07b3b-4837-40a2-8bea-20a688bfe1b3 button.colab-df-convert');\n",
              "        buttonEl.style.display =\n",
              "          google.colab.kernel.accessAllowed ? 'block' : 'none';\n",
              "\n",
              "        async function convertToInteractive(key) {\n",
              "          const element = document.querySelector('#df-8dc07b3b-4837-40a2-8bea-20a688bfe1b3');\n",
              "          const dataTable =\n",
              "            await google.colab.kernel.invokeFunction('convertToInteractive',\n",
              "                                                     [key], {});\n",
              "          if (!dataTable) return;\n",
              "\n",
              "          const docLinkHtml = 'Like what you see? Visit the ' +\n",
              "            '<a target=\"_blank\" href=https://colab.research.google.com/notebooks/data_table.ipynb>data table notebook</a>'\n",
              "            + ' to learn more about interactive tables.';\n",
              "          element.innerHTML = '';\n",
              "          dataTable['output_type'] = 'display_data';\n",
              "          await google.colab.output.renderOutput(dataTable, element);\n",
              "          const docLink = document.createElement('div');\n",
              "          docLink.innerHTML = docLinkHtml;\n",
              "          element.appendChild(docLink);\n",
              "        }\n",
              "      </script>\n",
              "    </div>\n",
              "  </div>\n",
              "  "
            ]
          },
          "metadata": {},
          "execution_count": 91
        }
      ],
      "source": [
        "dataset = pd.read_csv(\"titanic.csv\", index_col=0)\n",
        "dataset.head()"
      ]
    },
    {
      "cell_type": "markdown",
      "metadata": {
        "id": "2uBrzmXVTd_N"
      },
      "source": [
        "**Task 1** (1 points) <br/>\n",
        "Answer the following questions:\n",
        "    \n",
        "    * Are there any missing values? In what columns?\n",
        "    * What is the percentage of survived passengers? Are the classes balanced?\n",
        "    * Were there more males or females?\n",
        "    * What what the least popular port of embarkation?\n",
        "    * How many classes (pclass) were there on Tinanic?\n",
        "    * What is the overall average ticket fare? And for every class?\n",
        "Please, write not only the answers but the code, proving it."
      ]
    },
    {
      "cell_type": "code",
      "execution_count": null,
      "metadata": {
        "id": "B49mRpsHTd_N",
        "colab": {
          "base_uri": "https://localhost:8080/"
        },
        "outputId": "f04df2cd-ecdd-4d70-de5f-aa2df6bea1a7"
      },
      "outputs": [
        {
          "output_type": "execute_result",
          "data": {
            "text/plain": [
              "Survived      0\n",
              "Pclass        0\n",
              "Name          0\n",
              "Sex           0\n",
              "Age         177\n",
              "SibSp         0\n",
              "Parch         0\n",
              "Ticket        0\n",
              "Fare          0\n",
              "Cabin       687\n",
              "Embarked      2\n",
              "dtype: int64"
            ]
          },
          "metadata": {},
          "execution_count": 92
        }
      ],
      "source": [
        "# Are there any missing values? In what columns?\n",
        "\n",
        "dataset.isna().sum()\n",
        "\n",
        "# Total: 891\n",
        "# Yes, there are missimg values in Age, Cabin (many!), Embarked"
      ]
    },
    {
      "cell_type": "code",
      "source": [
        "# What is the percentage of survived passengers? Are the classes balanced?\n",
        "\n",
        "percentage = dataset.Survived.sum() * 100 / len(dataset)\n",
        "print(f'Percentage of survived passengers: {percentage}')\n",
        "\n",
        "# 38.38\n",
        "# Inbalanced, because we have a big difference between the number of survivors \n",
        "# and non-survivors \n",
        "# (there are a lot of people who didn't survive, but few of those who survived)"
      ],
      "metadata": {
        "colab": {
          "base_uri": "https://localhost:8080/"
        },
        "id": "6YJtMtjlBPwZ",
        "outputId": "692d084e-f524-4fbc-b212-aac53c973456"
      },
      "execution_count": null,
      "outputs": [
        {
          "output_type": "stream",
          "name": "stdout",
          "text": [
            "Percentage of survived passengers: 38.38383838383838\n"
          ]
        }
      ]
    },
    {
      "cell_type": "code",
      "source": [
        "# Were there more males or females?\n",
        "\n",
        "vc = dataset['Sex'].value_counts()\n",
        "id = vc.idxmax()\n",
        "count = vc.max()\n",
        "print(f'More {id} ({count})')\n",
        "\n",
        "# Male"
      ],
      "metadata": {
        "colab": {
          "base_uri": "https://localhost:8080/"
        },
        "id": "i8_zfb3e2FoW",
        "outputId": "405f610e-7b8c-46ac-dda3-25cdc7e19c84"
      },
      "execution_count": null,
      "outputs": [
        {
          "output_type": "stream",
          "name": "stdout",
          "text": [
            "More male (577)\n"
          ]
        }
      ]
    },
    {
      "cell_type": "code",
      "source": [
        "# What what the least popular port of embarkation?\n",
        "\n",
        "least_popular = dataset['Embarked'].value_counts().idxmin()\n",
        "print(f'The least popular port of embarkation: {least_popular}')\n",
        "\n",
        "# Q"
      ],
      "metadata": {
        "colab": {
          "base_uri": "https://localhost:8080/"
        },
        "id": "UeEZJaZq2F5D",
        "outputId": "23557208-ec83-4c84-e2e2-7c9a524b9267"
      },
      "execution_count": null,
      "outputs": [
        {
          "output_type": "stream",
          "name": "stdout",
          "text": [
            "The least popular port of embarkation: Q\n"
          ]
        }
      ]
    },
    {
      "cell_type": "code",
      "source": [
        "# How many classes (pclass) were there on Tinanic?\n",
        "\n",
        "count_of_classes = len(dataset['Pclass'].value_counts())\n",
        "print(f'Count of classes: {count_of_classes}')\n",
        "\n",
        "# 3"
      ],
      "metadata": {
        "colab": {
          "base_uri": "https://localhost:8080/"
        },
        "id": "oTM329xJ2GAD",
        "outputId": "a425d90c-e39b-4bbf-d7b1-a74d14387f7c"
      },
      "execution_count": null,
      "outputs": [
        {
          "output_type": "stream",
          "name": "stdout",
          "text": [
            "Count of classes: 3\n"
          ]
        }
      ]
    },
    {
      "cell_type": "code",
      "source": [
        "# What is the overall average ticket fare? And for every class?\n",
        "\n",
        "overall = dataset['Fare'].mean()\n",
        "\n",
        "# 32.2\n",
        "\n",
        "print(f'Overall percentage of survived: {overall}')\n",
        "print('For classes')\n",
        "print(dataset.groupby('Pclass')['Fare'].mean())\n",
        "\n",
        "# 1: 84.15; 2: 20.66; 3: 13.68"
      ],
      "metadata": {
        "colab": {
          "base_uri": "https://localhost:8080/"
        },
        "id": "RNsT90Wl2GHA",
        "outputId": "b2367d04-1f25-49ff-93c2-b3c45c618c30"
      },
      "execution_count": null,
      "outputs": [
        {
          "output_type": "stream",
          "name": "stdout",
          "text": [
            "Overall percentage of survived: 32.204207968574636\n",
            "For classes\n",
            "Pclass\n",
            "1    84.154687\n",
            "2    20.662183\n",
            "3    13.675550\n",
            "Name: Fare, dtype: float64\n"
          ]
        }
      ]
    },
    {
      "cell_type": "markdown",
      "metadata": {
        "id": "WDaBVF7XTd_N"
      },
      "source": [
        "**Task 2** (0.5 points) <br/>\n",
        "Visualize age distribution (you may use a histogram, for example). \n",
        "\n",
        "    * What is the minimal and maximum ages of the passengers? Visualize it on the plot\n",
        "    * What is the mean age? And among males and females sepatately? Visualize it on the plot\n",
        "    * Make conclusions about what you see on the plot"
      ]
    },
    {
      "cell_type": "code",
      "execution_count": null,
      "metadata": {
        "id": "1geIRo4fTd_N",
        "colab": {
          "base_uri": "https://localhost:8080/"
        },
        "outputId": "701566ce-d889-4d4f-c202-292a565cecf5"
      },
      "outputs": [
        {
          "output_type": "stream",
          "name": "stdout",
          "text": [
            "Minimal age of the passengers: 0.42\n",
            "Maximum age of the passengers: 80.0\n"
          ]
        }
      ],
      "source": [
        "# What is the minimal and maximum ages of the passengers?\n",
        "\n",
        "min = dataset['Age'].min()\n",
        "print(f'Minimal age of the passengers: {min}')\n",
        "\n",
        "# 0.42\n",
        "\n",
        "max = dataset['Age'].max()\n",
        "print(f'Maximum age of the passengers: {max}')\n",
        "\n",
        "# 80.0"
      ]
    },
    {
      "cell_type": "code",
      "source": [
        "# What is the mean age? And among males and females sepatately?\n",
        "\n",
        "mean = dataset['Age'].mean()\n",
        "print(f'Mean age of the passengers: {mean}')\n",
        "\n",
        "# 29.7\n",
        "\n",
        "print(f'Mean age for each')\n",
        "dataset.groupby('Sex')['Age'].mean()\n",
        "\n",
        "# Female: 27.92; Male: 30.73"
      ],
      "metadata": {
        "colab": {
          "base_uri": "https://localhost:8080/"
        },
        "id": "ljHQZ1gfZxHf",
        "outputId": "88f30706-8f78-46fd-ce3b-88461c6be351"
      },
      "execution_count": null,
      "outputs": [
        {
          "output_type": "stream",
          "name": "stdout",
          "text": [
            "Mean age of the passengers: 29.69911764705882\n",
            "Mean age for each\n"
          ]
        },
        {
          "output_type": "execute_result",
          "data": {
            "text/plain": [
              "Sex\n",
              "female    27.915709\n",
              "male      30.726645\n",
              "Name: Age, dtype: float64"
            ]
          },
          "metadata": {},
          "execution_count": 99
        }
      ]
    },
    {
      "cell_type": "code",
      "source": [
        "# Visualization\n",
        "\n",
        "dataset[\"Age\"].hist(bins=20)\n",
        "plt.vlines(min, 0, 100, color='r')\n",
        "plt.vlines(mean, 0, 100, color='g')\n",
        "plt.vlines(max, 0, 100, color='b')\n",
        "plt.show()"
      ],
      "metadata": {
        "colab": {
          "base_uri": "https://localhost:8080/",
          "height": 265
        },
        "id": "2nuM0OSZousJ",
        "outputId": "fd0011f4-3b08-4884-d7fd-3693c9688871"
      },
      "execution_count": null,
      "outputs": [
        {
          "output_type": "display_data",
          "data": {
            "text/plain": [
              "<Figure size 432x288 with 1 Axes>"
            ],
            "image/png": "[encoded data removed]"
          },
          "metadata": {
            "needs_background": "light"
          }
        }
      ]
    },
    {
      "cell_type": "markdown",
      "source": [
        "Make conclusions about what you see on the plot\n",
        "\n",
        "It is inbalanced to the right\n",
        "\n",
        "The histogram shows that most of the young people on board were between the ages of 20 and 40\n"
      ],
      "metadata": {
        "id": "6JmoG0FtIvcR"
      }
    },
    {
      "cell_type": "markdown",
      "metadata": {
        "id": "j0P60zlPTd_N"
      },
      "source": [
        "**Task 3** (1 points) <br/>\n",
        "Find all the titles of the passengers (example, *Capt., Mr.,Mme.*), which are written in the column Name, and answer the following questions:\n",
        "\n",
        "    * How many are there unique titles?\n",
        "    * How many are there passengers with every title?\n",
        "    * What is the most popular man's title? And woman's title?\n",
        "    \n",
        "**Hint** You may select the title from the name as a word which contains a dot."
      ]
    },
    {
      "cell_type": "code",
      "execution_count": null,
      "metadata": {
        "id": "I4MY8ErLTd_N",
        "colab": {
          "base_uri": "https://localhost:8080/"
        },
        "outputId": "d9225e0e-a8be-438e-fdf4-69fb466bdd4c"
      },
      "outputs": [
        {
          "output_type": "stream",
          "name": "stdout",
          "text": [
            "Count of unique titles: 17\n"
          ]
        }
      ],
      "source": [
        "# How many are there unique titles?\n",
        "\n",
        "titles = dataset[\"Name\"].apply(lambda s: (s.split(\",\")[1]).split('.')[0])\n",
        "print(f'Count of unique titles: {len(titles.unique())}')\n",
        "\n",
        "# 17"
      ]
    },
    {
      "cell_type": "code",
      "source": [
        "# How many are there passengers with every title?\n",
        "\n",
        "print('Passengers with every title')\n",
        "print(titles.value_counts())"
      ],
      "metadata": {
        "colab": {
          "base_uri": "https://localhost:8080/"
        },
        "id": "0nPxuJ8BjM_s",
        "outputId": "21f2d915-715c-4b3a-c1c8-1775534cbde3"
      },
      "execution_count": null,
      "outputs": [
        {
          "output_type": "stream",
          "name": "stdout",
          "text": [
            "Passengers with every title\n",
            " Mr              517\n",
            " Miss            182\n",
            " Mrs             125\n",
            " Master           40\n",
            " Dr                7\n",
            " Rev               6\n",
            " Mlle              2\n",
            " Major             2\n",
            " Col               2\n",
            " the Countess      1\n",
            " Capt              1\n",
            " Ms                1\n",
            " Sir               1\n",
            " Lady              1\n",
            " Mme               1\n",
            " Don               1\n",
            " Jonkheer          1\n",
            "Name: Name, dtype: int64\n"
          ]
        }
      ]
    },
    {
      "cell_type": "code",
      "source": [
        "# What is the most popular man's title? And woman's title?\n",
        "\n",
        "most_for_male = dataset[dataset.Sex == 'male'][\"Name\"].apply(lambda s: (s.split(\",\")[1]).split('.')[0]).value_counts()\n",
        "print(f'Most popular for man is{most_for_male.idxmax()} with {most_for_male.max()} titles')\n",
        "\n",
        "# Mr (517)\n",
        "\n",
        "most_for_female = dataset[dataset.Sex == 'female'][\"Name\"].apply(lambda s: (s.split(\",\")[1]).split('.')[0]).value_counts()\n",
        "print(f'Most popular for woman is{most_for_female.idxmax()} with {most_for_female.max()} titles')\n",
        "\n",
        "# Miss (182)"
      ],
      "metadata": {
        "colab": {
          "base_uri": "https://localhost:8080/"
        },
        "id": "weuXZdwKkHQu",
        "outputId": "1411c1df-99e6-413e-9121-daa37956b935"
      },
      "execution_count": null,
      "outputs": [
        {
          "output_type": "stream",
          "name": "stdout",
          "text": [
            "Most popular for man is Mr with 517 titles\n",
            "Most popular for woman is Miss with 182 titles\n"
          ]
        }
      ]
    },
    {
      "cell_type": "markdown",
      "metadata": {
        "id": "aLx6LkDbTd_N"
      },
      "source": [
        "**Task 4** (0.5 points) <br/>\n",
        "Is there correlation between *pclass* and *ticket price*? Calculate mean price for each port and visualize prize distribution for each port. Make conclusions about what you see on the plot\n",
        "\n",
        "Hint: you could make one or several plot types i.e.  box, violine, pair, histogram (see additional notebooks for Seminar 1 \"Visualization with Seaborn\"). main point here is to **choose** plots wisely and **make meaningful conclusions**\n",
        "\n"
      ]
    },
    {
      "cell_type": "code",
      "execution_count": null,
      "metadata": {
        "id": "-LQALjerTd_N",
        "colab": {
          "base_uri": "https://localhost:8080/"
        },
        "outputId": "46ad81a8-4333-4ec6-8008-e9b720815efa"
      },
      "outputs": [
        {
          "output_type": "stream",
          "name": "stdout",
          "text": [
            "Correlation between Pclass and Ticket price: -0.5494996199439074\n"
          ]
        }
      ],
      "source": [
        "corr_class_fare = dataset.Pclass.corr(dataset.Fare)\n",
        "print(f'Correlation between Pclass and Ticket price: {corr_class_fare}')\n",
        "\n",
        "# -0.55\n",
        "\n",
        "# There is a correlation between these features\n",
        "# It is negative, so the dependence is reversed\n",
        "# A ticket to a bigger class is cheaper (1 - the most expensive)"
      ]
    },
    {
      "cell_type": "code",
      "source": [
        "mean_price_for_port = dataset.groupby('Pclass')['Fare'].mean()\n",
        "print('Mean prices for each Class')\n",
        "print(mean_price_for_port)\n",
        "\n",
        "# 1: 84.15; 2: 20.66; 3: 13.68"
      ],
      "metadata": {
        "id": "dsvnw-HZ8tZV",
        "colab": {
          "base_uri": "https://localhost:8080/"
        },
        "outputId": "4b6c8b0b-3ed1-4a42-9c9e-3d3f50b82c58"
      },
      "execution_count": null,
      "outputs": [
        {
          "output_type": "stream",
          "name": "stdout",
          "text": [
            "Mean prices for each Class\n",
            "Pclass\n",
            "1    84.154687\n",
            "2    20.662183\n",
            "3    13.675550\n",
            "Name: Fare, dtype: float64\n"
          ]
        }
      ]
    },
    {
      "cell_type": "code",
      "source": [
        "# Visualization\n",
        "plot = sns.catplot(x = 'Pclass', y = 'Fare', data = dataset, kind = \"box\")\n",
        "plot.set(title = 'Ticket price Distribution for Pclass', xlabel = 'Pclass', ylabel = 'Fare');\n",
        "plt.show()"
      ],
      "metadata": {
        "id": "Sk1SoJnf8vTX",
        "colab": {
          "base_uri": "https://localhost:8080/",
          "height": 385
        },
        "outputId": "33545507-3473-4019-da81-9ea8f00f06a5"
      },
      "execution_count": null,
      "outputs": [
        {
          "output_type": "display_data",
          "data": {
            "text/plain": [
              "<Figure size 360x360 with 1 Axes>"
            ],
            "image/png": "[encoded data removed]"
          },
          "metadata": {
            "needs_background": "light"
          }
        }
      ]
    },
    {
      "cell_type": "markdown",
      "source": [
        "Make conclusions about what you see on the plot\n",
        "\n",
        "First class tickets are the most expensive\n",
        "\n",
        "The graph confirms the conclusions about the correlation"
      ],
      "metadata": {
        "id": "-Jd3J8GbJKqz"
      }
    },
    {
      "cell_type": "markdown",
      "metadata": {
        "id": "kkF7tSuvTd_O"
      },
      "source": [
        "**Task 5** (0.5 points) <br/>\n",
        "The same question as in task 4 about correlation between *embarked* and *ticket priсe*."
      ]
    },
    {
      "cell_type": "code",
      "source": [
        "mean_price_for_port = dataset.groupby('Embarked')['Fare'].mean()\n",
        "print('Mean prices for each Port')\n",
        "print(mean_price_for_port)\n",
        "\n",
        "# C: 59.95; Q: 13.28; S: 27.08"
      ],
      "metadata": {
        "colab": {
          "base_uri": "https://localhost:8080/"
        },
        "id": "qftE5mzfT0Dq",
        "outputId": "8ed6756b-a6cf-43f2-a418-4ee4863777e4"
      },
      "execution_count": null,
      "outputs": [
        {
          "output_type": "stream",
          "name": "stdout",
          "text": [
            "Mean prices for each Port\n",
            "Embarked\n",
            "C    59.954144\n",
            "Q    13.276030\n",
            "S    27.079812\n",
            "Name: Fare, dtype: float64\n"
          ]
        }
      ]
    },
    {
      "cell_type": "code",
      "source": [
        "# Visualization\n",
        "plot = sns.catplot(x = 'Embarked', y = 'Fare', data = dataset, kind = 'box')\n",
        "plot.set(title = 'Ticket price Distribution for Port', xlabel = 'Embarked', ylabel = 'Fare');\n",
        "plt.show()"
      ],
      "metadata": {
        "colab": {
          "base_uri": "https://localhost:8080/",
          "height": 385
        },
        "id": "v2wO_U1-T1gC",
        "outputId": "2686ecb9-11b9-4abd-fab8-d27731e33cfb"
      },
      "execution_count": null,
      "outputs": [
        {
          "output_type": "display_data",
          "data": {
            "text/plain": [
              "<Figure size 360x360 with 1 Axes>"
            ],
            "image/png": "[encoded data removed]"
          },
          "metadata": {
            "needs_background": "light"
          }
        }
      ]
    },
    {
      "cell_type": "markdown",
      "source": [
        "Make conclusions about what you see on the plot\n",
        "\n",
        "There are correlation between pory of embarkation and ticket price\n",
        "\n",
        "Tickets in Cherbourg are the most expensive, in Queenstown - the cheapest"
      ],
      "metadata": {
        "id": "nw0-IsGDVEc2"
      }
    },
    {
      "cell_type": "markdown",
      "metadata": {
        "id": "6LA6mvDfTd_O"
      },
      "source": [
        "**Task 6** (0.5 points) <br/>\n",
        "Visualize age distribution for survived and not survived passengers separately and calculate the mean age for each class. Are they different? Provide the same visualization for males and females separately. Make conclusions about what you see on the plots"
      ]
    },
    {
      "cell_type": "code",
      "execution_count": null,
      "metadata": {
        "id": "aRZOgB61Td_O",
        "colab": {
          "base_uri": "https://localhost:8080/",
          "height": 385
        },
        "outputId": "33c250a3-6dd9-44de-8ede-73660b6af37f"
      },
      "outputs": [
        {
          "output_type": "display_data",
          "data": {
            "text/plain": [
              "<Figure size 360x360 with 1 Axes>"
            ],
            "image/png": "[encoded data removed]"
          },
          "metadata": {
            "needs_background": "light"
          }
        }
      ],
      "source": [
        "plot = sns.catplot(x = \"Survived\", y = \"Age\", data = dataset, kind = \"box\")\n",
        "plot.set(title = 'Age Distribution for Survived', xlabel = 'Survived', ylabel = 'Age');\n",
        "plt.show()"
      ]
    },
    {
      "cell_type": "code",
      "source": [
        "print('Mean age for each class')\n",
        "print(dataset.groupby('Pclass')['Age'].mean())\n",
        "# 1: 38.23; 2: 29.88; 3: 25.14"
      ],
      "metadata": {
        "colab": {
          "base_uri": "https://localhost:8080/"
        },
        "id": "idYAfzeYfrAC",
        "outputId": "c41e12b9-4f76-485c-8e08-f73f3887068a"
      },
      "execution_count": null,
      "outputs": [
        {
          "output_type": "stream",
          "name": "stdout",
          "text": [
            "Mean age for each class\n",
            "Pclass\n",
            "1    38.233441\n",
            "2    29.877630\n",
            "3    25.140620\n",
            "Name: Age, dtype: float64\n"
          ]
        }
      ]
    },
    {
      "cell_type": "code",
      "source": [
        "plot = sns.catplot(x = \"Sex\", y = \"Age\", data = dataset, kind = \"box\")\n",
        "plot.set(title = 'Age Distribution for Sex', xlabel = 'Sex', ylabel = 'Age');\n",
        "plt.show()"
      ],
      "metadata": {
        "colab": {
          "base_uri": "https://localhost:8080/",
          "height": 385
        },
        "id": "LL1CMuSufpdK",
        "outputId": "f963894c-62f9-423d-942c-eb083800a982"
      },
      "execution_count": null,
      "outputs": [
        {
          "output_type": "display_data",
          "data": {
            "text/plain": [
              "<Figure size 360x360 with 1 Axes>"
            ],
            "image/png": "[encoded data removed]"
          },
          "metadata": {
            "needs_background": "light"
          }
        }
      ]
    },
    {
      "cell_type": "code",
      "source": [
        "print('Mean age')\n",
        "print(dataset.groupby('Sex')['Age'].mean())\n",
        "# Female: 27.92; Male: 30.73"
      ],
      "metadata": {
        "colab": {
          "base_uri": "https://localhost:8080/"
        },
        "id": "X3H1idkU8JnJ",
        "outputId": "e5c9dca0-53c2-46a1-851a-c8a5b41081f5"
      },
      "execution_count": null,
      "outputs": [
        {
          "output_type": "stream",
          "name": "stdout",
          "text": [
            "Mean age\n",
            "Sex\n",
            "female    27.915709\n",
            "male      30.726645\n",
            "Name: Age, dtype: float64\n"
          ]
        }
      ]
    },
    {
      "cell_type": "code",
      "source": [
        "plot = sns.barplot(x = \"Sex\", y = \"Survived\", data = dataset)\n",
        "plot.set(title = 'Survived  Distribution for Sex', xlabel = 'Sex', ylabel = 'Survived');\n",
        "plt.show()"
      ],
      "metadata": {
        "colab": {
          "base_uri": "https://localhost:8080/",
          "height": 295
        },
        "id": "RbR6jmsFZbnW",
        "outputId": "704f49a2-59ce-4e4e-9c52-913df6919f10"
      },
      "execution_count": null,
      "outputs": [
        {
          "output_type": "display_data",
          "data": {
            "text/plain": [
              "<Figure size 432x288 with 1 Axes>"
            ],
            "image/png": "[encoded data removed]"
          },
          "metadata": {
            "needs_background": "light"
          }
        }
      ]
    },
    {
      "cell_type": "code",
      "source": [
        "dataset.groupby('Sex')['Age'].mean()"
      ],
      "metadata": {
        "colab": {
          "base_uri": "https://localhost:8080/"
        },
        "id": "SB_Bu36HeS3y",
        "outputId": "4d4c68d9-4fb7-49ae-f7a5-506781412922"
      },
      "execution_count": null,
      "outputs": [
        {
          "output_type": "execute_result",
          "data": {
            "text/plain": [
              "Sex\n",
              "female    27.915709\n",
              "male      30.726645\n",
              "Name: Age, dtype: float64"
            ]
          },
          "metadata": {},
          "execution_count": 114
        }
      ]
    },
    {
      "cell_type": "markdown",
      "source": [
        "Make conclusions about what you see on the plots\n",
        "\n",
        "Most of the women on board survived\n",
        "\n",
        "The age of most survivors is in the range of 20 - 40\n",
        "\n",
        "On average, men are older than women on board"
      ],
      "metadata": {
        "id": "Uefl0I3HFZcS"
      }
    },
    {
      "cell_type": "markdown",
      "source": [
        "# Brief conclusion\n",
        "\n",
        "Very interesting homework\n",
        "\n",
        "As a person who is now actively studying this field, I liked the fact that all the material needed to complete these tasks was sorted out at lectures and seminars. It was moderately easy and difficult.\n",
        "\n",
        "Thanks)"
      ],
      "metadata": {
        "id": "s-PEaAuxXRDn"
      }
    }
  ],
  "metadata": {
    "kernelspec": {
      "display_name": "Python 3 (ipykernel)",
      "language": "python",
      "name": "python3"
    },
    "language_info": {
      "codemirror_mode": {
        "name": "ipython",
        "version": 3
      },
      "file_extension": ".py",
      "mimetype": "text/x-python",
      "name": "python",
      "nbconvert_exporter": "python",
      "pygments_lexer": "ipython3",
      "version": "3.9.7"
    },
    "colab": {
      "provenance": [],
      "collapsed_sections": []
    }
  },
  "nbformat": 4,
  "nbformat_minor": 0
}